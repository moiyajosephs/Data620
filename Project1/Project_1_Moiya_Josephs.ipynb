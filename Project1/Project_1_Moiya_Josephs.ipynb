{
  "cells": [
    {
      "cell_type": "markdown",
      "metadata": {
        "id": "LQs2lEhqQlaa"
      },
      "source": [
        "# Project 1\n",
        "### Moiya Josephs\n",
        "\n",
        "\n",
        "## Ask\n",
        "\n",
        "For your first project, you are asked to\n",
        "\n",
        "1. Identify and load a network dataset that has some categorical information available for each node.\n",
        "2. For each of the nodes in the dataset, calculate degree centrality and eigenvector centrality.\n",
        "3. Compare your centrality measures across your categorical groups.\n",
        "\n",
        "## Overview\n",
        "\n",
        "For my first project I will be using Amazon electronic Data set reviews and analysing using network anaylis the difference between higher rated items versus lower rated items. I hypothesize that the items with the higher reviews will have more connections than the items that are lower rated."
      ]
    },
    {
      "cell_type": "code",
      "execution_count": 48,
      "metadata": {
        "id": "7Mr3ro-2Qlac"
      },
      "outputs": [],
      "source": [
        "import networkx as nx\n",
        "from networkx.algorithms import approximation as approx\n",
        "import pandas as pd\n",
        "import matplotlib.pyplot as plt\n"
      ]
    },
    {
      "cell_type": "code",
      "execution_count": 11,
      "metadata": {
        "id": "W6UxH5pjQlad"
      },
      "outputs": [],
      "source": [
        "df = pd.read_csv('https://raw.githubusercontent.com/MengtingWan/marketBias/master/data/df_electronics.csv')"
      ]
    },
    {
      "cell_type": "markdown",
      "metadata": {
        "id": "k9GYcUQ-Qlad"
      },
      "source": [
        "Here is a peak of the data and how it is structured. It has an item_id, a user_id, rating, timestamp of the rating, the gender of the item and brand."
      ]
    },
    {
      "cell_type": "code",
      "execution_count": 12,
      "metadata": {
        "colab": {
          "base_uri": "https://localhost:8080/",
          "height": 206
        },
        "id": "NS8l3khrQlad",
        "outputId": "10b36282-4770-4c44-d765-7be6192a14ee"
      },
      "outputs": [
        {
          "output_type": "execute_result",
          "data": {
            "text/plain": [
              "   item_id  user_id  rating   timestamp model_attr                category  \\\n",
              "0        0        0     5.0  1999-06-13     Female  Portable Audio & Video   \n",
              "1        0        1     5.0  1999-06-14     Female  Portable Audio & Video   \n",
              "2        0        2     3.0  1999-06-17     Female  Portable Audio & Video   \n",
              "3        0        3     1.0  1999-07-01     Female  Portable Audio & Video   \n",
              "4        0        4     2.0  1999-07-06     Female  Portable Audio & Video   \n",
              "\n",
              "  brand  year user_attr  split  \n",
              "0   NaN  1999       NaN      0  \n",
              "1   NaN  1999       NaN      0  \n",
              "2   NaN  1999       NaN      0  \n",
              "3   NaN  1999       NaN      0  \n",
              "4   NaN  1999       NaN      0  "
            ],
            "text/html": [
              "\n",
              "  <div id=\"df-0cf82fef-88e1-483a-9849-cf6207621c25\" class=\"colab-df-container\">\n",
              "    <div>\n",
              "<style scoped>\n",
              "    .dataframe tbody tr th:only-of-type {\n",
              "        vertical-align: middle;\n",
              "    }\n",
              "\n",
              "    .dataframe tbody tr th {\n",
              "        vertical-align: top;\n",
              "    }\n",
              "\n",
              "    .dataframe thead th {\n",
              "        text-align: right;\n",
              "    }\n",
              "</style>\n",
              "<table border=\"1\" class=\"dataframe\">\n",
              "  <thead>\n",
              "    <tr style=\"text-align: right;\">\n",
              "      <th></th>\n",
              "      <th>item_id</th>\n",
              "      <th>user_id</th>\n",
              "      <th>rating</th>\n",
              "      <th>timestamp</th>\n",
              "      <th>model_attr</th>\n",
              "      <th>category</th>\n",
              "      <th>brand</th>\n",
              "      <th>year</th>\n",
              "      <th>user_attr</th>\n",
              "      <th>split</th>\n",
              "    </tr>\n",
              "  </thead>\n",
              "  <tbody>\n",
              "    <tr>\n",
              "      <th>0</th>\n",
              "      <td>0</td>\n",
              "      <td>0</td>\n",
              "      <td>5.0</td>\n",
              "      <td>1999-06-13</td>\n",
              "      <td>Female</td>\n",
              "      <td>Portable Audio &amp; Video</td>\n",
              "      <td>NaN</td>\n",
              "      <td>1999</td>\n",
              "      <td>NaN</td>\n",
              "      <td>0</td>\n",
              "    </tr>\n",
              "    <tr>\n",
              "      <th>1</th>\n",
              "      <td>0</td>\n",
              "      <td>1</td>\n",
              "      <td>5.0</td>\n",
              "      <td>1999-06-14</td>\n",
              "      <td>Female</td>\n",
              "      <td>Portable Audio &amp; Video</td>\n",
              "      <td>NaN</td>\n",
              "      <td>1999</td>\n",
              "      <td>NaN</td>\n",
              "      <td>0</td>\n",
              "    </tr>\n",
              "    <tr>\n",
              "      <th>2</th>\n",
              "      <td>0</td>\n",
              "      <td>2</td>\n",
              "      <td>3.0</td>\n",
              "      <td>1999-06-17</td>\n",
              "      <td>Female</td>\n",
              "      <td>Portable Audio &amp; Video</td>\n",
              "      <td>NaN</td>\n",
              "      <td>1999</td>\n",
              "      <td>NaN</td>\n",
              "      <td>0</td>\n",
              "    </tr>\n",
              "    <tr>\n",
              "      <th>3</th>\n",
              "      <td>0</td>\n",
              "      <td>3</td>\n",
              "      <td>1.0</td>\n",
              "      <td>1999-07-01</td>\n",
              "      <td>Female</td>\n",
              "      <td>Portable Audio &amp; Video</td>\n",
              "      <td>NaN</td>\n",
              "      <td>1999</td>\n",
              "      <td>NaN</td>\n",
              "      <td>0</td>\n",
              "    </tr>\n",
              "    <tr>\n",
              "      <th>4</th>\n",
              "      <td>0</td>\n",
              "      <td>4</td>\n",
              "      <td>2.0</td>\n",
              "      <td>1999-07-06</td>\n",
              "      <td>Female</td>\n",
              "      <td>Portable Audio &amp; Video</td>\n",
              "      <td>NaN</td>\n",
              "      <td>1999</td>\n",
              "      <td>NaN</td>\n",
              "      <td>0</td>\n",
              "    </tr>\n",
              "  </tbody>\n",
              "</table>\n",
              "</div>\n",
              "    <div class=\"colab-df-buttons\">\n",
              "\n",
              "  <div class=\"colab-df-container\">\n",
              "    <button class=\"colab-df-convert\" onclick=\"convertToInteractive('df-0cf82fef-88e1-483a-9849-cf6207621c25')\"\n",
              "            title=\"Convert this dataframe to an interactive table.\"\n",
              "            style=\"display:none;\">\n",
              "\n",
              "  <svg xmlns=\"http://www.w3.org/2000/svg\" height=\"24px\" viewBox=\"0 -960 960 960\">\n",
              "    <path d=\"M120-120v-720h720v720H120Zm60-500h600v-160H180v160Zm220 220h160v-160H400v160Zm0 220h160v-160H400v160ZM180-400h160v-160H180v160Zm440 0h160v-160H620v160ZM180-180h160v-160H180v160Zm440 0h160v-160H620v160Z\"/>\n",
              "  </svg>\n",
              "    </button>\n",
              "\n",
              "  <style>\n",
              "    .colab-df-container {\n",
              "      display:flex;\n",
              "      gap: 12px;\n",
              "    }\n",
              "\n",
              "    .colab-df-convert {\n",
              "      background-color: #E8F0FE;\n",
              "      border: none;\n",
              "      border-radius: 50%;\n",
              "      cursor: pointer;\n",
              "      display: none;\n",
              "      fill: #1967D2;\n",
              "      height: 32px;\n",
              "      padding: 0 0 0 0;\n",
              "      width: 32px;\n",
              "    }\n",
              "\n",
              "    .colab-df-convert:hover {\n",
              "      background-color: #E2EBFA;\n",
              "      box-shadow: 0px 1px 2px rgba(60, 64, 67, 0.3), 0px 1px 3px 1px rgba(60, 64, 67, 0.15);\n",
              "      fill: #174EA6;\n",
              "    }\n",
              "\n",
              "    .colab-df-buttons div {\n",
              "      margin-bottom: 4px;\n",
              "    }\n",
              "\n",
              "    [theme=dark] .colab-df-convert {\n",
              "      background-color: #3B4455;\n",
              "      fill: #D2E3FC;\n",
              "    }\n",
              "\n",
              "    [theme=dark] .colab-df-convert:hover {\n",
              "      background-color: #434B5C;\n",
              "      box-shadow: 0px 1px 3px 1px rgba(0, 0, 0, 0.15);\n",
              "      filter: drop-shadow(0px 1px 2px rgba(0, 0, 0, 0.3));\n",
              "      fill: #FFFFFF;\n",
              "    }\n",
              "  </style>\n",
              "\n",
              "    <script>\n",
              "      const buttonEl =\n",
              "        document.querySelector('#df-0cf82fef-88e1-483a-9849-cf6207621c25 button.colab-df-convert');\n",
              "      buttonEl.style.display =\n",
              "        google.colab.kernel.accessAllowed ? 'block' : 'none';\n",
              "\n",
              "      async function convertToInteractive(key) {\n",
              "        const element = document.querySelector('#df-0cf82fef-88e1-483a-9849-cf6207621c25');\n",
              "        const dataTable =\n",
              "          await google.colab.kernel.invokeFunction('convertToInteractive',\n",
              "                                                    [key], {});\n",
              "        if (!dataTable) return;\n",
              "\n",
              "        const docLinkHtml = 'Like what you see? Visit the ' +\n",
              "          '<a target=\"_blank\" href=https://colab.research.google.com/notebooks/data_table.ipynb>data table notebook</a>'\n",
              "          + ' to learn more about interactive tables.';\n",
              "        element.innerHTML = '';\n",
              "        dataTable['output_type'] = 'display_data';\n",
              "        await google.colab.output.renderOutput(dataTable, element);\n",
              "        const docLink = document.createElement('div');\n",
              "        docLink.innerHTML = docLinkHtml;\n",
              "        element.appendChild(docLink);\n",
              "      }\n",
              "    </script>\n",
              "  </div>\n",
              "\n",
              "\n",
              "<div id=\"df-099c99b7-5b30-4294-b258-80eac67c5e05\">\n",
              "  <button class=\"colab-df-quickchart\" onclick=\"quickchart('df-099c99b7-5b30-4294-b258-80eac67c5e05')\"\n",
              "            title=\"Suggest charts\"\n",
              "            style=\"display:none;\">\n",
              "\n",
              "<svg xmlns=\"http://www.w3.org/2000/svg\" height=\"24px\"viewBox=\"0 0 24 24\"\n",
              "     width=\"24px\">\n",
              "    <g>\n",
              "        <path d=\"M19 3H5c-1.1 0-2 .9-2 2v14c0 1.1.9 2 2 2h14c1.1 0 2-.9 2-2V5c0-1.1-.9-2-2-2zM9 17H7v-7h2v7zm4 0h-2V7h2v10zm4 0h-2v-4h2v4z\"/>\n",
              "    </g>\n",
              "</svg>\n",
              "  </button>\n",
              "\n",
              "<style>\n",
              "  .colab-df-quickchart {\n",
              "      --bg-color: #E8F0FE;\n",
              "      --fill-color: #1967D2;\n",
              "      --hover-bg-color: #E2EBFA;\n",
              "      --hover-fill-color: #174EA6;\n",
              "      --disabled-fill-color: #AAA;\n",
              "      --disabled-bg-color: #DDD;\n",
              "  }\n",
              "\n",
              "  [theme=dark] .colab-df-quickchart {\n",
              "      --bg-color: #3B4455;\n",
              "      --fill-color: #D2E3FC;\n",
              "      --hover-bg-color: #434B5C;\n",
              "      --hover-fill-color: #FFFFFF;\n",
              "      --disabled-bg-color: #3B4455;\n",
              "      --disabled-fill-color: #666;\n",
              "  }\n",
              "\n",
              "  .colab-df-quickchart {\n",
              "    background-color: var(--bg-color);\n",
              "    border: none;\n",
              "    border-radius: 50%;\n",
              "    cursor: pointer;\n",
              "    display: none;\n",
              "    fill: var(--fill-color);\n",
              "    height: 32px;\n",
              "    padding: 0;\n",
              "    width: 32px;\n",
              "  }\n",
              "\n",
              "  .colab-df-quickchart:hover {\n",
              "    background-color: var(--hover-bg-color);\n",
              "    box-shadow: 0 1px 2px rgba(60, 64, 67, 0.3), 0 1px 3px 1px rgba(60, 64, 67, 0.15);\n",
              "    fill: var(--button-hover-fill-color);\n",
              "  }\n",
              "\n",
              "  .colab-df-quickchart-complete:disabled,\n",
              "  .colab-df-quickchart-complete:disabled:hover {\n",
              "    background-color: var(--disabled-bg-color);\n",
              "    fill: var(--disabled-fill-color);\n",
              "    box-shadow: none;\n",
              "  }\n",
              "\n",
              "  .colab-df-spinner {\n",
              "    border: 2px solid var(--fill-color);\n",
              "    border-color: transparent;\n",
              "    border-bottom-color: var(--fill-color);\n",
              "    animation:\n",
              "      spin 1s steps(1) infinite;\n",
              "  }\n",
              "\n",
              "  @keyframes spin {\n",
              "    0% {\n",
              "      border-color: transparent;\n",
              "      border-bottom-color: var(--fill-color);\n",
              "      border-left-color: var(--fill-color);\n",
              "    }\n",
              "    20% {\n",
              "      border-color: transparent;\n",
              "      border-left-color: var(--fill-color);\n",
              "      border-top-color: var(--fill-color);\n",
              "    }\n",
              "    30% {\n",
              "      border-color: transparent;\n",
              "      border-left-color: var(--fill-color);\n",
              "      border-top-color: var(--fill-color);\n",
              "      border-right-color: var(--fill-color);\n",
              "    }\n",
              "    40% {\n",
              "      border-color: transparent;\n",
              "      border-right-color: var(--fill-color);\n",
              "      border-top-color: var(--fill-color);\n",
              "    }\n",
              "    60% {\n",
              "      border-color: transparent;\n",
              "      border-right-color: var(--fill-color);\n",
              "    }\n",
              "    80% {\n",
              "      border-color: transparent;\n",
              "      border-right-color: var(--fill-color);\n",
              "      border-bottom-color: var(--fill-color);\n",
              "    }\n",
              "    90% {\n",
              "      border-color: transparent;\n",
              "      border-bottom-color: var(--fill-color);\n",
              "    }\n",
              "  }\n",
              "</style>\n",
              "\n",
              "  <script>\n",
              "    async function quickchart(key) {\n",
              "      const quickchartButtonEl =\n",
              "        document.querySelector('#' + key + ' button');\n",
              "      quickchartButtonEl.disabled = true;  // To prevent multiple clicks.\n",
              "      quickchartButtonEl.classList.add('colab-df-spinner');\n",
              "      try {\n",
              "        const charts = await google.colab.kernel.invokeFunction(\n",
              "            'suggestCharts', [key], {});\n",
              "      } catch (error) {\n",
              "        console.error('Error during call to suggestCharts:', error);\n",
              "      }\n",
              "      quickchartButtonEl.classList.remove('colab-df-spinner');\n",
              "      quickchartButtonEl.classList.add('colab-df-quickchart-complete');\n",
              "    }\n",
              "    (() => {\n",
              "      let quickchartButtonEl =\n",
              "        document.querySelector('#df-099c99b7-5b30-4294-b258-80eac67c5e05 button');\n",
              "      quickchartButtonEl.style.display =\n",
              "        google.colab.kernel.accessAllowed ? 'block' : 'none';\n",
              "    })();\n",
              "  </script>\n",
              "</div>\n",
              "\n",
              "    </div>\n",
              "  </div>\n"
            ],
            "application/vnd.google.colaboratory.intrinsic+json": {
              "type": "dataframe",
              "variable_name": "df"
            }
          },
          "metadata": {},
          "execution_count": 12
        }
      ],
      "source": [
        "df.head()"
      ]
    },
    {
      "cell_type": "markdown",
      "metadata": {
        "id": "r8Q97lG6Qlae"
      },
      "source": [
        "## Data Exploration"
      ]
    },
    {
      "cell_type": "markdown",
      "metadata": {
        "id": "s7xqRi2rQlae"
      },
      "source": [
        "For this analysis, I will use the rating, userid and item id."
      ]
    },
    {
      "cell_type": "code",
      "execution_count": 13,
      "metadata": {
        "colab": {
          "base_uri": "https://localhost:8080/",
          "height": 534
        },
        "id": "of-Sv1D2Qlae",
        "outputId": "582b1556-b07e-4530-c80e-c8b3966131c5"
      },
      "outputs": [
        {
          "output_type": "execute_result",
          "data": {
            "text/plain": [
              "(array([143755.,      0.,      0.,      0.,      0.,  78648.,      0.,\n",
              "             0.,      0.,      0., 100630.,      0.,      0.,      0.,\n",
              "             0., 214166.,      0.,      0.,      0., 755755.]),\n",
              " array([1. , 1.2, 1.4, 1.6, 1.8, 2. , 2.2, 2.4, 2.6, 2.8, 3. , 3.2, 3.4,\n",
              "        3.6, 3.8, 4. , 4.2, 4.4, 4.6, 4.8, 5. ]),\n",
              " <BarContainer object of 20 artists>)"
            ]
          },
          "metadata": {},
          "execution_count": 13
        },
        {
          "output_type": "display_data",
          "data": {
            "text/plain": [
              "<Figure size 640x480 with 1 Axes>"
            ],
            "image/png": "[encoded data removed]"
          },
          "metadata": {}
        }
      ],
      "source": [
        "plt.hist(df['rating'], bins=20)"
      ]
    },
    {
      "cell_type": "markdown",
      "metadata": {
        "id": "r45YzI2tQlaf"
      },
      "source": [
        "The most common rating in this dataset is 5. The rating 5 has over 700,000 votes. The second most common rating is 4 followed by the value 1."
      ]
    },
    {
      "cell_type": "code",
      "execution_count": 14,
      "metadata": {
        "colab": {
          "base_uri": "https://localhost:8080/",
          "height": 535
        },
        "id": "NaR-1YnFQlaf",
        "outputId": "e95d6c8e-c7fb-4778-f15a-0786baddd028"
      },
      "outputs": [
        {
          "output_type": "execute_result",
          "data": {
            "text/plain": [
              "(array([481171.,      0.,      0.,      0.,      0.,      0.,      0.,\n",
              "             0.,      0.,      0., 382068.,      0.,      0.,      0.,\n",
              "             0.,      0.,      0.,      0.,      0., 429715.]),\n",
              " array([0. , 0.1, 0.2, 0.3, 0.4, 0.5, 0.6, 0.7, 0.8, 0.9, 1. , 1.1, 1.2,\n",
              "        1.3, 1.4, 1.5, 1.6, 1.7, 1.8, 1.9, 2. ]),\n",
              " <BarContainer object of 20 artists>)"
            ]
          },
          "metadata": {},
          "execution_count": 14
        },
        {
          "output_type": "display_data",
          "data": {
            "text/plain": [
              "<Figure size 640x480 with 1 Axes>"
            ],
            "image/png": "[encoded data removed]"
          },
          "metadata": {}
        }
      ],
      "source": [
        "plt.hist(df['model_attr'], bins=20)"
      ]
    },
    {
      "cell_type": "markdown",
      "metadata": {
        "id": "G2lMaafjQlaf"
      },
      "source": [
        "The distribution of gender categories in this dataset. There are more Female than male. The Female category has close to 500,000 items. The second most common category is Male, followed by Female & Male."
      ]
    },
    {
      "cell_type": "code",
      "execution_count": 15,
      "metadata": {
        "colab": {
          "base_uri": "https://localhost:8080/",
          "height": 784
        },
        "id": "8dHijJwAQlaf",
        "outputId": "2dde9070-9a55-45cb-a323-4d28cad594d7"
      },
      "outputs": [
        {
          "output_type": "execute_result",
          "data": {
            "text/plain": [
              "([0, 1, 2, 3, 4, 5, 6, 7, 8, 9],\n",
              " [Text(0, 0, 'Portable Audio & Video'),\n",
              "  Text(1, 0, 'Computers & Accessories'),\n",
              "  Text(2, 0, 'Headphones'),\n",
              "  Text(3, 0, 'Camera & Photo'),\n",
              "  Text(4, 0, 'Television & Video'),\n",
              "  Text(5, 0, 'Home Audio'),\n",
              "  Text(6, 0, 'Accessories & Supplies'),\n",
              "  Text(7, 0, 'Car Electronics & GPS'),\n",
              "  Text(8, 0, 'Security & Surveillance'),\n",
              "  Text(9, 0, 'Wearable Technology')])"
            ]
          },
          "metadata": {},
          "execution_count": 15
        },
        {
          "output_type": "display_data",
          "data": {
            "text/plain": [
              "<Figure size 640x480 with 1 Axes>"
            ],
            "image/png": "[encoded data removed]"
          },
          "metadata": {}
        }
      ],
      "source": [
        "plt.hist(df['category'], bins=20)\n",
        "plt.xticks(rotation=85)\n"
      ]
    },
    {
      "cell_type": "markdown",
      "metadata": {
        "id": "CcAVuYRdQlag"
      },
      "source": [
        "The above graph shows the distribution of the categories in this dataset. The most common category is"
      ]
    },
    {
      "cell_type": "code",
      "source": [
        "df_graph = df[['item_id', 'user_id', 'rating']]\n",
        "G = nx.from_pandas_edgelist(df_graph, source= 'user_id', target='item_id', edge_attr='rating')\n"
      ],
      "metadata": {
        "id": "n1Xr8bN9bSVu"
      },
      "execution_count": 38,
      "outputs": []
    },
    {
      "cell_type": "markdown",
      "source": [
        "### Number of Edges"
      ],
      "metadata": {
        "id": "FZros6vhbh7B"
      }
    },
    {
      "cell_type": "code",
      "source": [
        "G.number_of_edges()"
      ],
      "metadata": {
        "colab": {
          "base_uri": "https://localhost:8080/"
        },
        "id": "Yjt2ulsbbkJj",
        "outputId": "39f4b6ba-3c0c-4613-ecf0-f8d32d0b996a"
      },
      "execution_count": 39,
      "outputs": [
        {
          "output_type": "execute_result",
          "data": {
            "text/plain": [
              "1292954"
            ]
          },
          "metadata": {},
          "execution_count": 39
        }
      ]
    },
    {
      "cell_type": "markdown",
      "source": [
        "### Number of Nodes"
      ],
      "metadata": {
        "id": "3vICfS5Gblyy"
      }
    },
    {
      "cell_type": "code",
      "source": [
        "G.number_of_nodes()"
      ],
      "metadata": {
        "colab": {
          "base_uri": "https://localhost:8080/"
        },
        "id": "vLTjqw7hbnof",
        "outputId": "c77df1e5-0baf-4de2-d571-7044844bf317"
      },
      "execution_count": 40,
      "outputs": [
        {
          "output_type": "execute_result",
          "data": {
            "text/plain": [
              "1157633"
            ]
          },
          "metadata": {},
          "execution_count": 40
        }
      ]
    },
    {
      "cell_type": "markdown",
      "source": [
        "### Degree Centrality\n",
        "\n",
        "The distribution of the degree centrality is shown below. The degrees are right skewed."
      ],
      "metadata": {
        "id": "uNwvNvoecF_D"
      }
    },
    {
      "cell_type": "code",
      "source": [
        "G_degree_centrality = nx.degree_centrality(G)"
      ],
      "metadata": {
        "id": "Ci5V-pyHbu_m"
      },
      "execution_count": 41,
      "outputs": []
    },
    {
      "cell_type": "code",
      "source": [
        "G_degree_list = [*G_degree_centrality.values()]"
      ],
      "metadata": {
        "id": "ocBrCwelb6HH"
      },
      "execution_count": 42,
      "outputs": []
    },
    {
      "cell_type": "code",
      "source": [
        "plt.boxplot(G_degree_list)\n",
        "plt.show()"
      ],
      "metadata": {
        "colab": {
          "base_uri": "https://localhost:8080/",
          "height": 430
        },
        "id": "zHsPCiGjb9OB",
        "outputId": "3699926e-0ff9-4a55-d3bb-3d51c333f2c6"
      },
      "execution_count": 43,
      "outputs": [
        {
          "output_type": "display_data",
          "data": {
            "text/plain": [
              "<Figure size 640x480 with 1 Axes>"
            ],
            "image/png": "[encoded data removed]"
          },
          "metadata": {}
        }
      ]
    },
    {
      "cell_type": "markdown",
      "source": [
        "#### Maximum Degree Centrality\n",
        "\n",
        "Item with the maximum degree centrality in the graph is item 7780."
      ],
      "metadata": {
        "id": "4kNe_NGxfI8X"
      }
    },
    {
      "cell_type": "code",
      "source": [
        "max(G_degree_centrality.items(), key=lambda k: k[1])\n"
      ],
      "metadata": {
        "colab": {
          "base_uri": "https://localhost:8080/"
        },
        "id": "pFznRSDfcAN4",
        "outputId": "f80cab96-ac05-47c3-cd2e-05d54dd0e140"
      },
      "execution_count": 44,
      "outputs": [
        {
          "output_type": "execute_result",
          "data": {
            "text/plain": [
              "(7780, 0.024646001492702345)"
            ]
          },
          "metadata": {},
          "execution_count": 44
        }
      ]
    },
    {
      "cell_type": "markdown",
      "source": [
        "#### Minimum Degree Centrality\n",
        "\n",
        "Item with the minimum degree centrality in the graph is item 9560."
      ],
      "metadata": {
        "id": "DdfYjDFJfQ1k"
      }
    },
    {
      "cell_type": "code",
      "source": [
        "min(G_degree_centrality.items(), key=lambda k: k[1])\n"
      ],
      "metadata": {
        "colab": {
          "base_uri": "https://localhost:8080/"
        },
        "id": "4T8Gg6-FcPya",
        "outputId": "720afe80-f5bf-4eae-904c-1532f19a17b8"
      },
      "execution_count": 45,
      "outputs": [
        {
          "output_type": "execute_result",
          "data": {
            "text/plain": [
              "(9560, 8.638323750552853e-07)"
            ]
          },
          "metadata": {},
          "execution_count": 45
        }
      ]
    },
    {
      "cell_type": "markdown",
      "metadata": {
        "id": "_l1Id-zRQlag"
      },
      "source": [
        "## Split by Categorical Data\n",
        "### Split by Ratings\n",
        "One graph will be the ratings that are less than 3 and the other the items that are greater than and equal to 3."
      ]
    },
    {
      "cell_type": "markdown",
      "metadata": {
        "id": "6tAzkFrGQlag"
      },
      "source": [
        "I will create two dataframes dividing it by the ratings available. The `high_rating_df` contains the reviews where the ratings were greater than or equal to 3. The dataframe `low_rating_df` contains the reviews where the ratings were less than 3."
      ]
    },
    {
      "cell_type": "code",
      "execution_count": 16,
      "metadata": {
        "id": "XU_fyIvXQlag"
      },
      "outputs": [],
      "source": [
        "high_rating_df = df[df['rating'] >= 3]\n",
        "low_rating_df = df[df['rating'] < 3]\n"
      ]
    },
    {
      "cell_type": "markdown",
      "metadata": {
        "id": "Hw_CubyGQlag"
      },
      "source": [
        "My hypotheses is that there is a statistical difference between the degree centrality in the high rating dataset than the low rating dataset."
      ]
    },
    {
      "cell_type": "code",
      "execution_count": 17,
      "metadata": {
        "id": "vNquPT50Qlag"
      },
      "outputs": [],
      "source": [
        "high_rating_graph = high_rating_df[['item_id', 'user_id', 'rating']]\n",
        "low_rating_graph = low_rating_df[['item_id', 'user_id', 'rating']]\n",
        "\n",
        "H = nx.from_pandas_edgelist(high_rating_graph, source= 'user_id', target='item_id', edge_attr='rating')\n",
        "L = nx.from_pandas_edgelist(low_rating_graph, source= 'user_id', target='item_id', edge_attr='rating')"
      ]
    },
    {
      "cell_type": "markdown",
      "metadata": {
        "id": "fbuVYysaQlah"
      },
      "source": [
        "### The Number of Edges"
      ]
    },
    {
      "cell_type": "code",
      "execution_count": 18,
      "metadata": {
        "colab": {
          "base_uri": "https://localhost:8080/"
        },
        "id": "ERWqB7RqQlah",
        "outputId": "1548bb82-8ef3-411d-f777-2004b7489f7f"
      },
      "outputs": [
        {
          "output_type": "execute_result",
          "data": {
            "text/plain": [
              "1070551"
            ]
          },
          "metadata": {},
          "execution_count": 18
        }
      ],
      "source": [
        "H.number_of_edges()"
      ]
    },
    {
      "cell_type": "code",
      "execution_count": 19,
      "metadata": {
        "colab": {
          "base_uri": "https://localhost:8080/"
        },
        "id": "5iokMs_ZQlah",
        "outputId": "21a7721f-1906-424f-8df4-c8fa37307be5"
      },
      "outputs": [
        {
          "output_type": "execute_result",
          "data": {
            "text/plain": [
              "222403"
            ]
          },
          "metadata": {},
          "execution_count": 19
        }
      ],
      "source": [
        "L.number_of_edges()"
      ]
    },
    {
      "cell_type": "markdown",
      "metadata": {
        "id": "WJvHdU5MQlah"
      },
      "source": [
        "### The Number of Nodes"
      ]
    },
    {
      "cell_type": "code",
      "execution_count": 20,
      "metadata": {
        "colab": {
          "base_uri": "https://localhost:8080/"
        },
        "id": "26MfOFMJQlai",
        "outputId": "dc7548d8-8eb2-4a27-b9ef-566396a37f7a"
      },
      "outputs": [
        {
          "output_type": "execute_result",
          "data": {
            "text/plain": [
              "965140"
            ]
          },
          "metadata": {},
          "execution_count": 20
        }
      ],
      "source": [
        "H.number_of_nodes()"
      ]
    },
    {
      "cell_type": "code",
      "execution_count": 21,
      "metadata": {
        "colab": {
          "base_uri": "https://localhost:8080/"
        },
        "id": "VC0ERgQkQlai",
        "outputId": "00dcdfae-4360-4ce9-f7fb-93403b1a8eaf"
      },
      "outputs": [
        {
          "output_type": "execute_result",
          "data": {
            "text/plain": [
              "223236"
            ]
          },
          "metadata": {},
          "execution_count": 21
        }
      ],
      "source": [
        "L.number_of_nodes()"
      ]
    },
    {
      "cell_type": "markdown",
      "metadata": {
        "id": "d2RKvtkjQlai"
      },
      "source": [
        "## High Graph"
      ]
    },
    {
      "cell_type": "code",
      "execution_count": 22,
      "metadata": {
        "colab": {
          "base_uri": "https://localhost:8080/",
          "height": 516
        },
        "id": "gsMLbj4RQlai",
        "outputId": "6f54c850-3bcd-4f98-cffa-3de514d5149a"
      },
      "outputs": [
        {
          "output_type": "display_data",
          "data": {
            "text/plain": [
              "<Figure size 640x480 with 1 Axes>"
            ],
            "image/png": "[encoded data removed]"
          },
          "metadata": {}
        }
      ],
      "source": [
        "H_subset = high_rating_graph.iloc[0:999]\n",
        "H_subset_graph = nx.from_pandas_edgelist(H_subset, source= 'user_id', target='item_id', edge_attr='rating')\n",
        "nx.draw(H_subset_graph, node_size=1)"
      ]
    },
    {
      "cell_type": "markdown",
      "metadata": {
        "id": "Ww06KdipQlai"
      },
      "source": [
        "### Degree Centrality"
      ]
    },
    {
      "cell_type": "code",
      "execution_count": 33,
      "metadata": {
        "id": "anVZVoeQQlai"
      },
      "outputs": [],
      "source": [
        "H_degree_centrality = nx.degree_centrality(H)"
      ]
    },
    {
      "cell_type": "code",
      "execution_count": 24,
      "metadata": {
        "id": "mlsx77CwQlaj"
      },
      "outputs": [],
      "source": [
        "H_degree_list = [*H_degree_centrality.values()]"
      ]
    },
    {
      "cell_type": "code",
      "source": [
        "plt.boxplot(H_degree_list)\n",
        "plt.show()"
      ],
      "metadata": {
        "colab": {
          "base_uri": "https://localhost:8080/",
          "height": 430
        },
        "id": "uopaEf9qa3mq",
        "outputId": "00875a84-21c5-41c0-effe-9bfea6d70d9f"
      },
      "execution_count": 35,
      "outputs": [
        {
          "output_type": "display_data",
          "data": {
            "text/plain": [
              "<Figure size 640x480 with 1 Axes>"
            ],
            "image/png": "[encoded data removed]"
          },
          "metadata": {}
        }
      ]
    },
    {
      "cell_type": "markdown",
      "source": [
        "#### Maximum Degree Centrality\n",
        "\n",
        "The item with the largest Degree centrality that has the highest ratings is item 7780."
      ],
      "metadata": {
        "id": "6z200RFReH1Y"
      }
    },
    {
      "cell_type": "code",
      "source": [
        "max(H_degree_centrality.items(), key=lambda k: k[1])\n"
      ],
      "metadata": {
        "colab": {
          "base_uri": "https://localhost:8080/"
        },
        "id": "Re2I1LDja_pI",
        "outputId": "e7acd5d1-061a-4d02-e78f-f46e65c8d1a5"
      },
      "execution_count": 36,
      "outputs": [
        {
          "output_type": "execute_result",
          "data": {
            "text/plain": [
              "(7780, 0.02657026604458011)"
            ]
          },
          "metadata": {},
          "execution_count": 36
        }
      ]
    },
    {
      "cell_type": "markdown",
      "source": [
        "### Minimum Degree Centrality\n",
        "The item with the smallest degree centrality in the high rating category is item 9560."
      ],
      "metadata": {
        "id": "drB26OqDeSTm"
      }
    },
    {
      "cell_type": "code",
      "source": [
        "min(G_degree_centrality.items(), key=lambda k: k[1])\n"
      ],
      "metadata": {
        "colab": {
          "base_uri": "https://localhost:8080/"
        },
        "id": "_31Gaa2UcU5U",
        "outputId": "1c35a073-f4ac-4f85-91eb-1274ba115116"
      },
      "execution_count": 46,
      "outputs": [
        {
          "output_type": "execute_result",
          "data": {
            "text/plain": [
              "(9560, 8.638323750552853e-07)"
            ]
          },
          "metadata": {},
          "execution_count": 46
        }
      ]
    },
    {
      "cell_type": "markdown",
      "metadata": {
        "id": "tESToahGQlaj"
      },
      "source": [
        "## Low Ratings Graph"
      ]
    },
    {
      "cell_type": "code",
      "execution_count": 25,
      "metadata": {
        "colab": {
          "base_uri": "https://localhost:8080/",
          "height": 516
        },
        "id": "AmIJ_rNnQlaj",
        "outputId": "1d5de822-2c8a-404a-ef37-fbd9e3b62883"
      },
      "outputs": [
        {
          "output_type": "display_data",
          "data": {
            "text/plain": [
              "<Figure size 640x480 with 1 Axes>"
            ],
            "image/png": "[encoded data removed]"
          },
          "metadata": {}
        }
      ],
      "source": [
        "L_subset = low_rating_graph.iloc[0:599]\n",
        "L_subset_graph = nx.from_pandas_edgelist(L_subset, source= 'user_id', target='item_id', edge_attr='rating')\n",
        "nx.draw(L_subset_graph, node_size=1)"
      ]
    },
    {
      "cell_type": "markdown",
      "metadata": {
        "id": "68QvkjRpQlaj"
      },
      "source": [
        "### Degree Centrality"
      ]
    },
    {
      "cell_type": "code",
      "execution_count": 32,
      "metadata": {
        "id": "jJqJjmMaQlaj"
      },
      "outputs": [],
      "source": [
        "L_degree_centrality = nx.degree_centrality(L)\n"
      ]
    },
    {
      "cell_type": "code",
      "execution_count": 27,
      "metadata": {
        "id": "Jj5XMzz_Qlaj"
      },
      "outputs": [],
      "source": [
        "L_degree_list = [*L_degree_centrality.values()]"
      ]
    },
    {
      "cell_type": "code",
      "source": [
        "plt.boxplot(L_degree_list)\n",
        "plt.show()\n"
      ],
      "metadata": {
        "colab": {
          "base_uri": "https://localhost:8080/",
          "height": 430
        },
        "id": "PZE-2BlZYtYK",
        "outputId": "f8ae3a4c-b4ef-484b-f8bb-7b280fc84283"
      },
      "execution_count": 34,
      "outputs": [
        {
          "output_type": "display_data",
          "data": {
            "text/plain": [
              "<Figure size 640x480 with 1 Axes>"
            ],
            "image/png": "[encoded data removed]"
          },
          "metadata": {}
        }
      ]
    },
    {
      "cell_type": "markdown",
      "source": [
        "#### Maximum Degree Centrality\n",
        "\n",
        "The item with the highest degree centrality is item with the ID 7780."
      ],
      "metadata": {
        "id": "StvfNifDaUDf"
      }
    },
    {
      "cell_type": "code",
      "source": [
        "max(L_degree_centrality.items(), key=lambda k: k[1])\n"
      ],
      "metadata": {
        "colab": {
          "base_uri": "https://localhost:8080/"
        },
        "id": "HRmxcw3baBkN",
        "outputId": "ce5a87b5-4ba5-416a-8c01-3b5126faa069"
      },
      "execution_count": 31,
      "outputs": [
        {
          "output_type": "execute_result",
          "data": {
            "text/plain": [
              "(7780, 0.012932559858445136)"
            ]
          },
          "metadata": {},
          "execution_count": 31
        }
      ]
    },
    {
      "cell_type": "markdown",
      "source": [
        "#### Minimum Degree Centrality\n",
        "\n",
        "The item with the lowest degree centrality in the lower ratings graph is item 9560."
      ],
      "metadata": {
        "id": "tCVxKD2ZenAL"
      }
    },
    {
      "cell_type": "code",
      "source": [
        "min(L_degree_centrality.items(), key=lambda k: k[1])\n"
      ],
      "metadata": {
        "colab": {
          "base_uri": "https://localhost:8080/"
        },
        "id": "oMUeBstRccL2",
        "outputId": "ac58c685-2b57-46d9-95cf-3db2c3a07d10"
      },
      "execution_count": 47,
      "outputs": [
        {
          "output_type": "execute_result",
          "data": {
            "text/plain": [
              "(9560, 8.638323750552853e-07)"
            ]
          },
          "metadata": {},
          "execution_count": 47
        }
      ]
    },
    {
      "cell_type": "markdown",
      "metadata": {
        "id": "BRMUUohaQlaj"
      },
      "source": [
        "### Eigenvectors"
      ]
    },
    {
      "cell_type": "code",
      "execution_count": null,
      "metadata": {
        "id": "Jmogi7TXQlaj"
      },
      "outputs": [],
      "source": []
    },
    {
      "cell_type": "markdown",
      "metadata": {
        "id": "pspqUSS8Qlas"
      },
      "source": [
        "### Statistical Test\n",
        "\n",
        "\n",
        "Whether the two samples data groups are independent.\n",
        "Whether the data elements in respective groups follow any normal distribution.\n",
        "Whether the given two samples have similar variances. This assumption is also known as the homogeneity assumption."
      ]
    },
    {
      "cell_type": "code",
      "execution_count": null,
      "metadata": {
        "colab": {
          "base_uri": "https://localhost:8080/"
        },
        "id": "6yEGcQRgQlas",
        "outputId": "ab8bf54e-3be6-4f7d-9ff2-a7b808523877"
      },
      "outputs": [
        {
          "output_type": "execute_result",
          "data": {
            "text/plain": [
              "741557.2605043969"
            ]
          },
          "metadata": {},
          "execution_count": 20
        }
      ],
      "source": [
        "from scipy import stats\n",
        "import statsmodels.api as sm\n",
        "\n",
        "res = stats.normaltest(L_degree_list)\n",
        "res.statistic\n"
      ]
    },
    {
      "cell_type": "code",
      "source": [
        "from scipy.stats import shapiro\n",
        "\n",
        "\n",
        "#perform Shapiro-Wilk test for normality\n",
        "shapiro(L_degree_list)\n",
        "\n"
      ],
      "metadata": {
        "colab": {
          "base_uri": "https://localhost:8080/"
        },
        "id": "1IYcgk94Rkw9",
        "outputId": "eb8c55c4-4c55-4295-c488-f3cca79d7b6d"
      },
      "execution_count": null,
      "outputs": [
        {
          "output_type": "stream",
          "name": "stderr",
          "text": [
            "/usr/local/lib/python3.10/dist-packages/scipy/stats/_morestats.py:1882: UserWarning: p-value may not be accurate for N > 5000.\n",
            "  warnings.warn(\"p-value may not be accurate for N > 5000.\")\n"
          ]
        },
        {
          "output_type": "execute_result",
          "data": {
            "text/plain": [
              "ShapiroResult(statistic=0.033360183238983154, pvalue=0.0)"
            ]
          },
          "metadata": {},
          "execution_count": 21
        }
      ]
    },
    {
      "cell_type": "code",
      "source": [
        "from scipy.stats import kstest\n",
        "\n",
        "\n",
        "\n",
        "#perform Kolmogorov-Smirnov test for normality\n",
        "kstest(L_degree_list, 'norm')\n"
      ],
      "metadata": {
        "colab": {
          "base_uri": "https://localhost:8080/"
        },
        "id": "LUB5iWSOR81c",
        "outputId": "50c72fd8-db6b-469e-8bfe-1256b9bf1d51"
      },
      "execution_count": null,
      "outputs": [
        {
          "output_type": "execute_result",
          "data": {
            "text/plain": [
              "KstestResult(statistic=0.5000017870955737, pvalue=0.0, statistic_location=4.479584294577463e-06, statistic_sign=-1)"
            ]
          },
          "metadata": {},
          "execution_count": 22
        }
      ]
    },
    {
      "cell_type": "markdown",
      "source": [
        "Since the p-value is less than .05, we reject the null hypothesis of the Kolmogorov-Smirnov test.\n",
        "\n",
        "This means we have sufficient evidence to say that the sample data does not come from a normal distribution."
      ],
      "metadata": {
        "id": "MGN6-N5XSHvv"
      }
    },
    {
      "cell_type": "code",
      "execution_count": null,
      "metadata": {
        "colab": {
          "base_uri": "https://localhost:8080/",
          "height": 106
        },
        "id": "g6rBcrE0Qlar",
        "outputId": "1084f456-a8df-4722-cb15-7fba19fa9feb"
      },
      "outputs": [
        {
          "output_type": "error",
          "ename": "SyntaxError",
          "evalue": "invalid syntax (<ipython-input-19-bac9c2702544>, line 1)",
          "traceback": [
            "\u001b[0;36m  File \u001b[0;32m\"<ipython-input-19-bac9c2702544>\"\u001b[0;36m, line \u001b[0;32m1\u001b[0m\n\u001b[0;31m    https://www.geeksforgeeks.org/how-to-conduct-a-two-sample-t-test-in-python/\u001b[0m\n\u001b[0m          ^\u001b[0m\n\u001b[0;31mSyntaxError\u001b[0m\u001b[0;31m:\u001b[0m invalid syntax\n"
          ]
        }
      ],
      "source": [
        "https://www.geeksforgeeks.org/how-to-conduct-a-two-sample-t-test-in-python/"
      ]
    },
    {
      "cell_type": "markdown",
      "source": [
        "## Conclusion\n",
        "\n",
        "It was hard to generaye the complete graph since the data was so large. Betweeness functions also took a long time to process. Since the degree centralities were not normally ditributed, I could not perform a t-test. In futrue iterations of this project I would utilized statistical testing for non normal distributions and how to properly subset the data.\n",
        "\n",
        "Based on a naive analysis (without a statistical test), the item maximum degree centrality was the same in the high rating graph and the low rating graph. Additionally, the item with the smallest degree centrality was the same in the high rating graph and the low rating graph."
      ],
      "metadata": {
        "id": "GN6rUYmWgACe"
      }
    }
  ],
  "metadata": {
    "kernelspec": {
      "display_name": "base",
      "language": "python",
      "name": "python3"
    },
    "language_info": {
      "codemirror_mode": {
        "name": "ipython",
        "version": 3
      },
      "file_extension": ".py",
      "mimetype": "text/x-python",
      "name": "python",
      "nbconvert_exporter": "python",
      "pygments_lexer": "ipython3",
      "version": "3.11.5"
    },
    "colab": {
      "provenance": []
    }
  },
  "nbformat": 4,
  "nbformat_minor": 0
}