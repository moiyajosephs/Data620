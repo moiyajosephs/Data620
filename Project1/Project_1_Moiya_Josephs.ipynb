{
  "cells": [
    {
      "cell_type": "markdown",
      "metadata": {
        "id": "LQs2lEhqQlaa"
      },
      "source": [
        "# Project 1\n",
        "### Moiya Josephs\n",
        "\n",
        "\n",
        "## Ask\n",
        "\n",
        "For your first project, you are asked to\n",
        "\n",
        "1. Identify and load a network dataset that has some categorical information available for each node.\n",
        "2. For each of the nodes in the dataset, calculate degree centrality and eigenvector centrality.\n",
        "3. Compare your centrality measures across your categorical groups.\n",
        "\n",
        "## Overview\n",
        "\n",
        "For my first project I will be using Amazon electronic Data set reviews and analysing using network anaylis the difference between higher rated items versus lower rated items. I hypothesize that the items with the higher reviews will have more connections than the items that are lower rated.\n",
        "\n",
        "### Key words:\n",
        "\n",
        "Degree centrality: the number of edges a nodes has\n",
        "\n",
        "Eigenvector:  used to measure the influence of a node and determine the most peripheral node in a network."
      ]
    },
    {
      "cell_type": "code",
      "execution_count": 250,
      "metadata": {
        "id": "7Mr3ro-2Qlac"
      },
      "outputs": [],
      "source": [
        "import networkx as nx\n",
        "from networkx.algorithms import approximation as approx\n",
        "import pandas as pd\n",
        "import matplotlib.pyplot as plt\n"
      ]
    },
    {
      "cell_type": "code",
      "execution_count": 251,
      "metadata": {
        "id": "W6UxH5pjQlad"
      },
      "outputs": [],
      "source": [
        "df = pd.read_csv('https://raw.githubusercontent.com/MengtingWan/marketBias/master/data/df_electronics.csv')"
      ]
    },
    {
      "cell_type": "markdown",
      "metadata": {
        "id": "k9GYcUQ-Qlad"
      },
      "source": [
        "Here is a peak of the data and how it is structured. It has an item_id, a user_id, rating, timestamp of the rating, the gender of the item and brand."
      ]
    },
    {
      "cell_type": "code",
      "execution_count": 252,
      "metadata": {
        "colab": {
          "base_uri": "https://localhost:8080/",
          "height": 206
        },
        "id": "NS8l3khrQlad",
        "outputId": "d72fba0d-0543-4e68-8f23-ff900615e8b6"
      },
      "outputs": [
        {
          "output_type": "execute_result",
          "data": {
            "text/plain": [
              "   item_id  user_id  rating   timestamp model_attr                category  \\\n",
              "0        0        0     5.0  1999-06-13     Female  Portable Audio & Video   \n",
              "1        0        1     5.0  1999-06-14     Female  Portable Audio & Video   \n",
              "2        0        2     3.0  1999-06-17     Female  Portable Audio & Video   \n",
              "3        0        3     1.0  1999-07-01     Female  Portable Audio & Video   \n",
              "4        0        4     2.0  1999-07-06     Female  Portable Audio & Video   \n",
              "\n",
              "  brand  year user_attr  split  \n",
              "0   NaN  1999       NaN      0  \n",
              "1   NaN  1999       NaN      0  \n",
              "2   NaN  1999       NaN      0  \n",
              "3   NaN  1999       NaN      0  \n",
              "4   NaN  1999       NaN      0  "
            ],
            "text/html": [
              "\n",
              "  <div id=\"df-52e65001-3b6a-484b-9487-bdf07d9b3b6c\" class=\"colab-df-container\">\n",
              "    <div>\n",
              "<style scoped>\n",
              "    .dataframe tbody tr th:only-of-type {\n",
              "        vertical-align: middle;\n",
              "    }\n",
              "\n",
              "    .dataframe tbody tr th {\n",
              "        vertical-align: top;\n",
              "    }\n",
              "\n",
              "    .dataframe thead th {\n",
              "        text-align: right;\n",
              "    }\n",
              "</style>\n",
              "<table border=\"1\" class=\"dataframe\">\n",
              "  <thead>\n",
              "    <tr style=\"text-align: right;\">\n",
              "      <th></th>\n",
              "      <th>item_id</th>\n",
              "      <th>user_id</th>\n",
              "      <th>rating</th>\n",
              "      <th>timestamp</th>\n",
              "      <th>model_attr</th>\n",
              "      <th>category</th>\n",
              "      <th>brand</th>\n",
              "      <th>year</th>\n",
              "      <th>user_attr</th>\n",
              "      <th>split</th>\n",
              "    </tr>\n",
              "  </thead>\n",
              "  <tbody>\n",
              "    <tr>\n",
              "      <th>0</th>\n",
              "      <td>0</td>\n",
              "      <td>0</td>\n",
              "      <td>5.0</td>\n",
              "      <td>1999-06-13</td>\n",
              "      <td>Female</td>\n",
              "      <td>Portable Audio &amp; Video</td>\n",
              "      <td>NaN</td>\n",
              "      <td>1999</td>\n",
              "      <td>NaN</td>\n",
              "      <td>0</td>\n",
              "    </tr>\n",
              "    <tr>\n",
              "      <th>1</th>\n",
              "      <td>0</td>\n",
              "      <td>1</td>\n",
              "      <td>5.0</td>\n",
              "      <td>1999-06-14</td>\n",
              "      <td>Female</td>\n",
              "      <td>Portable Audio &amp; Video</td>\n",
              "      <td>NaN</td>\n",
              "      <td>1999</td>\n",
              "      <td>NaN</td>\n",
              "      <td>0</td>\n",
              "    </tr>\n",
              "    <tr>\n",
              "      <th>2</th>\n",
              "      <td>0</td>\n",
              "      <td>2</td>\n",
              "      <td>3.0</td>\n",
              "      <td>1999-06-17</td>\n",
              "      <td>Female</td>\n",
              "      <td>Portable Audio &amp; Video</td>\n",
              "      <td>NaN</td>\n",
              "      <td>1999</td>\n",
              "      <td>NaN</td>\n",
              "      <td>0</td>\n",
              "    </tr>\n",
              "    <tr>\n",
              "      <th>3</th>\n",
              "      <td>0</td>\n",
              "      <td>3</td>\n",
              "      <td>1.0</td>\n",
              "      <td>1999-07-01</td>\n",
              "      <td>Female</td>\n",
              "      <td>Portable Audio &amp; Video</td>\n",
              "      <td>NaN</td>\n",
              "      <td>1999</td>\n",
              "      <td>NaN</td>\n",
              "      <td>0</td>\n",
              "    </tr>\n",
              "    <tr>\n",
              "      <th>4</th>\n",
              "      <td>0</td>\n",
              "      <td>4</td>\n",
              "      <td>2.0</td>\n",
              "      <td>1999-07-06</td>\n",
              "      <td>Female</td>\n",
              "      <td>Portable Audio &amp; Video</td>\n",
              "      <td>NaN</td>\n",
              "      <td>1999</td>\n",
              "      <td>NaN</td>\n",
              "      <td>0</td>\n",
              "    </tr>\n",
              "  </tbody>\n",
              "</table>\n",
              "</div>\n",
              "    <div class=\"colab-df-buttons\">\n",
              "\n",
              "  <div class=\"colab-df-container\">\n",
              "    <button class=\"colab-df-convert\" onclick=\"convertToInteractive('df-52e65001-3b6a-484b-9487-bdf07d9b3b6c')\"\n",
              "            title=\"Convert this dataframe to an interactive table.\"\n",
              "            style=\"display:none;\">\n",
              "\n",
              "  <svg xmlns=\"http://www.w3.org/2000/svg\" height=\"24px\" viewBox=\"0 -960 960 960\">\n",
              "    <path d=\"M120-120v-720h720v720H120Zm60-500h600v-160H180v160Zm220 220h160v-160H400v160Zm0 220h160v-160H400v160ZM180-400h160v-160H180v160Zm440 0h160v-160H620v160ZM180-180h160v-160H180v160Zm440 0h160v-160H620v160Z\"/>\n",
              "  </svg>\n",
              "    </button>\n",
              "\n",
              "  <style>\n",
              "    .colab-df-container {\n",
              "      display:flex;\n",
              "      gap: 12px;\n",
              "    }\n",
              "\n",
              "    .colab-df-convert {\n",
              "      background-color: #E8F0FE;\n",
              "      border: none;\n",
              "      border-radius: 50%;\n",
              "      cursor: pointer;\n",
              "      display: none;\n",
              "      fill: #1967D2;\n",
              "      height: 32px;\n",
              "      padding: 0 0 0 0;\n",
              "      width: 32px;\n",
              "    }\n",
              "\n",
              "    .colab-df-convert:hover {\n",
              "      background-color: #E2EBFA;\n",
              "      box-shadow: 0px 1px 2px rgba(60, 64, 67, 0.3), 0px 1px 3px 1px rgba(60, 64, 67, 0.15);\n",
              "      fill: #174EA6;\n",
              "    }\n",
              "\n",
              "    .colab-df-buttons div {\n",
              "      margin-bottom: 4px;\n",
              "    }\n",
              "\n",
              "    [theme=dark] .colab-df-convert {\n",
              "      background-color: #3B4455;\n",
              "      fill: #D2E3FC;\n",
              "    }\n",
              "\n",
              "    [theme=dark] .colab-df-convert:hover {\n",
              "      background-color: #434B5C;\n",
              "      box-shadow: 0px 1px 3px 1px rgba(0, 0, 0, 0.15);\n",
              "      filter: drop-shadow(0px 1px 2px rgba(0, 0, 0, 0.3));\n",
              "      fill: #FFFFFF;\n",
              "    }\n",
              "  </style>\n",
              "\n",
              "    <script>\n",
              "      const buttonEl =\n",
              "        document.querySelector('#df-52e65001-3b6a-484b-9487-bdf07d9b3b6c button.colab-df-convert');\n",
              "      buttonEl.style.display =\n",
              "        google.colab.kernel.accessAllowed ? 'block' : 'none';\n",
              "\n",
              "      async function convertToInteractive(key) {\n",
              "        const element = document.querySelector('#df-52e65001-3b6a-484b-9487-bdf07d9b3b6c');\n",
              "        const dataTable =\n",
              "          await google.colab.kernel.invokeFunction('convertToInteractive',\n",
              "                                                    [key], {});\n",
              "        if (!dataTable) return;\n",
              "\n",
              "        const docLinkHtml = 'Like what you see? Visit the ' +\n",
              "          '<a target=\"_blank\" href=https://colab.research.google.com/notebooks/data_table.ipynb>data table notebook</a>'\n",
              "          + ' to learn more about interactive tables.';\n",
              "        element.innerHTML = '';\n",
              "        dataTable['output_type'] = 'display_data';\n",
              "        await google.colab.output.renderOutput(dataTable, element);\n",
              "        const docLink = document.createElement('div');\n",
              "        docLink.innerHTML = docLinkHtml;\n",
              "        element.appendChild(docLink);\n",
              "      }\n",
              "    </script>\n",
              "  </div>\n",
              "\n",
              "\n",
              "<div id=\"df-56fac727-2192-47ba-8f26-fde7842240c4\">\n",
              "  <button class=\"colab-df-quickchart\" onclick=\"quickchart('df-56fac727-2192-47ba-8f26-fde7842240c4')\"\n",
              "            title=\"Suggest charts\"\n",
              "            style=\"display:none;\">\n",
              "\n",
              "<svg xmlns=\"http://www.w3.org/2000/svg\" height=\"24px\"viewBox=\"0 0 24 24\"\n",
              "     width=\"24px\">\n",
              "    <g>\n",
              "        <path d=\"M19 3H5c-1.1 0-2 .9-2 2v14c0 1.1.9 2 2 2h14c1.1 0 2-.9 2-2V5c0-1.1-.9-2-2-2zM9 17H7v-7h2v7zm4 0h-2V7h2v10zm4 0h-2v-4h2v4z\"/>\n",
              "    </g>\n",
              "</svg>\n",
              "  </button>\n",
              "\n",
              "<style>\n",
              "  .colab-df-quickchart {\n",
              "      --bg-color: #E8F0FE;\n",
              "      --fill-color: #1967D2;\n",
              "      --hover-bg-color: #E2EBFA;\n",
              "      --hover-fill-color: #174EA6;\n",
              "      --disabled-fill-color: #AAA;\n",
              "      --disabled-bg-color: #DDD;\n",
              "  }\n",
              "\n",
              "  [theme=dark] .colab-df-quickchart {\n",
              "      --bg-color: #3B4455;\n",
              "      --fill-color: #D2E3FC;\n",
              "      --hover-bg-color: #434B5C;\n",
              "      --hover-fill-color: #FFFFFF;\n",
              "      --disabled-bg-color: #3B4455;\n",
              "      --disabled-fill-color: #666;\n",
              "  }\n",
              "\n",
              "  .colab-df-quickchart {\n",
              "    background-color: var(--bg-color);\n",
              "    border: none;\n",
              "    border-radius: 50%;\n",
              "    cursor: pointer;\n",
              "    display: none;\n",
              "    fill: var(--fill-color);\n",
              "    height: 32px;\n",
              "    padding: 0;\n",
              "    width: 32px;\n",
              "  }\n",
              "\n",
              "  .colab-df-quickchart:hover {\n",
              "    background-color: var(--hover-bg-color);\n",
              "    box-shadow: 0 1px 2px rgba(60, 64, 67, 0.3), 0 1px 3px 1px rgba(60, 64, 67, 0.15);\n",
              "    fill: var(--button-hover-fill-color);\n",
              "  }\n",
              "\n",
              "  .colab-df-quickchart-complete:disabled,\n",
              "  .colab-df-quickchart-complete:disabled:hover {\n",
              "    background-color: var(--disabled-bg-color);\n",
              "    fill: var(--disabled-fill-color);\n",
              "    box-shadow: none;\n",
              "  }\n",
              "\n",
              "  .colab-df-spinner {\n",
              "    border: 2px solid var(--fill-color);\n",
              "    border-color: transparent;\n",
              "    border-bottom-color: var(--fill-color);\n",
              "    animation:\n",
              "      spin 1s steps(1) infinite;\n",
              "  }\n",
              "\n",
              "  @keyframes spin {\n",
              "    0% {\n",
              "      border-color: transparent;\n",
              "      border-bottom-color: var(--fill-color);\n",
              "      border-left-color: var(--fill-color);\n",
              "    }\n",
              "    20% {\n",
              "      border-color: transparent;\n",
              "      border-left-color: var(--fill-color);\n",
              "      border-top-color: var(--fill-color);\n",
              "    }\n",
              "    30% {\n",
              "      border-color: transparent;\n",
              "      border-left-color: var(--fill-color);\n",
              "      border-top-color: var(--fill-color);\n",
              "      border-right-color: var(--fill-color);\n",
              "    }\n",
              "    40% {\n",
              "      border-color: transparent;\n",
              "      border-right-color: var(--fill-color);\n",
              "      border-top-color: var(--fill-color);\n",
              "    }\n",
              "    60% {\n",
              "      border-color: transparent;\n",
              "      border-right-color: var(--fill-color);\n",
              "    }\n",
              "    80% {\n",
              "      border-color: transparent;\n",
              "      border-right-color: var(--fill-color);\n",
              "      border-bottom-color: var(--fill-color);\n",
              "    }\n",
              "    90% {\n",
              "      border-color: transparent;\n",
              "      border-bottom-color: var(--fill-color);\n",
              "    }\n",
              "  }\n",
              "</style>\n",
              "\n",
              "  <script>\n",
              "    async function quickchart(key) {\n",
              "      const quickchartButtonEl =\n",
              "        document.querySelector('#' + key + ' button');\n",
              "      quickchartButtonEl.disabled = true;  // To prevent multiple clicks.\n",
              "      quickchartButtonEl.classList.add('colab-df-spinner');\n",
              "      try {\n",
              "        const charts = await google.colab.kernel.invokeFunction(\n",
              "            'suggestCharts', [key], {});\n",
              "      } catch (error) {\n",
              "        console.error('Error during call to suggestCharts:', error);\n",
              "      }\n",
              "      quickchartButtonEl.classList.remove('colab-df-spinner');\n",
              "      quickchartButtonEl.classList.add('colab-df-quickchart-complete');\n",
              "    }\n",
              "    (() => {\n",
              "      let quickchartButtonEl =\n",
              "        document.querySelector('#df-56fac727-2192-47ba-8f26-fde7842240c4 button');\n",
              "      quickchartButtonEl.style.display =\n",
              "        google.colab.kernel.accessAllowed ? 'block' : 'none';\n",
              "    })();\n",
              "  </script>\n",
              "</div>\n",
              "\n",
              "    </div>\n",
              "  </div>\n"
            ],
            "application/vnd.google.colaboratory.intrinsic+json": {
              "type": "dataframe",
              "variable_name": "df"
            }
          },
          "metadata": {},
          "execution_count": 252
        }
      ],
      "source": [
        "df.head()"
      ]
    },
    {
      "cell_type": "markdown",
      "metadata": {
        "id": "r8Q97lG6Qlae"
      },
      "source": [
        "## Data Exploration"
      ]
    },
    {
      "cell_type": "markdown",
      "metadata": {
        "id": "s7xqRi2rQlae"
      },
      "source": [
        "For this analysis, I will use the rating, userid and item id."
      ]
    },
    {
      "cell_type": "code",
      "execution_count": 253,
      "metadata": {
        "colab": {
          "base_uri": "https://localhost:8080/",
          "height": 537
        },
        "id": "of-Sv1D2Qlae",
        "outputId": "8049251f-c0cf-4687-c69a-8d2144a66d68"
      },
      "outputs": [
        {
          "output_type": "execute_result",
          "data": {
            "text/plain": [
              "(array([143755.,      0.,      0.,      0.,      0.,  78648.,      0.,\n",
              "             0.,      0.,      0., 100630.,      0.,      0.,      0.,\n",
              "             0., 214166.,      0.,      0.,      0., 755755.]),\n",
              " array([1. , 1.2, 1.4, 1.6, 1.8, 2. , 2.2, 2.4, 2.6, 2.8, 3. , 3.2, 3.4,\n",
              "        3.6, 3.8, 4. , 4.2, 4.4, 4.6, 4.8, 5. ]),\n",
              " <BarContainer object of 20 artists>)"
            ]
          },
          "metadata": {},
          "execution_count": 253
        },
        {
          "output_type": "display_data",
          "data": {
            "text/plain": [
              "<Figure size 640x480 with 1 Axes>"
            ],
            "image/png": "[encoded data removed]"
          },
          "metadata": {}
        }
      ],
      "source": [
        "plt.hist(df['rating'], bins=20)"
      ]
    },
    {
      "cell_type": "markdown",
      "metadata": {
        "id": "r45YzI2tQlaf"
      },
      "source": [
        "The most common rating in this dataset is 5. The rating 5 has over 700,000 votes. The second most common rating is 4 followed by the value 1."
      ]
    },
    {
      "cell_type": "code",
      "execution_count": 254,
      "metadata": {
        "colab": {
          "base_uri": "https://localhost:8080/",
          "height": 538
        },
        "id": "NaR-1YnFQlaf",
        "outputId": "a76523e4-cce3-47cd-d354-003172464e3f"
      },
      "outputs": [
        {
          "output_type": "execute_result",
          "data": {
            "text/plain": [
              "(array([481171.,      0.,      0.,      0.,      0.,      0.,      0.,\n",
              "             0.,      0.,      0., 382068.,      0.,      0.,      0.,\n",
              "             0.,      0.,      0.,      0.,      0., 429715.]),\n",
              " array([0. , 0.1, 0.2, 0.3, 0.4, 0.5, 0.6, 0.7, 0.8, 0.9, 1. , 1.1, 1.2,\n",
              "        1.3, 1.4, 1.5, 1.6, 1.7, 1.8, 1.9, 2. ]),\n",
              " <BarContainer object of 20 artists>)"
            ]
          },
          "metadata": {},
          "execution_count": 254
        },
        {
          "output_type": "display_data",
          "data": {
            "text/plain": [
              "<Figure size 640x480 with 1 Axes>"
            ],
            "image/png": "[encoded data removed]"
          },
          "metadata": {}
        }
      ],
      "source": [
        "plt.hist(df['model_attr'], bins=20)"
      ]
    },
    {
      "cell_type": "markdown",
      "metadata": {
        "id": "G2lMaafjQlaf"
      },
      "source": [
        "The distribution of gender categories in this dataset. There are more Female than male. The Female category has close to 500,000 items. The second most common category is Male, followed by Female & Male."
      ]
    },
    {
      "cell_type": "code",
      "execution_count": 255,
      "metadata": {
        "colab": {
          "base_uri": "https://localhost:8080/",
          "height": 789
        },
        "id": "8dHijJwAQlaf",
        "outputId": "723feac6-3757-4f05-cf7a-90a40b2498ba"
      },
      "outputs": [
        {
          "output_type": "execute_result",
          "data": {
            "text/plain": [
              "([0, 1, 2, 3, 4, 5, 6, 7, 8, 9],\n",
              " [Text(0, 0, 'Portable Audio & Video'),\n",
              "  Text(1, 0, 'Computers & Accessories'),\n",
              "  Text(2, 0, 'Headphones'),\n",
              "  Text(3, 0, 'Camera & Photo'),\n",
              "  Text(4, 0, 'Television & Video'),\n",
              "  Text(5, 0, 'Home Audio'),\n",
              "  Text(6, 0, 'Accessories & Supplies'),\n",
              "  Text(7, 0, 'Car Electronics & GPS'),\n",
              "  Text(8, 0, 'Security & Surveillance'),\n",
              "  Text(9, 0, 'Wearable Technology')])"
            ]
          },
          "metadata": {},
          "execution_count": 255
        },
        {
          "output_type": "display_data",
          "data": {
            "text/plain": [
              "<Figure size 640x480 with 1 Axes>"
            ],
            "image/png": "[encoded data removed]"
          },
          "metadata": {}
        }
      ],
      "source": [
        "plt.hist(df['category'], bins=20)\n",
        "plt.xticks(rotation=85)\n"
      ]
    },
    {
      "cell_type": "markdown",
      "metadata": {
        "id": "CcAVuYRdQlag"
      },
      "source": [
        "The above graph shows the distribution of the categories in this dataset. The most common category is Headphones."
      ]
    },
    {
      "cell_type": "code",
      "source": [
        "df_graph = df[['category', 'user_id', 'rating']]\n",
        "G = nx.from_pandas_edgelist(df_graph, source= 'user_id', target='category', edge_attr='rating')\n"
      ],
      "metadata": {
        "id": "n1Xr8bN9bSVu"
      },
      "execution_count": 256,
      "outputs": []
    },
    {
      "cell_type": "markdown",
      "source": [
        "### Number of Edges"
      ],
      "metadata": {
        "id": "FZros6vhbh7B"
      }
    },
    {
      "cell_type": "code",
      "source": [
        "G.number_of_edges()"
      ],
      "metadata": {
        "colab": {
          "base_uri": "https://localhost:8080/"
        },
        "id": "Yjt2ulsbbkJj",
        "outputId": "e2cb1231-2312-453e-ce71-9ce931a94347"
      },
      "execution_count": 257,
      "outputs": [
        {
          "output_type": "execute_result",
          "data": {
            "text/plain": [
              "1242347"
            ]
          },
          "metadata": {},
          "execution_count": 257
        }
      ]
    },
    {
      "cell_type": "markdown",
      "source": [
        "### Number of Nodes"
      ],
      "metadata": {
        "id": "3vICfS5Gblyy"
      }
    },
    {
      "cell_type": "code",
      "source": [
        "G.number_of_nodes()"
      ],
      "metadata": {
        "colab": {
          "base_uri": "https://localhost:8080/"
        },
        "id": "vLTjqw7hbnof",
        "outputId": "d0c15bc2-9312-4577-ae72-b83b7187143e"
      },
      "execution_count": 258,
      "outputs": [
        {
          "output_type": "execute_result",
          "data": {
            "text/plain": [
              "1157643"
            ]
          },
          "metadata": {},
          "execution_count": 258
        }
      ]
    },
    {
      "cell_type": "markdown",
      "source": [
        "There are 1,157,633 nodes in this graph and 1,292,954 edges. This means there are 1,292,954 connections"
      ],
      "metadata": {
        "id": "4C-5hODCs1y8"
      }
    },
    {
      "cell_type": "markdown",
      "source": [
        "### Degree Centrality\n",
        "\n",
        "The distribution of the degree centrality is shown below. The degrees are right skewed."
      ],
      "metadata": {
        "id": "uNwvNvoecF_D"
      }
    },
    {
      "cell_type": "code",
      "source": [
        "G_degree_centrality = nx.degree_centrality(G)"
      ],
      "metadata": {
        "id": "Ci5V-pyHbu_m"
      },
      "execution_count": 259,
      "outputs": []
    },
    {
      "cell_type": "code",
      "source": [
        "G_degree_list = [*G_degree_centrality.values()]"
      ],
      "metadata": {
        "id": "ocBrCwelb6HH"
      },
      "execution_count": 260,
      "outputs": []
    },
    {
      "cell_type": "code",
      "source": [
        "plt.boxplot(G_degree_list)\n",
        "plt.show()"
      ],
      "metadata": {
        "colab": {
          "base_uri": "https://localhost:8080/",
          "height": 430
        },
        "id": "zHsPCiGjb9OB",
        "outputId": "404ef9f4-14df-455e-c911-42902b1fd09d"
      },
      "execution_count": 261,
      "outputs": [
        {
          "output_type": "display_data",
          "data": {
            "text/plain": [
              "<Figure size 640x480 with 1 Axes>"
            ],
            "image/png": "[encoded data removed]"
          },
          "metadata": {}
        }
      ]
    },
    {
      "cell_type": "markdown",
      "source": [
        "#### Maximum Degree Centrality\n",
        "\n",
        "The category with the maximum degree centrality in the graph is Headphones."
      ],
      "metadata": {
        "id": "4kNe_NGxfI8X"
      }
    },
    {
      "cell_type": "code",
      "source": [
        "max(G_degree_centrality, key=G_degree_centrality.get)\n"
      ],
      "metadata": {
        "colab": {
          "base_uri": "https://localhost:8080/",
          "height": 35
        },
        "id": "pFznRSDfcAN4",
        "outputId": "f113e0f4-4436-4248-fc1c-2a2c02c3bb53"
      },
      "execution_count": 262,
      "outputs": [
        {
          "output_type": "execute_result",
          "data": {
            "text/plain": [
              "'Headphones'"
            ],
            "application/vnd.google.colaboratory.intrinsic+json": {
              "type": "string"
            }
          },
          "metadata": {},
          "execution_count": 262
        }
      ]
    },
    {
      "cell_type": "markdown",
      "metadata": {
        "id": "_l1Id-zRQlag"
      },
      "source": [
        "## Split by Categorical Data\n",
        "### Split by Ratings\n",
        "One graph will be the ratings that are less than 3 and the other the items that are greater than and equal to 3."
      ]
    },
    {
      "cell_type": "markdown",
      "metadata": {
        "id": "6tAzkFrGQlag"
      },
      "source": [
        "I will create two dataframes dividing it by the ratings available. The `high_rating_df` contains the reviews where the ratings were greater than or equal to 3. The dataframe `low_rating_df` contains the reviews where the ratings were less than 3."
      ]
    },
    {
      "cell_type": "code",
      "execution_count": null,
      "metadata": {
        "id": "XU_fyIvXQlag"
      },
      "outputs": [],
      "source": [
        "high_rating_df = df[df['rating'] >= 3]\n",
        "low_rating_df = df[df['rating'] < 3]\n"
      ]
    },
    {
      "cell_type": "markdown",
      "metadata": {
        "id": "Hw_CubyGQlag"
      },
      "source": [
        "My hypotheses is that there is a statistical difference between the degree centrality in the high rating dataset than the low rating dataset."
      ]
    },
    {
      "cell_type": "code",
      "execution_count": null,
      "metadata": {
        "id": "vNquPT50Qlag"
      },
      "outputs": [],
      "source": [
        "high_rating_graph = high_rating_df[['category', 'user_id', 'rating']]\n",
        "low_rating_graph = low_rating_df[['category', 'user_id', 'rating']]\n",
        "\n",
        "H = nx.from_pandas_edgelist(high_rating_graph, source= 'user_id', target='category', edge_attr='rating')\n",
        "L = nx.from_pandas_edgelist(low_rating_graph, source= 'user_id', target='category', edge_attr='rating')"
      ]
    },
    {
      "cell_type": "markdown",
      "metadata": {
        "id": "fbuVYysaQlah"
      },
      "source": [
        "### The Number of Edges"
      ]
    },
    {
      "cell_type": "code",
      "execution_count": null,
      "metadata": {
        "colab": {
          "base_uri": "https://localhost:8080/"
        },
        "id": "ERWqB7RqQlah",
        "outputId": "f13020cd-782d-41f7-c986-c9a9393973e0"
      },
      "outputs": [
        {
          "output_type": "execute_result",
          "data": {
            "text/plain": [
              "1030869"
            ]
          },
          "metadata": {},
          "execution_count": 217
        }
      ],
      "source": [
        "H.number_of_edges()"
      ]
    },
    {
      "cell_type": "code",
      "execution_count": null,
      "metadata": {
        "colab": {
          "base_uri": "https://localhost:8080/"
        },
        "id": "5iokMs_ZQlah",
        "outputId": "326e567a-da58-4330-c659-2c1e82636a33"
      },
      "outputs": [
        {
          "output_type": "execute_result",
          "data": {
            "text/plain": [
              "220021"
            ]
          },
          "metadata": {},
          "execution_count": 218
        }
      ],
      "source": [
        "L.number_of_edges()"
      ]
    },
    {
      "cell_type": "markdown",
      "source": [
        "There are 1030869 edges in the high rating graph. The lower rating graph has 220021 edges."
      ],
      "metadata": {
        "id": "-zmZnnjutEy1"
      }
    },
    {
      "cell_type": "markdown",
      "metadata": {
        "id": "WJvHdU5MQlah"
      },
      "source": [
        "### The Number of Nodes"
      ]
    },
    {
      "cell_type": "code",
      "execution_count": null,
      "metadata": {
        "colab": {
          "base_uri": "https://localhost:8080/"
        },
        "id": "26MfOFMJQlai",
        "outputId": "8003d928-eb2c-47b7-d453-2ccc4ebfb4ea"
      },
      "outputs": [
        {
          "output_type": "execute_result",
          "data": {
            "text/plain": [
              "963476"
            ]
          },
          "metadata": {},
          "execution_count": 219
        }
      ],
      "source": [
        "H.number_of_nodes()"
      ]
    },
    {
      "cell_type": "code",
      "execution_count": null,
      "metadata": {
        "colab": {
          "base_uri": "https://localhost:8080/"
        },
        "id": "VC0ERgQkQlai",
        "outputId": "b26092f7-f031-498f-d870-5fd30879162d"
      },
      "outputs": [
        {
          "output_type": "execute_result",
          "data": {
            "text/plain": [
              "216796"
            ]
          },
          "metadata": {},
          "execution_count": 220
        }
      ],
      "source": [
        "L.number_of_nodes()"
      ]
    },
    {
      "cell_type": "markdown",
      "source": [
        "The high rating graph has 963476 nodes and the low rating graph has 216796 nodes."
      ],
      "metadata": {
        "id": "uGTxroSWtTmX"
      }
    },
    {
      "cell_type": "markdown",
      "metadata": {
        "id": "d2RKvtkjQlai"
      },
      "source": [
        "## High Graph"
      ]
    },
    {
      "cell_type": "code",
      "execution_count": null,
      "metadata": {
        "colab": {
          "base_uri": "https://localhost:8080/",
          "height": 516
        },
        "id": "gsMLbj4RQlai",
        "outputId": "007e8fb7-1679-4eea-e9db-25e339dad35c"
      },
      "outputs": [
        {
          "output_type": "display_data",
          "data": {
            "text/plain": [
              "<Figure size 640x480 with 1 Axes>"
            ],
            "image/png": "[encoded data removed]"
          },
          "metadata": {}
        }
      ],
      "source": [
        "H_subset = high_rating_graph.iloc[0:999]\n",
        "H_subset_graph = nx.from_pandas_edgelist(H_subset, source= 'user_id', target='category', edge_attr='rating')\n",
        "nx.draw(H_subset_graph, node_size=1)"
      ]
    },
    {
      "cell_type": "markdown",
      "metadata": {
        "id": "Ww06KdipQlai"
      },
      "source": [
        "### Degree Centrality"
      ]
    },
    {
      "cell_type": "code",
      "execution_count": null,
      "metadata": {
        "id": "anVZVoeQQlai"
      },
      "outputs": [],
      "source": [
        "H_degree_centrality = nx.degree_centrality(H)"
      ]
    },
    {
      "cell_type": "code",
      "execution_count": null,
      "metadata": {
        "id": "mlsx77CwQlaj"
      },
      "outputs": [],
      "source": [
        "H_degree_list = [*H_degree_centrality.values()]"
      ]
    },
    {
      "cell_type": "code",
      "source": [
        "H_degree_centrality"
      ],
      "metadata": {
        "colab": {
          "base_uri": "https://localhost:8080/"
        },
        "id": "4FdqqzMxbn8v",
        "outputId": "17ea719a-07f5-4d82-da89-93afbfe6c367"
      },
      "execution_count": 264,
      "outputs": [
        {
          "output_type": "execute_result",
          "data": {
            "text/plain": [
              "{'Portable Audio & Video': 0.12314175251044397,\n",
              " 0: 1.0379096499649706e-06,\n",
              " 1: 1.0379096499649706e-06,\n",
              " 2: 1.0379096499649706e-06,\n",
              " 6: 1.0379096499649706e-06,\n",
              " 8: 1.0379096499649706e-06,\n",
              " 9: 1.0379096499649706e-06,\n",
              " 12: 1.0379096499649706e-06,\n",
              " 13: 1.0379096499649706e-06,\n",
              " 'Computers & Accessories': 0.26891097329977426,\n",
              " 14: 1.0379096499649706e-06,\n",
              " 15: 1.0379096499649706e-06,\n",
              " 'Headphones': 0.284119463400711,\n",
              " 16: 1.0379096499649706e-06,\n",
              " 17: 1.0379096499649706e-06,\n",
              " 19: 1.0379096499649706e-06,\n",
              " 20: 1.0379096499649706e-06,\n",
              " 21: 1.0379096499649706e-06,\n",
              " 23: 1.0379096499649706e-06,\n",
              " 24: 1.0379096499649706e-06,\n",
              " 25: 1.0379096499649706e-06,\n",
              " 26: 1.0379096499649706e-06,\n",
              " 27: 1.0379096499649706e-06,\n",
              " 30: 1.0379096499649706e-06,\n",
              " 31: 1.0379096499649706e-06,\n",
              " 32: 1.0379096499649706e-06,\n",
              " 33: 1.0379096499649706e-06,\n",
              " 34: 1.0379096499649706e-06,\n",
              " 35: 1.0379096499649706e-06,\n",
              " 36: 1.0379096499649706e-06,\n",
              " 37: 1.0379096499649706e-06,\n",
              " 39: 1.0379096499649706e-06,\n",
              " 40: 1.0379096499649706e-06,\n",
              " 42: 1.0379096499649706e-06,\n",
              " 43: 1.0379096499649706e-06,\n",
              " 44: 1.0379096499649706e-06,\n",
              " 45: 1.0379096499649706e-06,\n",
              " 46: 1.0379096499649706e-06,\n",
              " 47: 1.0379096499649706e-06,\n",
              " 49: 1.0379096499649706e-06,\n",
              " 50: 1.0379096499649706e-06,\n",
              " 52: 1.0379096499649706e-06,\n",
              " 54: 1.0379096499649706e-06,\n",
              " 55: 1.0379096499649706e-06,\n",
              " 56: 1.0379096499649706e-06,\n",
              " 57: 1.0379096499649706e-06,\n",
              " 58: 1.0379096499649706e-06,\n",
              " 59: 1.0379096499649706e-06,\n",
              " 60: 1.0379096499649706e-06,\n",
              " 61: 1.0379096499649706e-06,\n",
              " 62: 3.1137289498949117e-06,\n",
              " 63: 2.0758192999299413e-06,\n",
              " 64: 1.0379096499649706e-06,\n",
              " 66: 1.0379096499649706e-06,\n",
              " 68: 1.0379096499649706e-06,\n",
              " 69: 1.0379096499649706e-06,\n",
              " 71: 1.0379096499649706e-06,\n",
              " 72: 1.0379096499649706e-06,\n",
              " 73: 1.0379096499649706e-06,\n",
              " 75: 1.0379096499649706e-06,\n",
              " 76: 1.0379096499649706e-06,\n",
              " 'Camera & Photo': 0.1591852409247775,\n",
              " 78: 1.0379096499649706e-06,\n",
              " 79: 1.0379096499649706e-06,\n",
              " 80: 1.0379096499649706e-06,\n",
              " 81: 1.0379096499649706e-06,\n",
              " 82: 1.0379096499649706e-06,\n",
              " 83: 1.0379096499649706e-06,\n",
              " 85: 1.0379096499649706e-06,\n",
              " 87: 1.0379096499649706e-06,\n",
              " 88: 1.0379096499649706e-06,\n",
              " 89: 1.0379096499649706e-06,\n",
              " 90: 1.0379096499649706e-06,\n",
              " 92: 1.0379096499649706e-06,\n",
              " 95: 1.0379096499649706e-06,\n",
              " 96: 2.0758192999299413e-06,\n",
              " 98: 1.0379096499649706e-06,\n",
              " 100: 1.0379096499649706e-06,\n",
              " 101: 1.0379096499649706e-06,\n",
              " 102: 1.0379096499649706e-06,\n",
              " 103: 1.0379096499649706e-06,\n",
              " 104: 1.0379096499649706e-06,\n",
              " 105: 1.0379096499649706e-06,\n",
              " 106: 1.0379096499649706e-06,\n",
              " 107: 1.0379096499649706e-06,\n",
              " 108: 1.0379096499649706e-06,\n",
              " 109: 1.0379096499649706e-06,\n",
              " 110: 1.0379096499649706e-06,\n",
              " 111: 1.0379096499649706e-06,\n",
              " 113: 1.0379096499649706e-06,\n",
              " 114: 1.0379096499649706e-06,\n",
              " 116: 1.0379096499649706e-06,\n",
              " 'Television & Video': 0.025761955421780537,\n",
              " 117: 1.0379096499649706e-06,\n",
              " 118: 1.0379096499649706e-06,\n",
              " 119: 1.0379096499649706e-06,\n",
              " 120: 1.0379096499649706e-06,\n",
              " 121: 1.0379096499649706e-06,\n",
              " 122: 1.0379096499649706e-06,\n",
              " 124: 1.0379096499649706e-06,\n",
              " 125: 1.0379096499649706e-06,\n",
              " 126: 1.0379096499649706e-06,\n",
              " 'Home Audio': 0.020648174576403125,\n",
              " 127: 1.0379096499649706e-06,\n",
              " 128: 1.0379096499649706e-06,\n",
              " 129: 1.0379096499649706e-06,\n",
              " 'Accessories & Supplies': 0.1399974052258751,\n",
              " 130: 1.0379096499649706e-06,\n",
              " 131: 3.1137289498949117e-06,\n",
              " 132: 2.0758192999299413e-06,\n",
              " 133: 1.0379096499649706e-06,\n",
              " 134: 1.0379096499649706e-06,\n",
              " 136: 1.0379096499649706e-06,\n",
              " 137: 1.0379096499649706e-06,\n",
              " 138: 1.0379096499649706e-06,\n",
              " 139: 2.0758192999299413e-06,\n",
              " 141: 1.0379096499649706e-06,\n",
              " 142: 1.0379096499649706e-06,\n",
              " 143: 1.0379096499649706e-06,\n",
              " 144: 1.0379096499649706e-06,\n",
              " 146: 2.0758192999299413e-06,\n",
              " 147: 1.0379096499649706e-06,\n",
              " 148: 1.0379096499649706e-06,\n",
              " 149: 1.0379096499649706e-06,\n",
              " 150: 1.0379096499649706e-06,\n",
              " 151: 1.0379096499649706e-06,\n",
              " 152: 1.0379096499649706e-06,\n",
              " 153: 1.0379096499649706e-06,\n",
              " 154: 1.0379096499649706e-06,\n",
              " 155: 1.0379096499649706e-06,\n",
              " 156: 1.0379096499649706e-06,\n",
              " 159: 1.0379096499649706e-06,\n",
              " 160: 1.0379096499649706e-06,\n",
              " 161: 1.0379096499649706e-06,\n",
              " 162: 1.0379096499649706e-06,\n",
              " 163: 1.0379096499649706e-06,\n",
              " 164: 1.0379096499649706e-06,\n",
              " 166: 1.0379096499649706e-06,\n",
              " 167: 1.0379096499649706e-06,\n",
              " 169: 1.0379096499649706e-06,\n",
              " 170: 1.0379096499649706e-06,\n",
              " 171: 1.0379096499649706e-06,\n",
              " 172: 1.0379096499649706e-06,\n",
              " 173: 1.0379096499649706e-06,\n",
              " 174: 1.0379096499649706e-06,\n",
              " 175: 1.0379096499649706e-06,\n",
              " 176: 1.0379096499649706e-06,\n",
              " 177: 1.0379096499649706e-06,\n",
              " 179: 1.0379096499649706e-06,\n",
              " 180: 1.0379096499649706e-06,\n",
              " 181: 1.0379096499649706e-06,\n",
              " 182: 1.0379096499649706e-06,\n",
              " 158: 2.0758192999299413e-06,\n",
              " 183: 1.0379096499649706e-06,\n",
              " 184: 1.0379096499649706e-06,\n",
              " 185: 1.0379096499649706e-06,\n",
              " 186: 1.0379096499649706e-06,\n",
              " 187: 1.0379096499649706e-06,\n",
              " 188: 1.0379096499649706e-06,\n",
              " 189: 1.0379096499649706e-06,\n",
              " 190: 1.0379096499649706e-06,\n",
              " 191: 1.0379096499649706e-06,\n",
              " 192: 1.0379096499649706e-06,\n",
              " 194: 1.0379096499649706e-06,\n",
              " 195: 1.0379096499649706e-06,\n",
              " 196: 1.0379096499649706e-06,\n",
              " 197: 1.0379096499649706e-06,\n",
              " 198: 1.0379096499649706e-06,\n",
              " 199: 1.0379096499649706e-06,\n",
              " 200: 1.0379096499649706e-06,\n",
              " 201: 1.0379096499649706e-06,\n",
              " 202: 1.0379096499649706e-06,\n",
              " 203: 1.0379096499649706e-06,\n",
              " 204: 1.0379096499649706e-06,\n",
              " 205: 1.0379096499649706e-06,\n",
              " 206: 1.0379096499649706e-06,\n",
              " 207: 1.0379096499649706e-06,\n",
              " 208: 1.0379096499649706e-06,\n",
              " 209: 1.0379096499649706e-06,\n",
              " 210: 1.0379096499649706e-06,\n",
              " 212: 1.0379096499649706e-06,\n",
              " 213: 1.0379096499649706e-06,\n",
              " 214: 1.0379096499649706e-06,\n",
              " 215: 1.0379096499649706e-06,\n",
              " 216: 1.0379096499649706e-06,\n",
              " 217: 1.0379096499649706e-06,\n",
              " 218: 1.0379096499649706e-06,\n",
              " 219: 1.0379096499649706e-06,\n",
              " 221: 1.0379096499649706e-06,\n",
              " 222: 1.0379096499649706e-06,\n",
              " 225: 1.0379096499649706e-06,\n",
              " 226: 1.0379096499649706e-06,\n",
              " 227: 1.0379096499649706e-06,\n",
              " 228: 1.0379096499649706e-06,\n",
              " 229: 1.0379096499649706e-06,\n",
              " 231: 1.0379096499649706e-06,\n",
              " 232: 1.0379096499649706e-06,\n",
              " 233: 2.0758192999299413e-06,\n",
              " 234: 1.0379096499649706e-06,\n",
              " 235: 1.0379096499649706e-06,\n",
              " 236: 1.0379096499649706e-06,\n",
              " 237: 1.0379096499649706e-06,\n",
              " 238: 1.0379096499649706e-06,\n",
              " 239: 1.0379096499649706e-06,\n",
              " 241: 1.0379096499649706e-06,\n",
              " 242: 1.0379096499649706e-06,\n",
              " 243: 1.0379096499649706e-06,\n",
              " 244: 1.0379096499649706e-06,\n",
              " 245: 1.0379096499649706e-06,\n",
              " 246: 1.0379096499649706e-06,\n",
              " 248: 1.0379096499649706e-06,\n",
              " 249: 1.0379096499649706e-06,\n",
              " 250: 1.0379096499649706e-06,\n",
              " 251: 1.0379096499649706e-06,\n",
              " 252: 1.0379096499649706e-06,\n",
              " 253: 1.0379096499649706e-06,\n",
              " 254: 1.0379096499649706e-06,\n",
              " 256: 1.0379096499649706e-06,\n",
              " 257: 1.0379096499649706e-06,\n",
              " 258: 1.0379096499649706e-06,\n",
              " 259: 1.0379096499649706e-06,\n",
              " 261: 1.0379096499649706e-06,\n",
              " 262: 2.0758192999299413e-06,\n",
              " 263: 1.0379096499649706e-06,\n",
              " 264: 1.0379096499649706e-06,\n",
              " 265: 1.0379096499649706e-06,\n",
              " 266: 1.0379096499649706e-06,\n",
              " 267: 1.0379096499649706e-06,\n",
              " 269: 4.1516385998598826e-06,\n",
              " 270: 1.0379096499649706e-06,\n",
              " 272: 1.0379096499649706e-06,\n",
              " 273: 1.0379096499649706e-06,\n",
              " 274: 1.0379096499649706e-06,\n",
              " 275: 1.0379096499649706e-06,\n",
              " 276: 1.0379096499649706e-06,\n",
              " 277: 1.0379096499649706e-06,\n",
              " 278: 1.0379096499649706e-06,\n",
              " 279: 1.0379096499649706e-06,\n",
              " 280: 1.0379096499649706e-06,\n",
              " 281: 2.0758192999299413e-06,\n",
              " 282: 1.0379096499649706e-06,\n",
              " 283: 2.0758192999299413e-06,\n",
              " 284: 1.0379096499649706e-06,\n",
              " 285: 1.0379096499649706e-06,\n",
              " 286: 1.0379096499649706e-06,\n",
              " 287: 1.0379096499649706e-06,\n",
              " 288: 1.0379096499649706e-06,\n",
              " 289: 1.0379096499649706e-06,\n",
              " 290: 1.0379096499649706e-06,\n",
              " 291: 1.0379096499649706e-06,\n",
              " 292: 1.0379096499649706e-06,\n",
              " 294: 1.0379096499649706e-06,\n",
              " 296: 1.0379096499649706e-06,\n",
              " 297: 1.0379096499649706e-06,\n",
              " 298: 1.0379096499649706e-06,\n",
              " 299: 1.0379096499649706e-06,\n",
              " 300: 2.0758192999299413e-06,\n",
              " 301: 1.0379096499649706e-06,\n",
              " 302: 1.0379096499649706e-06,\n",
              " 303: 1.0379096499649706e-06,\n",
              " 304: 1.0379096499649706e-06,\n",
              " 306: 1.0379096499649706e-06,\n",
              " 308: 1.0379096499649706e-06,\n",
              " 309: 1.0379096499649706e-06,\n",
              " 310: 1.0379096499649706e-06,\n",
              " 311: 1.0379096499649706e-06,\n",
              " 312: 2.0758192999299413e-06,\n",
              " 313: 1.0379096499649706e-06,\n",
              " 314: 1.0379096499649706e-06,\n",
              " 315: 1.0379096499649706e-06,\n",
              " 316: 2.0758192999299413e-06,\n",
              " 317: 1.0379096499649706e-06,\n",
              " 318: 1.0379096499649706e-06,\n",
              " 319: 1.0379096499649706e-06,\n",
              " 320: 1.0379096499649706e-06,\n",
              " 321: 1.0379096499649706e-06,\n",
              " 323: 1.0379096499649706e-06,\n",
              " 325: 1.0379096499649706e-06,\n",
              " 326: 1.0379096499649706e-06,\n",
              " 328: 1.0379096499649706e-06,\n",
              " 330: 1.0379096499649706e-06,\n",
              " 331: 1.0379096499649706e-06,\n",
              " 332: 1.0379096499649706e-06,\n",
              " 333: 1.0379096499649706e-06,\n",
              " 334: 1.0379096499649706e-06,\n",
              " 336: 1.0379096499649706e-06,\n",
              " 337: 1.0379096499649706e-06,\n",
              " 338: 1.0379096499649706e-06,\n",
              " 339: 1.0379096499649706e-06,\n",
              " 341: 1.0379096499649706e-06,\n",
              " 342: 1.0379096499649706e-06,\n",
              " 343: 1.0379096499649706e-06,\n",
              " 344: 1.0379096499649706e-06,\n",
              " 345: 1.0379096499649706e-06,\n",
              " 346: 1.0379096499649706e-06,\n",
              " 348: 1.0379096499649706e-06,\n",
              " 349: 1.0379096499649706e-06,\n",
              " 350: 1.0379096499649706e-06,\n",
              " 351: 1.0379096499649706e-06,\n",
              " 352: 1.0379096499649706e-06,\n",
              " 353: 1.0379096499649706e-06,\n",
              " 354: 1.0379096499649706e-06,\n",
              " 355: 1.0379096499649706e-06,\n",
              " 356: 1.0379096499649706e-06,\n",
              " 357: 1.0379096499649706e-06,\n",
              " 358: 1.0379096499649706e-06,\n",
              " 359: 1.0379096499649706e-06,\n",
              " 360: 1.0379096499649706e-06,\n",
              " 361: 1.0379096499649706e-06,\n",
              " 363: 1.0379096499649706e-06,\n",
              " 364: 1.0379096499649706e-06,\n",
              " 365: 1.0379096499649706e-06,\n",
              " 366: 1.0379096499649706e-06,\n",
              " 367: 1.0379096499649706e-06,\n",
              " 368: 1.0379096499649706e-06,\n",
              " 369: 2.0758192999299413e-06,\n",
              " 370: 1.0379096499649706e-06,\n",
              " 371: 1.0379096499649706e-06,\n",
              " 372: 4.1516385998598826e-06,\n",
              " 373: 1.0379096499649706e-06,\n",
              " 375: 1.0379096499649706e-06,\n",
              " 376: 1.0379096499649706e-06,\n",
              " 377: 1.0379096499649706e-06,\n",
              " 378: 1.0379096499649706e-06,\n",
              " 379: 1.0379096499649706e-06,\n",
              " 381: 1.0379096499649706e-06,\n",
              " 382: 1.0379096499649706e-06,\n",
              " 383: 1.0379096499649706e-06,\n",
              " 384: 1.0379096499649706e-06,\n",
              " 385: 2.0758192999299413e-06,\n",
              " 386: 1.0379096499649706e-06,\n",
              " 387: 1.0379096499649706e-06,\n",
              " 388: 1.0379096499649706e-06,\n",
              " 389: 1.0379096499649706e-06,\n",
              " 392: 2.0758192999299413e-06,\n",
              " 393: 1.0379096499649706e-06,\n",
              " 394: 1.0379096499649706e-06,\n",
              " 395: 1.0379096499649706e-06,\n",
              " 396: 1.0379096499649706e-06,\n",
              " 397: 1.0379096499649706e-06,\n",
              " 398: 1.0379096499649706e-06,\n",
              " 399: 1.0379096499649706e-06,\n",
              " 400: 1.0379096499649706e-06,\n",
              " 401: 1.0379096499649706e-06,\n",
              " 402: 1.0379096499649706e-06,\n",
              " 403: 1.0379096499649706e-06,\n",
              " 404: 1.0379096499649706e-06,\n",
              " 405: 1.0379096499649706e-06,\n",
              " 406: 1.0379096499649706e-06,\n",
              " 407: 1.0379096499649706e-06,\n",
              " 408: 1.0379096499649706e-06,\n",
              " 409: 1.0379096499649706e-06,\n",
              " 410: 1.0379096499649706e-06,\n",
              " 411: 1.0379096499649706e-06,\n",
              " 413: 1.0379096499649706e-06,\n",
              " 414: 1.0379096499649706e-06,\n",
              " 415: 1.0379096499649706e-06,\n",
              " 416: 1.0379096499649706e-06,\n",
              " 418: 1.0379096499649706e-06,\n",
              " 419: 1.0379096499649706e-06,\n",
              " 420: 1.0379096499649706e-06,\n",
              " 421: 1.0379096499649706e-06,\n",
              " 422: 1.0379096499649706e-06,\n",
              " 423: 1.0379096499649706e-06,\n",
              " 425: 1.0379096499649706e-06,\n",
              " 426: 1.0379096499649706e-06,\n",
              " 427: 1.0379096499649706e-06,\n",
              " 428: 2.0758192999299413e-06,\n",
              " 429: 1.0379096499649706e-06,\n",
              " 431: 1.0379096499649706e-06,\n",
              " 432: 3.1137289498949117e-06,\n",
              " 433: 1.0379096499649706e-06,\n",
              " 434: 1.0379096499649706e-06,\n",
              " 435: 1.0379096499649706e-06,\n",
              " 436: 1.0379096499649706e-06,\n",
              " 437: 1.0379096499649706e-06,\n",
              " 438: 1.0379096499649706e-06,\n",
              " 439: 1.0379096499649706e-06,\n",
              " 440: 2.0758192999299413e-06,\n",
              " 441: 1.0379096499649706e-06,\n",
              " 442: 1.0379096499649706e-06,\n",
              " 443: 1.0379096499649706e-06,\n",
              " 444: 1.0379096499649706e-06,\n",
              " 445: 1.0379096499649706e-06,\n",
              " 446: 1.0379096499649706e-06,\n",
              " 448: 1.0379096499649706e-06,\n",
              " 449: 1.0379096499649706e-06,\n",
              " 451: 1.0379096499649706e-06,\n",
              " 452: 1.0379096499649706e-06,\n",
              " 453: 1.0379096499649706e-06,\n",
              " 454: 1.0379096499649706e-06,\n",
              " 455: 1.0379096499649706e-06,\n",
              " 458: 1.0379096499649706e-06,\n",
              " 459: 1.0379096499649706e-06,\n",
              " 460: 1.0379096499649706e-06,\n",
              " 461: 1.0379096499649706e-06,\n",
              " 462: 1.0379096499649706e-06,\n",
              " 463: 1.0379096499649706e-06,\n",
              " 464: 1.0379096499649706e-06,\n",
              " 465: 1.0379096499649706e-06,\n",
              " 466: 1.0379096499649706e-06,\n",
              " 468: 1.0379096499649706e-06,\n",
              " 469: 1.0379096499649706e-06,\n",
              " 470: 1.0379096499649706e-06,\n",
              " 471: 1.0379096499649706e-06,\n",
              " 472: 1.0379096499649706e-06,\n",
              " 474: 1.0379096499649706e-06,\n",
              " 475: 2.0758192999299413e-06,\n",
              " 477: 1.0379096499649706e-06,\n",
              " 479: 1.0379096499649706e-06,\n",
              " 480: 1.0379096499649706e-06,\n",
              " 481: 2.0758192999299413e-06,\n",
              " 482: 1.0379096499649706e-06,\n",
              " 483: 1.0379096499649706e-06,\n",
              " 484: 1.0379096499649706e-06,\n",
              " 485: 1.0379096499649706e-06,\n",
              " 486: 1.0379096499649706e-06,\n",
              " 488: 1.0379096499649706e-06,\n",
              " 489: 1.0379096499649706e-06,\n",
              " 490: 1.0379096499649706e-06,\n",
              " 492: 1.0379096499649706e-06,\n",
              " 493: 1.0379096499649706e-06,\n",
              " 494: 1.0379096499649706e-06,\n",
              " 495: 1.0379096499649706e-06,\n",
              " 496: 1.0379096499649706e-06,\n",
              " 497: 1.0379096499649706e-06,\n",
              " 498: 1.0379096499649706e-06,\n",
              " 499: 1.0379096499649706e-06,\n",
              " 500: 1.0379096499649706e-06,\n",
              " 501: 1.0379096499649706e-06,\n",
              " 502: 1.0379096499649706e-06,\n",
              " 503: 1.0379096499649706e-06,\n",
              " 504: 1.0379096499649706e-06,\n",
              " 505: 1.0379096499649706e-06,\n",
              " 506: 1.0379096499649706e-06,\n",
              " 507: 1.0379096499649706e-06,\n",
              " 509: 1.0379096499649706e-06,\n",
              " 510: 1.0379096499649706e-06,\n",
              " 511: 1.0379096499649706e-06,\n",
              " 512: 1.0379096499649706e-06,\n",
              " 513: 1.0379096499649706e-06,\n",
              " 514: 1.0379096499649706e-06,\n",
              " 515: 1.0379096499649706e-06,\n",
              " 517: 1.0379096499649706e-06,\n",
              " 518: 1.0379096499649706e-06,\n",
              " 519: 1.0379096499649706e-06,\n",
              " 520: 1.0379096499649706e-06,\n",
              " 521: 1.0379096499649706e-06,\n",
              " 522: 1.0379096499649706e-06,\n",
              " 523: 1.0379096499649706e-06,\n",
              " 524: 1.0379096499649706e-06,\n",
              " 526: 1.0379096499649706e-06,\n",
              " 527: 1.0379096499649706e-06,\n",
              " 528: 1.0379096499649706e-06,\n",
              " 531: 1.0379096499649706e-06,\n",
              " 533: 2.0758192999299413e-06,\n",
              " 534: 1.0379096499649706e-06,\n",
              " 535: 1.0379096499649706e-06,\n",
              " 536: 1.0379096499649706e-06,\n",
              " 537: 1.0379096499649706e-06,\n",
              " 539: 1.0379096499649706e-06,\n",
              " 540: 1.0379096499649706e-06,\n",
              " 541: 1.0379096499649706e-06,\n",
              " 542: 1.0379096499649706e-06,\n",
              " 545: 1.0379096499649706e-06,\n",
              " 546: 1.0379096499649706e-06,\n",
              " 547: 1.0379096499649706e-06,\n",
              " 548: 1.0379096499649706e-06,\n",
              " 549: 1.0379096499649706e-06,\n",
              " 550: 2.0758192999299413e-06,\n",
              " 551: 1.0379096499649706e-06,\n",
              " 552: 1.0379096499649706e-06,\n",
              " 553: 1.0379096499649706e-06,\n",
              " 554: 1.0379096499649706e-06,\n",
              " 555: 1.0379096499649706e-06,\n",
              " 557: 1.0379096499649706e-06,\n",
              " 558: 1.0379096499649706e-06,\n",
              " 559: 1.0379096499649706e-06,\n",
              " 560: 1.0379096499649706e-06,\n",
              " 561: 1.0379096499649706e-06,\n",
              " 562: 1.0379096499649706e-06,\n",
              " 563: 1.0379096499649706e-06,\n",
              " 564: 1.0379096499649706e-06,\n",
              " 565: 1.0379096499649706e-06,\n",
              " 566: 1.0379096499649706e-06,\n",
              " 567: 1.0379096499649706e-06,\n",
              " 569: 1.0379096499649706e-06,\n",
              " 570: 1.0379096499649706e-06,\n",
              " 571: 1.0379096499649706e-06,\n",
              " 572: 1.0379096499649706e-06,\n",
              " 573: 1.0379096499649706e-06,\n",
              " 574: 2.0758192999299413e-06,\n",
              " 575: 1.0379096499649706e-06,\n",
              " 576: 1.0379096499649706e-06,\n",
              " 577: 1.0379096499649706e-06,\n",
              " 578: 1.0379096499649706e-06,\n",
              " 579: 1.0379096499649706e-06,\n",
              " 580: 1.0379096499649706e-06,\n",
              " 581: 1.0379096499649706e-06,\n",
              " 582: 1.0379096499649706e-06,\n",
              " 583: 1.0379096499649706e-06,\n",
              " 584: 1.0379096499649706e-06,\n",
              " 585: 1.0379096499649706e-06,\n",
              " 586: 1.0379096499649706e-06,\n",
              " 587: 1.0379096499649706e-06,\n",
              " 588: 1.0379096499649706e-06,\n",
              " 589: 1.0379096499649706e-06,\n",
              " 590: 1.0379096499649706e-06,\n",
              " 592: 1.0379096499649706e-06,\n",
              " 593: 1.0379096499649706e-06,\n",
              " 595: 1.0379096499649706e-06,\n",
              " 596: 1.0379096499649706e-06,\n",
              " 597: 1.0379096499649706e-06,\n",
              " 599: 1.0379096499649706e-06,\n",
              " 600: 1.0379096499649706e-06,\n",
              " 601: 1.0379096499649706e-06,\n",
              " 602: 1.0379096499649706e-06,\n",
              " 603: 3.1137289498949117e-06,\n",
              " 605: 1.0379096499649706e-06,\n",
              " 606: 1.0379096499649706e-06,\n",
              " 608: 1.0379096499649706e-06,\n",
              " 609: 1.0379096499649706e-06,\n",
              " 610: 1.0379096499649706e-06,\n",
              " 611: 1.0379096499649706e-06,\n",
              " 612: 1.0379096499649706e-06,\n",
              " 613: 1.0379096499649706e-06,\n",
              " 614: 1.0379096499649706e-06,\n",
              " 615: 1.0379096499649706e-06,\n",
              " 616: 1.0379096499649706e-06,\n",
              " 617: 1.0379096499649706e-06,\n",
              " 618: 1.0379096499649706e-06,\n",
              " 619: 1.0379096499649706e-06,\n",
              " 620: 1.0379096499649706e-06,\n",
              " 621: 1.0379096499649706e-06,\n",
              " 623: 1.0379096499649706e-06,\n",
              " 624: 1.0379096499649706e-06,\n",
              " 625: 3.1137289498949117e-06,\n",
              " 626: 1.0379096499649706e-06,\n",
              " 627: 2.0758192999299413e-06,\n",
              " 628: 1.0379096499649706e-06,\n",
              " 630: 1.0379096499649706e-06,\n",
              " 631: 1.0379096499649706e-06,\n",
              " 632: 1.0379096499649706e-06,\n",
              " 633: 1.0379096499649706e-06,\n",
              " 634: 1.0379096499649706e-06,\n",
              " 635: 1.0379096499649706e-06,\n",
              " 636: 1.0379096499649706e-06,\n",
              " 637: 1.0379096499649706e-06,\n",
              " 639: 1.0379096499649706e-06,\n",
              " 640: 1.0379096499649706e-06,\n",
              " 641: 1.0379096499649706e-06,\n",
              " 643: 1.0379096499649706e-06,\n",
              " 645: 1.0379096499649706e-06,\n",
              " 646: 1.0379096499649706e-06,\n",
              " 647: 1.0379096499649706e-06,\n",
              " 648: 1.0379096499649706e-06,\n",
              " 649: 1.0379096499649706e-06,\n",
              " 650: 1.0379096499649706e-06,\n",
              " 651: 1.0379096499649706e-06,\n",
              " 653: 1.0379096499649706e-06,\n",
              " 654: 1.0379096499649706e-06,\n",
              " 655: 1.0379096499649706e-06,\n",
              " 656: 1.0379096499649706e-06,\n",
              " 657: 1.0379096499649706e-06,\n",
              " 659: 1.0379096499649706e-06,\n",
              " 661: 1.0379096499649706e-06,\n",
              " 663: 1.0379096499649706e-06,\n",
              " 664: 1.0379096499649706e-06,\n",
              " 665: 1.0379096499649706e-06,\n",
              " 666: 1.0379096499649706e-06,\n",
              " 667: 1.0379096499649706e-06,\n",
              " 668: 1.0379096499649706e-06,\n",
              " 670: 1.0379096499649706e-06,\n",
              " 671: 3.1137289498949117e-06,\n",
              " 673: 1.0379096499649706e-06,\n",
              " 674: 1.0379096499649706e-06,\n",
              " 675: 1.0379096499649706e-06,\n",
              " 676: 1.0379096499649706e-06,\n",
              " 677: 1.0379096499649706e-06,\n",
              " 678: 1.0379096499649706e-06,\n",
              " 679: 1.0379096499649706e-06,\n",
              " 680: 1.0379096499649706e-06,\n",
              " 682: 1.0379096499649706e-06,\n",
              " 685: 2.0758192999299413e-06,\n",
              " 686: 2.0758192999299413e-06,\n",
              " 687: 1.0379096499649706e-06,\n",
              " 688: 1.0379096499649706e-06,\n",
              " 690: 1.0379096499649706e-06,\n",
              " 692: 1.0379096499649706e-06,\n",
              " 693: 1.0379096499649706e-06,\n",
              " 695: 1.0379096499649706e-06,\n",
              " 696: 1.0379096499649706e-06,\n",
              " 697: 1.0379096499649706e-06,\n",
              " 698: 2.0758192999299413e-06,\n",
              " 699: 2.0758192999299413e-06,\n",
              " 700: 1.0379096499649706e-06,\n",
              " 701: 1.0379096499649706e-06,\n",
              " 702: 2.0758192999299413e-06,\n",
              " 703: 1.0379096499649706e-06,\n",
              " 704: 1.0379096499649706e-06,\n",
              " 705: 1.0379096499649706e-06,\n",
              " 706: 1.0379096499649706e-06,\n",
              " 707: 4.1516385998598826e-06,\n",
              " 708: 1.0379096499649706e-06,\n",
              " 709: 1.0379096499649706e-06,\n",
              " 711: 1.0379096499649706e-06,\n",
              " 712: 1.0379096499649706e-06,\n",
              " 713: 1.0379096499649706e-06,\n",
              " 714: 1.0379096499649706e-06,\n",
              " 715: 1.0379096499649706e-06,\n",
              " 716: 1.0379096499649706e-06,\n",
              " 717: 2.0758192999299413e-06,\n",
              " 718: 1.0379096499649706e-06,\n",
              " 719: 1.0379096499649706e-06,\n",
              " 720: 1.0379096499649706e-06,\n",
              " 722: 1.0379096499649706e-06,\n",
              " 723: 1.0379096499649706e-06,\n",
              " 724: 1.0379096499649706e-06,\n",
              " 725: 2.0758192999299413e-06,\n",
              " 726: 1.0379096499649706e-06,\n",
              " 728: 1.0379096499649706e-06,\n",
              " 729: 1.0379096499649706e-06,\n",
              " 730: 1.0379096499649706e-06,\n",
              " 732: 1.0379096499649706e-06,\n",
              " 734: 1.0379096499649706e-06,\n",
              " 735: 1.0379096499649706e-06,\n",
              " 736: 1.0379096499649706e-06,\n",
              " 737: 1.0379096499649706e-06,\n",
              " 739: 1.0379096499649706e-06,\n",
              " 740: 1.0379096499649706e-06,\n",
              " 741: 3.1137289498949117e-06,\n",
              " 742: 1.0379096499649706e-06,\n",
              " 743: 1.0379096499649706e-06,\n",
              " 744: 1.0379096499649706e-06,\n",
              " 745: 1.0379096499649706e-06,\n",
              " 746: 1.0379096499649706e-06,\n",
              " 747: 1.0379096499649706e-06,\n",
              " 748: 1.0379096499649706e-06,\n",
              " 749: 1.0379096499649706e-06,\n",
              " 752: 2.0758192999299413e-06,\n",
              " 753: 1.0379096499649706e-06,\n",
              " 755: 1.0379096499649706e-06,\n",
              " 756: 1.0379096499649706e-06,\n",
              " 758: 1.0379096499649706e-06,\n",
              " 759: 1.0379096499649706e-06,\n",
              " 760: 1.0379096499649706e-06,\n",
              " 761: 2.0758192999299413e-06,\n",
              " 763: 1.0379096499649706e-06,\n",
              " 764: 1.0379096499649706e-06,\n",
              " 765: 2.0758192999299413e-06,\n",
              " 767: 1.0379096499649706e-06,\n",
              " 768: 1.0379096499649706e-06,\n",
              " 769: 1.0379096499649706e-06,\n",
              " 771: 1.0379096499649706e-06,\n",
              " 772: 1.0379096499649706e-06,\n",
              " 773: 1.0379096499649706e-06,\n",
              " 774: 1.0379096499649706e-06,\n",
              " 775: 1.0379096499649706e-06,\n",
              " 776: 1.0379096499649706e-06,\n",
              " 777: 1.0379096499649706e-06,\n",
              " 778: 1.0379096499649706e-06,\n",
              " 781: 1.0379096499649706e-06,\n",
              " 782: 1.0379096499649706e-06,\n",
              " 783: 1.0379096499649706e-06,\n",
              " 784: 1.0379096499649706e-06,\n",
              " 785: 1.0379096499649706e-06,\n",
              " 786: 1.0379096499649706e-06,\n",
              " 787: 1.0379096499649706e-06,\n",
              " 788: 1.0379096499649706e-06,\n",
              " 789: 4.1516385998598826e-06,\n",
              " 790: 1.0379096499649706e-06,\n",
              " 791: 1.0379096499649706e-06,\n",
              " 792: 1.0379096499649706e-06,\n",
              " 793: 1.0379096499649706e-06,\n",
              " 794: 1.0379096499649706e-06,\n",
              " 796: 1.0379096499649706e-06,\n",
              " 797: 1.0379096499649706e-06,\n",
              " 798: 1.0379096499649706e-06,\n",
              " 801: 1.0379096499649706e-06,\n",
              " 802: 1.0379096499649706e-06,\n",
              " 804: 1.0379096499649706e-06,\n",
              " 805: 1.0379096499649706e-06,\n",
              " 806: 2.0758192999299413e-06,\n",
              " 807: 1.0379096499649706e-06,\n",
              " 808: 1.0379096499649706e-06,\n",
              " 810: 1.0379096499649706e-06,\n",
              " 811: 1.0379096499649706e-06,\n",
              " 812: 1.0379096499649706e-06,\n",
              " 813: 1.0379096499649706e-06,\n",
              " 815: 1.0379096499649706e-06,\n",
              " 816: 1.0379096499649706e-06,\n",
              " 817: 1.0379096499649706e-06,\n",
              " 818: 1.0379096499649706e-06,\n",
              " 819: 1.0379096499649706e-06,\n",
              " 820: 1.0379096499649706e-06,\n",
              " 821: 1.0379096499649706e-06,\n",
              " 822: 5.1895482498248534e-06,\n",
              " 824: 1.0379096499649706e-06,\n",
              " 825: 1.0379096499649706e-06,\n",
              " 826: 1.0379096499649706e-06,\n",
              " 827: 1.0379096499649706e-06,\n",
              " 829: 1.0379096499649706e-06,\n",
              " 830: 1.0379096499649706e-06,\n",
              " 831: 1.0379096499649706e-06,\n",
              " 833: 1.0379096499649706e-06,\n",
              " 834: 1.0379096499649706e-06,\n",
              " 835: 1.0379096499649706e-06,\n",
              " 836: 1.0379096499649706e-06,\n",
              " 837: 1.0379096499649706e-06,\n",
              " 838: 1.0379096499649706e-06,\n",
              " 839: 1.0379096499649706e-06,\n",
              " 840: 2.0758192999299413e-06,\n",
              " 841: 1.0379096499649706e-06,\n",
              " 842: 1.0379096499649706e-06,\n",
              " 844: 1.0379096499649706e-06,\n",
              " 845: 1.0379096499649706e-06,\n",
              " 847: 1.0379096499649706e-06,\n",
              " 848: 1.0379096499649706e-06,\n",
              " 849: 1.0379096499649706e-06,\n",
              " 850: 1.0379096499649706e-06,\n",
              " 851: 1.0379096499649706e-06,\n",
              " 852: 1.0379096499649706e-06,\n",
              " 853: 1.0379096499649706e-06,\n",
              " 854: 1.0379096499649706e-06,\n",
              " 855: 1.0379096499649706e-06,\n",
              " 856: 1.0379096499649706e-06,\n",
              " 857: 1.0379096499649706e-06,\n",
              " 858: 3.1137289498949117e-06,\n",
              " 859: 1.0379096499649706e-06,\n",
              " 860: 1.0379096499649706e-06,\n",
              " 861: 1.0379096499649706e-06,\n",
              " 862: 1.0379096499649706e-06,\n",
              " 863: 1.0379096499649706e-06,\n",
              " 864: 1.0379096499649706e-06,\n",
              " 865: 1.0379096499649706e-06,\n",
              " 866: 1.0379096499649706e-06,\n",
              " 867: 1.0379096499649706e-06,\n",
              " 868: 1.0379096499649706e-06,\n",
              " 869: 1.0379096499649706e-06,\n",
              " 870: 1.0379096499649706e-06,\n",
              " 871: 1.0379096499649706e-06,\n",
              " 874: 1.0379096499649706e-06,\n",
              " 875: 1.0379096499649706e-06,\n",
              " 876: 1.0379096499649706e-06,\n",
              " 877: 1.0379096499649706e-06,\n",
              " 878: 1.0379096499649706e-06,\n",
              " 879: 1.0379096499649706e-06,\n",
              " 880: 1.0379096499649706e-06,\n",
              " 881: 1.0379096499649706e-06,\n",
              " 882: 1.0379096499649706e-06,\n",
              " 883: 1.0379096499649706e-06,\n",
              " 884: 1.0379096499649706e-06,\n",
              " 886: 1.0379096499649706e-06,\n",
              " 887: 1.0379096499649706e-06,\n",
              " 888: 1.0379096499649706e-06,\n",
              " 889: 1.0379096499649706e-06,\n",
              " 891: 1.0379096499649706e-06,\n",
              " 892: 1.0379096499649706e-06,\n",
              " 894: 1.0379096499649706e-06,\n",
              " 895: 1.0379096499649706e-06,\n",
              " 896: 1.0379096499649706e-06,\n",
              " 897: 1.0379096499649706e-06,\n",
              " 898: 1.0379096499649706e-06,\n",
              " 899: 1.0379096499649706e-06,\n",
              " 900: 1.0379096499649706e-06,\n",
              " 901: 1.0379096499649706e-06,\n",
              " 902: 1.0379096499649706e-06,\n",
              " 903: 1.0379096499649706e-06,\n",
              " 904: 1.0379096499649706e-06,\n",
              " 905: 1.0379096499649706e-06,\n",
              " 906: 1.0379096499649706e-06,\n",
              " 907: 1.0379096499649706e-06,\n",
              " 908: 1.0379096499649706e-06,\n",
              " 909: 1.0379096499649706e-06,\n",
              " 910: 1.0379096499649706e-06,\n",
              " 911: 1.0379096499649706e-06,\n",
              " 912: 1.0379096499649706e-06,\n",
              " 913: 1.0379096499649706e-06,\n",
              " 914: 1.0379096499649706e-06,\n",
              " 915: 1.0379096499649706e-06,\n",
              " 916: 1.0379096499649706e-06,\n",
              " 917: 1.0379096499649706e-06,\n",
              " 918: 1.0379096499649706e-06,\n",
              " 919: 1.0379096499649706e-06,\n",
              " 920: 1.0379096499649706e-06,\n",
              " 921: 1.0379096499649706e-06,\n",
              " 922: 1.0379096499649706e-06,\n",
              " 923: 1.0379096499649706e-06,\n",
              " 924: 2.0758192999299413e-06,\n",
              " 925: 1.0379096499649706e-06,\n",
              " 926: 1.0379096499649706e-06,\n",
              " 927: 1.0379096499649706e-06,\n",
              " 929: 1.0379096499649706e-06,\n",
              " 930: 1.0379096499649706e-06,\n",
              " 931: 1.0379096499649706e-06,\n",
              " 932: 1.0379096499649706e-06,\n",
              " 933: 1.0379096499649706e-06,\n",
              " 934: 1.0379096499649706e-06,\n",
              " 936: 1.0379096499649706e-06,\n",
              " 937: 1.0379096499649706e-06,\n",
              " 938: 1.0379096499649706e-06,\n",
              " 939: 2.0758192999299413e-06,\n",
              " 940: 1.0379096499649706e-06,\n",
              " 941: 1.0379096499649706e-06,\n",
              " 942: 1.0379096499649706e-06,\n",
              " 943: 1.0379096499649706e-06,\n",
              " 945: 1.0379096499649706e-06,\n",
              " 946: 1.0379096499649706e-06,\n",
              " 948: 1.0379096499649706e-06,\n",
              " 949: 1.0379096499649706e-06,\n",
              " 952: 1.0379096499649706e-06,\n",
              " 954: 1.0379096499649706e-06,\n",
              " 955: 1.0379096499649706e-06,\n",
              " 956: 1.0379096499649706e-06,\n",
              " 958: 1.0379096499649706e-06,\n",
              " 959: 2.0758192999299413e-06,\n",
              " 960: 1.0379096499649706e-06,\n",
              " 961: 1.0379096499649706e-06,\n",
              " 962: 1.0379096499649706e-06,\n",
              " 963: 1.0379096499649706e-06,\n",
              " 964: 1.0379096499649706e-06,\n",
              " 968: 1.0379096499649706e-06,\n",
              " 969: 1.0379096499649706e-06,\n",
              " 970: 1.0379096499649706e-06,\n",
              " 971: 1.0379096499649706e-06,\n",
              " 972: 1.0379096499649706e-06,\n",
              " 973: 1.0379096499649706e-06,\n",
              " 974: 1.0379096499649706e-06,\n",
              " 975: 2.0758192999299413e-06,\n",
              " 976: 1.0379096499649706e-06,\n",
              " 977: 1.0379096499649706e-06,\n",
              " 978: 1.0379096499649706e-06,\n",
              " 979: 1.0379096499649706e-06,\n",
              " 980: 1.0379096499649706e-06,\n",
              " 981: 1.0379096499649706e-06,\n",
              " 983: 1.0379096499649706e-06,\n",
              " 984: 1.0379096499649706e-06,\n",
              " 985: 1.0379096499649706e-06,\n",
              " 986: 1.0379096499649706e-06,\n",
              " 987: 1.0379096499649706e-06,\n",
              " 988: 1.0379096499649706e-06,\n",
              " 989: 1.0379096499649706e-06,\n",
              " 990: 1.0379096499649706e-06,\n",
              " 991: 2.0758192999299413e-06,\n",
              " 992: 1.0379096499649706e-06,\n",
              " 995: 1.0379096499649706e-06,\n",
              " 996: 2.0758192999299413e-06,\n",
              " 997: 1.0379096499649706e-06,\n",
              " 998: 1.0379096499649706e-06,\n",
              " 999: 1.0379096499649706e-06,\n",
              " 1000: 1.0379096499649706e-06,\n",
              " 1001: 1.0379096499649706e-06,\n",
              " 1002: 1.0379096499649706e-06,\n",
              " 1003: 1.0379096499649706e-06,\n",
              " 1007: 4.1516385998598826e-06,\n",
              " 1008: 1.0379096499649706e-06,\n",
              " 1009: 1.0379096499649706e-06,\n",
              " 1010: 1.0379096499649706e-06,\n",
              " 1011: 1.0379096499649706e-06,\n",
              " 1012: 1.0379096499649706e-06,\n",
              " 1013: 1.0379096499649706e-06,\n",
              " 1014: 1.0379096499649706e-06,\n",
              " 1015: 1.0379096499649706e-06,\n",
              " 1017: 1.0379096499649706e-06,\n",
              " 1019: 1.0379096499649706e-06,\n",
              " 1020: 1.0379096499649706e-06,\n",
              " 1022: 1.0379096499649706e-06,\n",
              " 1023: 1.0379096499649706e-06,\n",
              " 1024: 1.0379096499649706e-06,\n",
              " 1025: 1.0379096499649706e-06,\n",
              " 1027: 1.0379096499649706e-06,\n",
              " 1028: 1.0379096499649706e-06,\n",
              " 1029: 1.0379096499649706e-06,\n",
              " 1030: 1.0379096499649706e-06,\n",
              " 1031: 1.0379096499649706e-06,\n",
              " 1032: 1.0379096499649706e-06,\n",
              " 1033: 1.0379096499649706e-06,\n",
              " 1034: 1.0379096499649706e-06,\n",
              " 1035: 1.0379096499649706e-06,\n",
              " 1036: 1.0379096499649706e-06,\n",
              " 1037: 2.0758192999299413e-06,\n",
              " 1038: 2.0758192999299413e-06,\n",
              " 1039: 1.0379096499649706e-06,\n",
              " 1041: 1.0379096499649706e-06,\n",
              " 1042: 1.0379096499649706e-06,\n",
              " 1043: 1.0379096499649706e-06,\n",
              " 1045: 1.0379096499649706e-06,\n",
              " 1046: 2.0758192999299413e-06,\n",
              " 1047: 1.0379096499649706e-06,\n",
              " 1048: 1.0379096499649706e-06,\n",
              " 1049: 1.0379096499649706e-06,\n",
              " 1050: 1.0379096499649706e-06,\n",
              " 1051: 1.0379096499649706e-06,\n",
              " 1052: 1.0379096499649706e-06,\n",
              " 1054: 1.0379096499649706e-06,\n",
              " 1055: 1.0379096499649706e-06,\n",
              " 1057: 1.0379096499649706e-06,\n",
              " 1058: 1.0379096499649706e-06,\n",
              " 1059: 2.0758192999299413e-06,\n",
              " 1061: 1.0379096499649706e-06,\n",
              " 1062: 1.0379096499649706e-06,\n",
              " 1063: 1.0379096499649706e-06,\n",
              " 1064: 1.0379096499649706e-06,\n",
              " 1065: 1.0379096499649706e-06,\n",
              " 1066: 1.0379096499649706e-06,\n",
              " 1067: 1.0379096499649706e-06,\n",
              " 1068: 1.0379096499649706e-06,\n",
              " 1069: 1.0379096499649706e-06,\n",
              " 1070: 1.0379096499649706e-06,\n",
              " 1071: 1.0379096499649706e-06,\n",
              " 1072: 1.0379096499649706e-06,\n",
              " 1073: 4.1516385998598826e-06,\n",
              " 1074: 1.0379096499649706e-06,\n",
              " 1075: 1.0379096499649706e-06,\n",
              " 1076: 1.0379096499649706e-06,\n",
              " 1077: 1.0379096499649706e-06,\n",
              " 1079: 3.1137289498949117e-06,\n",
              " 1080: 1.0379096499649706e-06,\n",
              " 1081: 1.0379096499649706e-06,\n",
              " 1082: 1.0379096499649706e-06,\n",
              " 1083: 1.0379096499649706e-06,\n",
              " 1084: 1.0379096499649706e-06,\n",
              " 1085: 1.0379096499649706e-06,\n",
              " 1086: 1.0379096499649706e-06,\n",
              " 1087: 1.0379096499649706e-06,\n",
              " 1088: 1.0379096499649706e-06,\n",
              " 1090: 1.0379096499649706e-06,\n",
              " 1093: 1.0379096499649706e-06,\n",
              " 1094: 1.0379096499649706e-06,\n",
              " 1095: 1.0379096499649706e-06,\n",
              " 1096: 1.0379096499649706e-06,\n",
              " 1097: 1.0379096499649706e-06,\n",
              " 1098: 1.0379096499649706e-06,\n",
              " 1099: 1.0379096499649706e-06,\n",
              " 1100: 2.0758192999299413e-06,\n",
              " 1101: 2.0758192999299413e-06,\n",
              " 1102: 1.0379096499649706e-06,\n",
              " 1106: 1.0379096499649706e-06,\n",
              " 1107: 2.0758192999299413e-06,\n",
              " 1108: 2.0758192999299413e-06,\n",
              " 1110: 1.0379096499649706e-06,\n",
              " 1112: 1.0379096499649706e-06,\n",
              " 1114: 1.0379096499649706e-06,\n",
              " 1115: 2.0758192999299413e-06,\n",
              " 1116: 1.0379096499649706e-06,\n",
              " 1117: 1.0379096499649706e-06,\n",
              " 1118: 1.0379096499649706e-06,\n",
              " 1120: 1.0379096499649706e-06,\n",
              " 1121: 1.0379096499649706e-06,\n",
              " 1122: 1.0379096499649706e-06,\n",
              " 1123: 1.0379096499649706e-06,\n",
              " 1124: 1.0379096499649706e-06,\n",
              " 1125: 1.0379096499649706e-06,\n",
              " 1126: 1.0379096499649706e-06,\n",
              " 1127: 1.0379096499649706e-06,\n",
              " 1128: 1.0379096499649706e-06,\n",
              " 1129: 1.0379096499649706e-06,\n",
              " 1130: 1.0379096499649706e-06,\n",
              " 1131: 1.0379096499649706e-06,\n",
              " 1132: 1.0379096499649706e-06,\n",
              " 1134: 1.0379096499649706e-06,\n",
              " 1135: 1.0379096499649706e-06,\n",
              " 1136: 2.0758192999299413e-06,\n",
              " 1137: 1.0379096499649706e-06,\n",
              " 1139: 1.0379096499649706e-06,\n",
              " 1140: 1.0379096499649706e-06,\n",
              " 1142: 1.0379096499649706e-06,\n",
              " 1145: 1.0379096499649706e-06,\n",
              " 1146: 1.0379096499649706e-06,\n",
              " 1147: 1.0379096499649706e-06,\n",
              " 1148: 1.0379096499649706e-06,\n",
              " 1149: 1.0379096499649706e-06,\n",
              " 1156: 4.1516385998598826e-06,\n",
              " 1157: 1.0379096499649706e-06,\n",
              " 1158: 1.0379096499649706e-06,\n",
              " 1159: 1.0379096499649706e-06,\n",
              " 1161: 1.0379096499649706e-06,\n",
              " 1162: 1.0379096499649706e-06,\n",
              " 1163: 1.0379096499649706e-06,\n",
              " 1168: 2.0758192999299413e-06,\n",
              " 1169: 1.0379096499649706e-06,\n",
              " 1170: 2.0758192999299413e-06,\n",
              " 1171: 1.0379096499649706e-06,\n",
              " 1172: 1.0379096499649706e-06,\n",
              " 1173: 2.0758192999299413e-06,\n",
              " 1174: 1.0379096499649706e-06,\n",
              " 1175: 1.0379096499649706e-06,\n",
              " 1176: 1.0379096499649706e-06,\n",
              " 1179: 1.0379096499649706e-06,\n",
              " 1180: 1.0379096499649706e-06,\n",
              " 1181: 1.0379096499649706e-06,\n",
              " 1182: 1.0379096499649706e-06,\n",
              " 1183: 1.0379096499649706e-06,\n",
              " 1185: 1.0379096499649706e-06,\n",
              " 1186: 1.0379096499649706e-06,\n",
              " 1188: 4.1516385998598826e-06,\n",
              " 1189: 2.0758192999299413e-06,\n",
              " 1191: 1.0379096499649706e-06,\n",
              " 1193: 1.0379096499649706e-06,\n",
              " 1194: 1.0379096499649706e-06,\n",
              " ...}"
            ]
          },
          "metadata": {},
          "execution_count": 264
        }
      ]
    },
    {
      "cell_type": "code",
      "source": [
        "plt.boxplot(H_degree_list)\n",
        "plt.show()"
      ],
      "metadata": {
        "colab": {
          "base_uri": "https://localhost:8080/",
          "height": 430
        },
        "id": "uopaEf9qa3mq",
        "outputId": "0aacba72-537e-46f9-d8b2-07af766023b8"
      },
      "execution_count": null,
      "outputs": [
        {
          "output_type": "display_data",
          "data": {
            "text/plain": [
              "<Figure size 640x480 with 1 Axes>"
            ],
            "image/png": "[encoded data removed]"
          },
          "metadata": {}
        }
      ]
    },
    {
      "cell_type": "markdown",
      "source": [
        "#### Maximum Degree Centrality\n",
        "\n",
        "The item with the largest Degree centrality that has the highest ratings is headphones."
      ],
      "metadata": {
        "id": "6z200RFReH1Y"
      }
    },
    {
      "cell_type": "code",
      "source": [
        "max(H_degree_centrality.items(), key=lambda k: k[1])\n"
      ],
      "metadata": {
        "colab": {
          "base_uri": "https://localhost:8080/"
        },
        "id": "Re2I1LDja_pI",
        "outputId": "1890df2e-640d-4c6c-93c8-6864fe3cb59e"
      },
      "execution_count": null,
      "outputs": [
        {
          "output_type": "execute_result",
          "data": {
            "text/plain": [
              "('Headphones', 0.284119463400711)"
            ]
          },
          "metadata": {},
          "execution_count": 226
        }
      ]
    },
    {
      "cell_type": "markdown",
      "source": [
        "### Eigenvectors"
      ],
      "metadata": {
        "id": "l6O_E1fzOcxP"
      }
    },
    {
      "cell_type": "markdown",
      "source": [
        "Due to the size of the dataset, the Eigenvector took over 15 minutes to compute on my machine."
      ],
      "metadata": {
        "id": "oQHH9a5bR3Km"
      }
    },
    {
      "cell_type": "code",
      "source": [
        "nx.eigenvector_centrality(H, max_iter=H.size())"
      ],
      "metadata": {
        "id": "33nfqtwHOeqy"
      },
      "execution_count": null,
      "outputs": []
    },
    {
      "cell_type": "code",
      "source": [
        "H_eigenvector = nx.eigenvector_centrality(H, max_iter=H.size())"
      ],
      "metadata": {
        "id": "m-8jo6RdPNQI"
      },
      "execution_count": null,
      "outputs": []
    },
    {
      "cell_type": "code",
      "source": [
        "H_eigen_list = [*H_eigenvector.values()]"
      ],
      "metadata": {
        "id": "LkVSA7HWPKPp"
      },
      "execution_count": null,
      "outputs": []
    },
    {
      "cell_type": "markdown",
      "metadata": {
        "id": "tESToahGQlaj"
      },
      "source": [
        "## Low Ratings Graph"
      ]
    },
    {
      "cell_type": "code",
      "execution_count": null,
      "metadata": {
        "colab": {
          "base_uri": "https://localhost:8080/",
          "height": 516
        },
        "id": "AmIJ_rNnQlaj",
        "outputId": "37d5eda9-efb4-4320-a611-6190ab8abc75"
      },
      "outputs": [
        {
          "output_type": "display_data",
          "data": {
            "text/plain": [
              "<Figure size 640x480 with 1 Axes>"
            ],
            "image/png": "[encoded data removed]"
          },
          "metadata": {}
        }
      ],
      "source": [
        "L_subset = low_rating_graph.iloc[0:599]\n",
        "L_subset_graph = nx.from_pandas_edgelist(L_subset, source= 'user_id', target='category', edge_attr='rating')\n",
        "nx.draw(L_subset_graph, node_size=1)"
      ]
    },
    {
      "cell_type": "markdown",
      "metadata": {
        "id": "68QvkjRpQlaj"
      },
      "source": [
        "### Degree Centrality"
      ]
    },
    {
      "cell_type": "code",
      "execution_count": null,
      "metadata": {
        "id": "jJqJjmMaQlaj"
      },
      "outputs": [],
      "source": [
        "L_degree_centrality = nx.degree_centrality(L)\n"
      ]
    },
    {
      "cell_type": "code",
      "execution_count": null,
      "metadata": {
        "id": "Jj5XMzz_Qlaj"
      },
      "outputs": [],
      "source": [
        "L_degree_list = [*L_degree_centrality.values()]"
      ]
    },
    {
      "cell_type": "code",
      "source": [
        "plt.boxplot(L_degree_list)\n",
        "plt.show()\n"
      ],
      "metadata": {
        "colab": {
          "base_uri": "https://localhost:8080/",
          "height": 434
        },
        "id": "PZE-2BlZYtYK",
        "outputId": "39f71508-1e89-4921-e886-80e36ee469ae"
      },
      "execution_count": null,
      "outputs": [
        {
          "output_type": "display_data",
          "data": {
            "text/plain": [
              "<Figure size 640x480 with 1 Axes>"
            ],
            "image/png": "[encoded data removed]"
          },
          "metadata": {}
        }
      ]
    },
    {
      "cell_type": "markdown",
      "source": [
        "The degree centrality is right skewed, and close to 0."
      ],
      "metadata": {
        "id": "Bo865S7LtdJO"
      }
    },
    {
      "cell_type": "markdown",
      "source": [
        "#### Maximum Degree Centrality\n",
        "\n",
        "The item with the highest degree centrality is item with the ID 7780."
      ],
      "metadata": {
        "id": "StvfNifDaUDf"
      }
    },
    {
      "cell_type": "code",
      "source": [
        "max(L_degree_centrality.items(), key=lambda k: k[1])\n"
      ],
      "metadata": {
        "colab": {
          "base_uri": "https://localhost:8080/"
        },
        "id": "HRmxcw3baBkN",
        "outputId": "29c35727-8184-4ce3-ddba-5effa8aecb48"
      },
      "execution_count": null,
      "outputs": [
        {
          "output_type": "execute_result",
          "data": {
            "text/plain": [
              "('Headphones', 0.3342973777070504)"
            ]
          },
          "metadata": {},
          "execution_count": 241
        }
      ]
    },
    {
      "cell_type": "markdown",
      "metadata": {
        "id": "BRMUUohaQlaj"
      },
      "source": [
        "### Eigenvectors"
      ]
    },
    {
      "cell_type": "markdown",
      "source": [
        "At first the eigenvector formula failed due to how large the L graph was. I changed the parameter of max_iter based on the size of L."
      ],
      "metadata": {
        "id": "IY-XjIJLN0F1"
      }
    },
    {
      "cell_type": "code",
      "execution_count": null,
      "metadata": {
        "id": "Jmogi7TXQlaj"
      },
      "outputs": [],
      "source": [
        "#nstart = {node: 1 for node in L.nodes()}\n",
        "L_eigenvector = nx.eigenvector_centrality(L, max_iter=L.size())"
      ]
    },
    {
      "cell_type": "code",
      "execution_count": null,
      "metadata": {
        "id": "bEHGGxSgPCYz"
      },
      "outputs": [],
      "source": [
        "L_eigen_list = [*L_eigenvector.values()]"
      ]
    },
    {
      "cell_type": "code",
      "source": [
        "plt.boxplot(L_eigen_list)\n",
        "plt.show()"
      ],
      "metadata": {
        "colab": {
          "base_uri": "https://localhost:8080/",
          "height": 430
        },
        "id": "rS_GNvfFBmZp",
        "outputId": "2315f218-3789-4ddf-bb40-242e7e464c7f"
      },
      "execution_count": null,
      "outputs": [
        {
          "output_type": "display_data",
          "data": {
            "text/plain": [
              "<Figure size 640x480 with 1 Axes>"
            ],
            "image/png": "[encoded data removed]"
          },
          "metadata": {}
        }
      ]
    },
    {
      "cell_type": "markdown",
      "metadata": {
        "id": "pspqUSS8Qlas"
      },
      "source": [
        "### Statistical Test\n",
        "\n",
        "\n",
        "Whether the two samples data groups are independent.\n",
        "Whether the data elements in respective groups follow any normal distribution.\n",
        "Whether the given two samples have similar variances. This assumption is also known as the homogeneity assumption."
      ]
    },
    {
      "cell_type": "code",
      "execution_count": null,
      "metadata": {
        "id": "6yEGcQRgQlas",
        "colab": {
          "base_uri": "https://localhost:8080/"
        },
        "outputId": "a25228f2-5da8-494e-ee6c-1ef7af031bc1"
      },
      "outputs": [
        {
          "output_type": "execute_result",
          "data": {
            "text/plain": [
              "1153860.4881720396"
            ]
          },
          "metadata": {},
          "execution_count": 245
        }
      ],
      "source": [
        "from scipy import stats\n",
        "import statsmodels.api as sm\n",
        "\n",
        "res = stats.normaltest(L_degree_list)\n",
        "res.statistic\n"
      ]
    },
    {
      "cell_type": "code",
      "source": [
        "from scipy.stats import shapiro\n",
        "\n",
        "\n",
        "#perform Shapiro-Wilk test for normality\n",
        "shapiro(L_degree_list)\n",
        "\n"
      ],
      "metadata": {
        "id": "1IYcgk94Rkw9",
        "colab": {
          "base_uri": "https://localhost:8080/"
        },
        "outputId": "43098f62-1194-4a5f-a8d3-414bb4104d41"
      },
      "execution_count": null,
      "outputs": [
        {
          "output_type": "stream",
          "name": "stderr",
          "text": [
            "/usr/local/lib/python3.10/dist-packages/scipy/stats/_morestats.py:1882: UserWarning: p-value may not be accurate for N > 5000.\n",
            "  warnings.warn(\"p-value may not be accurate for N > 5000.\")\n"
          ]
        },
        {
          "output_type": "execute_result",
          "data": {
            "text/plain": [
              "ShapiroResult(statistic=0.00044614076614379883, pvalue=0.0)"
            ]
          },
          "metadata": {},
          "execution_count": 246
        }
      ]
    },
    {
      "cell_type": "code",
      "source": [
        "from scipy.stats import kstest\n",
        "\n",
        "\n",
        "\n",
        "#perform Kolmogorov-Smirnov test for normality\n",
        "kstest(L_degree_list, 'norm')\n"
      ],
      "metadata": {
        "id": "LUB5iWSOR81c",
        "colab": {
          "base_uri": "https://localhost:8080/"
        },
        "outputId": "f9706405-6f31-4036-ddc9-cedf8389c564"
      },
      "execution_count": null,
      "outputs": [
        {
          "output_type": "execute_result",
          "data": {
            "text/plain": [
              "KstestResult(statistic=0.5000018401821094, pvalue=0.0, statistic_location=4.6126525058234734e-06, statistic_sign=-1)"
            ]
          },
          "metadata": {},
          "execution_count": 247
        }
      ]
    },
    {
      "cell_type": "markdown",
      "source": [
        "Since the p-value is less than .05, we reject the null hypothesis of the Kolmogorov-Smirnov test.\n",
        "\n",
        "This means we have sufficient evidence to say that the sample data does not come from a normal distribution. Therefore I cannot use the t-test to test for a statistical difference between the two degree centralities."
      ],
      "metadata": {
        "id": "MGN6-N5XSHvv"
      }
    },
    {
      "cell_type": "markdown",
      "source": [
        "https://www.geeksforgeeks.org/how-to-conduct-a-two-sample-t-test-in-python/"
      ],
      "metadata": {
        "id": "E6mCgHwmLghx"
      }
    },
    {
      "cell_type": "markdown",
      "source": [
        "## Conclusion\n",
        "\n",
        "It was hard to generaye the complete graph since the data was so large. Betweeness functions also took a long time to process. Since the degree centralities were not normally ditributed, I could not perform a t-test. In future iterations of this project I would utilized statistical testing for non normal distributions and how to properly subset the data.\n",
        "\n",
        "Based on a naive analysis (without a statistical test), the item maximum degree centrality was the same in the high rating graph and the low rating graph. Additionally, the item with the smallest degree centrality was the different in the high rating graph and the low rating graph. The degree centrality in the higher ratings had a wider range than the degree centrality of the lower ratings. It was difficult to compare the eigenvectors due to the size of the dataset."
      ],
      "metadata": {
        "id": "GN6rUYmWgACe"
      }
    }
  ],
  "metadata": {
    "kernelspec": {
      "display_name": "base",
      "language": "python",
      "name": "python3"
    },
    "language_info": {
      "codemirror_mode": {
        "name": "ipython",
        "version": 3
      },
      "file_extension": ".py",
      "mimetype": "text/x-python",
      "name": "python",
      "nbconvert_exporter": "python",
      "pygments_lexer": "ipython3",
      "version": "3.11.5"
    },
    "colab": {
      "provenance": []
    }
  },
  "nbformat": 4,
  "nbformat_minor": 0
}