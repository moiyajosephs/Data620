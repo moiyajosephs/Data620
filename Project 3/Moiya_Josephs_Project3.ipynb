{
  "nbformat": 4,
  "nbformat_minor": 0,
  "metadata": {
    "colab": {
      "provenance": []
    },
    "kernelspec": {
      "name": "python3",
      "display_name": "Python 3"
    },
    "language_info": {
      "name": "python"
    }
  },
  "cells": [
    {
      "cell_type": "markdown",
      "source": [
        "# Project 3\n",
        "### Moiya Josephs\n",
        "\n",
        "\n",
        "## Ask\n",
        "\n",
        "Using any of the three classifiers described in chapter 6 of Natural Language Processing with Python, and any features you can think of, build the best name gender classifier you can. Begin by splitting the Names Corpus into three subsets: 500 words for the test set, 500 words for the dev-test set, and the remaining 6900 words for the training set. Then, starting with the example name gender classifier, make incremental improvements. Use the dev-test set to check your progress. Once you are satisfied with your classifier, check its final performance on the test set. How does the performance on the test set compare to the performance on the dev-test set? Is this what you'd expect?"
      ],
      "metadata": {
        "id": "cn_GXNkZH7A8"
      }
    },
    {
      "cell_type": "markdown",
      "source": [
        "## The Data Set\n",
        "\n",
        "The names corpus is a collection of female and male names. As explained in the Chapter 6 of Natural Language Processing with Python textbook, female names often end in a, e or i and male names often end in k, o, r, s and t. Classifier models can be used to predict what bucket a name can fall in."
      ],
      "metadata": {
        "id": "Y0v6mmKpH9uz"
      }
    },
    {
      "cell_type": "code",
      "execution_count": 1,
      "metadata": {
        "id": "68W_0fqYH6Ft"
      },
      "outputs": [],
      "source": [
        "from nltk.corpus import names\n",
        "import random"
      ]
    },
    {
      "cell_type": "code",
      "source": [
        "import nltk\n",
        "import pandas as pd\n",
        "from collections import Counter\n"
      ],
      "metadata": {
        "id": "MUqKgDDF3wKP"
      },
      "execution_count": 65,
      "outputs": []
    },
    {
      "cell_type": "code",
      "source": [
        "nltk.download('names')"
      ],
      "metadata": {
        "colab": {
          "base_uri": "https://localhost:8080/"
        },
        "id": "W2z63TRT3x6t",
        "outputId": "232bbb44-df51-47a7-a5e0-bcb3429a4ea2"
      },
      "execution_count": 3,
      "outputs": [
        {
          "output_type": "stream",
          "name": "stderr",
          "text": [
            "[nltk_data] Downloading package names to /root/nltk_data...\n",
            "[nltk_data]   Unzipping corpora/names.zip.\n"
          ]
        },
        {
          "output_type": "execute_result",
          "data": {
            "text/plain": [
              "True"
            ]
          },
          "metadata": {},
          "execution_count": 3
        }
      ]
    },
    {
      "cell_type": "markdown",
      "source": [
        "### Combine the Male and Female Names"
      ],
      "metadata": {
        "id": "Vgq1vGkwvqGl"
      }
    },
    {
      "cell_type": "markdown",
      "source": [
        "Combining both names from the datasets and labeling them to be either male or female. But first I will remove names that occur in both lists."
      ],
      "metadata": {
        "id": "L1opdK7bchFa"
      }
    },
    {
      "cell_type": "code",
      "source": [
        "labeled_names = ([(name, 'male') for name in names.words('male.txt')] +\n",
        "                 [(name, 'female') for name in names.words('female.txt')])\n",
        "labeled_names = list(set(labeled_names))\n",
        "random.shuffle(labeled_names)"
      ],
      "metadata": {
        "id": "vxPLyQUwgCUg"
      },
      "execution_count": 33,
      "outputs": []
    },
    {
      "cell_type": "markdown",
      "source": [
        "The length of names in the male names dataset is shown below. The length of the names are slighly skewed and most names seem to be of length 6."
      ],
      "metadata": {
        "id": "dkLXwSRohe3a"
      }
    },
    {
      "cell_type": "markdown",
      "source": [
        "#### Length of Male or Female names"
      ],
      "metadata": {
        "id": "YlntWIzFhzGL"
      }
    },
    {
      "cell_type": "code",
      "source": [
        "male_list = list(filter(lambda x:'male' in x, labeled_names))\n",
        "female_list = list(filter(lambda x:'female' in x, labeled_names))"
      ],
      "metadata": {
        "id": "dw3YCHi8ijYA"
      },
      "execution_count": 36,
      "outputs": []
    },
    {
      "cell_type": "code",
      "source": [
        "male_len = []\n",
        "for name in male_list:\n",
        "  male_len.append(len(name[0]))\n",
        "\n",
        "df = pd.DataFrame(male_len, columns=['one'])\n",
        "ax = df.plot.hist(bins=12, alpha=0.5)\n"
      ],
      "metadata": {
        "colab": {
          "base_uri": "https://localhost:8080/",
          "height": 430
        },
        "id": "5etf0Izfucff",
        "outputId": "4380dfc8-87eb-44c5-c4ae-eb2397a84292"
      },
      "execution_count": 42,
      "outputs": [
        {
          "output_type": "display_data",
          "data": {
            "text/plain": [
              "<Figure size 640x480 with 1 Axes>"
            ],
            "image/png": "[encoded data removed]"
          },
          "metadata": {}
        }
      ]
    },
    {
      "cell_type": "code",
      "source": [
        "female_len = []\n",
        "for name in female_list:\n",
        "  female_len.append(len(name[0]))\n",
        "\n",
        "df = pd.DataFrame(female_len, columns=['one'])\n",
        "ax = df.plot.hist(bins=12, alpha=0.5)"
      ],
      "metadata": {
        "colab": {
          "base_uri": "https://localhost:8080/",
          "height": 430
        },
        "id": "wugwmC0HvTuZ",
        "outputId": "0c0190e2-4f77-4c12-f019-4b4d5f2a27aa"
      },
      "execution_count": 44,
      "outputs": [
        {
          "output_type": "display_data",
          "data": {
            "text/plain": [
              "<Figure size 640x480 with 1 Axes>"
            ],
            "image/png": "[encoded data removed]"
          },
          "metadata": {}
        }
      ]
    },
    {
      "cell_type": "markdown",
      "source": [
        "The distribution of the names lengths are similar but there are more names with 4 letters in the female text than the male. This feature may help descern the difference between a male or female name."
      ],
      "metadata": {
        "id": "dJkw8rH-vdxK"
      }
    },
    {
      "cell_type": "markdown",
      "source": [
        "#### Suffix"
      ],
      "metadata": {
        "id": "NJoLMz9ohxLM"
      }
    },
    {
      "cell_type": "markdown",
      "source": [
        "According to the textbook, most male words end in \"k\", \"o\", \"r\", \"s\" and \"t\". According to the distirbution of the names text, this is shown to be not true at least for the given dataset. Even though this is opposite to the text, the opposite seems to be true so there is some correlation in the suffix."
      ],
      "metadata": {
        "id": "k7ou040vvttQ"
      }
    },
    {
      "cell_type": "code",
      "source": [
        "male_len = []\n",
        "for name in male_list:\n",
        "  if name[0][-1] in (\"k\", \"o\", \"r\", \"s\" , \"t\"):\n",
        "    male_len.append(2)\n",
        "  else:\n",
        "    male_len.append(1)\n",
        "\n",
        "df = pd.DataFrame(male_len, columns=['one'])\n",
        "ax = df.plot.hist(bins=12, alpha=0.5)"
      ],
      "metadata": {
        "colab": {
          "base_uri": "https://localhost:8080/",
          "height": 430
        },
        "id": "gnQIW3YbvySu",
        "outputId": "c03b3b60-65c0-4888-86fc-91b598e4ca8e"
      },
      "execution_count": 45,
      "outputs": [
        {
          "output_type": "display_data",
          "data": {
            "text/plain": [
              "<Figure size 640x480 with 1 Axes>"
            ],
            "image/png": "[encoded data removed]"
          },
          "metadata": {}
        }
      ]
    },
    {
      "cell_type": "markdown",
      "source": [
        "According to the textbook, the female names end in \"a\", \"e\" and \"i\". In this dataset, this shows to be true."
      ],
      "metadata": {
        "id": "lfRsgzHQxQ22"
      }
    },
    {
      "cell_type": "code",
      "source": [
        "female_len = []\n",
        "for name in female_list:\n",
        "  if name[0][-1] in (\"a\", \"e\", \"i\"):\n",
        "    female_len.append(2)\n",
        "  else:\n",
        "    female_len.append(1)\n",
        "\n",
        "df = pd.DataFrame(female_len)\n",
        "ax = df.plot.hist(bins=12, alpha=0.5)"
      ],
      "metadata": {
        "colab": {
          "base_uri": "https://localhost:8080/",
          "height": 430
        },
        "id": "Lyg2spSvwm16",
        "outputId": "b59c7fc0-e1f8-44cf-8501-950c9c0529b3"
      },
      "execution_count": 58,
      "outputs": [
        {
          "output_type": "display_data",
          "data": {
            "text/plain": [
              "<Figure size 640x480 with 1 Axes>"
            ],
            "image/png": "[encoded data removed]"
          },
          "metadata": {}
        }
      ]
    },
    {
      "cell_type": "markdown",
      "source": [
        "To investigate this further, I will subset the last letter for each male and female name and see if there is a clear trend that I can utilize."
      ],
      "metadata": {
        "id": "QTQ4h0MBiHut"
      }
    },
    {
      "cell_type": "code",
      "source": [
        "female_suffix = []\n",
        "for name in female_list:\n",
        "  female_suffix.append(name[0][-1])\n"
      ],
      "metadata": {
        "id": "_ZNOo7ndiaEx"
      },
      "execution_count": 68,
      "outputs": []
    },
    {
      "cell_type": "code",
      "source": [
        "counts = Counter(female_suffix)\n",
        "df_ver = pd.DataFrame.from_dict(counts, orient='index')\n",
        "df_ver =  df_ver.sort_values(0, ascending = False)\n",
        "df_ver.plot(kind = \"bar\", legend = False)"
      ],
      "metadata": {
        "colab": {
          "base_uri": "https://localhost:8080/",
          "height": 447
        },
        "id": "FnSclDK5k4Fu",
        "outputId": "7be4ecd4-67c7-4d89-dea3-4978f5596b3e"
      },
      "execution_count": 67,
      "outputs": [
        {
          "output_type": "execute_result",
          "data": {
            "text/plain": [
              "<Axes: >"
            ]
          },
          "metadata": {},
          "execution_count": 67
        },
        {
          "output_type": "display_data",
          "data": {
            "text/plain": [
              "<Figure size 640x480 with 1 Axes>"
            ],
            "image/png": "[encoded data removed]"
          },
          "metadata": {}
        }
      ]
    },
    {
      "cell_type": "code",
      "source": [
        "male_suffix = []\n",
        "for name in male_list:\n",
        "  male_suffix.append(name[0][-1])"
      ],
      "metadata": {
        "id": "e3jO-6kYpfqd"
      },
      "execution_count": 69,
      "outputs": []
    },
    {
      "cell_type": "code",
      "source": [
        "counts = Counter(male_suffix)\n",
        "df_ver = pd.DataFrame.from_dict(counts, orient='index')\n",
        "df_ver =  df_ver.sort_values(0, ascending = False)\n",
        "df_ver.plot(kind = \"bar\", legend = False)"
      ],
      "metadata": {
        "colab": {
          "base_uri": "https://localhost:8080/",
          "height": 451
        },
        "id": "ExQA9HyrpyXg",
        "outputId": "b70a1e8b-e784-43d8-b4ec-91e2c454c857"
      },
      "execution_count": 70,
      "outputs": [
        {
          "output_type": "execute_result",
          "data": {
            "text/plain": [
              "<Axes: >"
            ]
          },
          "metadata": {},
          "execution_count": 70
        },
        {
          "output_type": "display_data",
          "data": {
            "text/plain": [
              "<Figure size 640x480 with 1 Axes>"
            ],
            "image/png": "[encoded data removed]"
          },
          "metadata": {}
        }
      ]
    },
    {
      "cell_type": "markdown",
      "source": [
        "From evaluating the last letter for male and female names. The most common letter suffix in the male list is n, e, y, s and d.\n",
        "\n",
        "For female, it is a,e, y, n and i.\n",
        "\n",
        "There are two common letter suffixes (n, y, e and a)."
      ],
      "metadata": {
        "id": "IzOCUo-fp1fB"
      }
    },
    {
      "cell_type": "code",
      "source": [
        "\"weekness\"[-2:]"
      ],
      "metadata": {
        "colab": {
          "base_uri": "https://localhost:8080/",
          "height": 35
        },
        "id": "I-Vbs_mxqldd",
        "outputId": "acfbba53-9a95-4cfa-cdeb-357481f8ef14"
      },
      "execution_count": 74,
      "outputs": [
        {
          "output_type": "execute_result",
          "data": {
            "text/plain": [
              "'ss'"
            ],
            "application/vnd.google.colaboratory.intrinsic+json": {
              "type": "string"
            }
          },
          "metadata": {},
          "execution_count": 74
        }
      ]
    },
    {
      "cell_type": "code",
      "source": [
        "female_suffix = []\n",
        "for name in female_list:\n",
        "  female_suffix.append(name[0][-2:])\n",
        "\n",
        "counts = Counter(female_suffix[:10])\n",
        "df_ver = pd.DataFrame.from_dict(counts, orient='index')\n",
        "df_ver =  df_ver.sort_values(0, ascending = False)\n",
        "df_ver.plot(kind = \"bar\", legend = False)"
      ],
      "metadata": {
        "colab": {
          "base_uri": "https://localhost:8080/",
          "height": 451
        },
        "id": "KhaeAMCtqX14",
        "outputId": "5b944f09-86aa-4f7a-ef53-43dcfe746504"
      },
      "execution_count": 83,
      "outputs": [
        {
          "output_type": "execute_result",
          "data": {
            "text/plain": [
              "<Axes: >"
            ]
          },
          "metadata": {},
          "execution_count": 83
        },
        {
          "output_type": "display_data",
          "data": {
            "text/plain": [
              "<Figure size 640x480 with 1 Axes>"
            ],
            "image/png": "[encoded data removed]"
          },
          "metadata": {}
        }
      ]
    },
    {
      "cell_type": "code",
      "source": [
        "male_suffix = []\n",
        "for name in male_list:\n",
        "  male_suffix.append(name[0][-2:])\n",
        "\n",
        "counts = Counter(male_suffix[:10])\n",
        "df_ver = pd.DataFrame.from_dict(counts, orient='index')\n",
        "df_ver =  df_ver.sort_values(0, ascending = False)\n",
        "df_ver.plot(kind = \"bar\", legend = False)"
      ],
      "metadata": {
        "colab": {
          "base_uri": "https://localhost:8080/",
          "height": 456
        },
        "id": "c6Q_de_LrgZ-",
        "outputId": "78f2ec9c-a814-490c-8977-91c26a70fb1f"
      },
      "execution_count": 86,
      "outputs": [
        {
          "output_type": "execute_result",
          "data": {
            "text/plain": [
              "<Axes: >"
            ]
          },
          "metadata": {},
          "execution_count": 86
        },
        {
          "output_type": "display_data",
          "data": {
            "text/plain": [
              "<Figure size 640x480 with 1 Axes>"
            ],
            "image/png": "[encoded data removed]"
          },
          "metadata": {}
        }
      ]
    },
    {
      "cell_type": "markdown",
      "source": [
        "The last two letters for female and male list do not appear to have any commonalitys, and this may be an optimal feature to use in the classifiers."
      ],
      "metadata": {
        "id": "LKRpnsBFrnrN"
      }
    },
    {
      "cell_type": "markdown",
      "source": [
        "## Model Training"
      ],
      "metadata": {
        "id": "wF5WwRJIr1BP"
      }
    },
    {
      "cell_type": "markdown",
      "source": [
        "Splitting the labeled names by the training, devtest and test set. The training set is used to train the model and devtest is used to check against errors. At first I will train the dataset based on the last letter of the word."
      ],
      "metadata": {
        "id": "o5lFIMAKcbhX"
      }
    },
    {
      "cell_type": "code",
      "source": [
        "def gender_features(word):\n",
        "  return {'suffix1': word[-1:], 'suffix2': word[-2:]}"
      ],
      "metadata": {
        "id": "36oypN8jtaja"
      },
      "execution_count": 87,
      "outputs": []
    },
    {
      "cell_type": "code",
      "source": [
        "train_names = labeled_names[1500:]\n",
        "devtest_names = labeled_names[500:1500]\n",
        "test_names = labeled_names[:500]"
      ],
      "metadata": {
        "id": "5WI6d3qBcY1c"
      },
      "execution_count": 88,
      "outputs": []
    },
    {
      "cell_type": "code",
      "source": [
        "train_set = [(gender_features(n), gender) for (n, gender) in train_names]\n",
        "devtest_set = [(gender_features(n), gender) for (n, gender) in devtest_names]\n",
        "test_set = [(gender_features(n), gender) for (n, gender) in test_names]"
      ],
      "metadata": {
        "id": "SL4Jb45scRaU"
      },
      "execution_count": 89,
      "outputs": []
    },
    {
      "cell_type": "markdown",
      "source": [
        "## Naives Classifier"
      ],
      "metadata": {
        "id": "Bh_AT0clIHoM"
      }
    },
    {
      "cell_type": "code",
      "source": [
        "classifier = nltk.NaiveBayesClassifier.train(train_set)\n",
        "print(nltk.classify.accuracy(classifier, devtest_set))"
      ],
      "metadata": {
        "colab": {
          "base_uri": "https://localhost:8080/"
        },
        "id": "Qy8yMOcLdA8O",
        "outputId": "21f63f25-3688-443e-eedd-1000095ec4d7"
      },
      "execution_count": 90,
      "outputs": [
        {
          "output_type": "stream",
          "name": "stdout",
          "text": [
            "0.768\n"
          ]
        }
      ]
    },
    {
      "cell_type": "markdown",
      "source": [
        "Using just the last letter and the Naive Bayes Classifier, I can see the accuracy is 76.8%. To check the errors, we can use the dev-test set, and generate a list of the errors that the classifier makes when predicting name genders to see what was missed.\n",
        "\n",
        "\n"
      ],
      "metadata": {
        "id": "s1MkFHCBdROd"
      }
    },
    {
      "cell_type": "code",
      "source": [
        "errors = []\n",
        "for (name, tag) in devtest_names:\n",
        "  guess = classifier.classify(gender_features(name))\n",
        "  if guess != tag:\n",
        "    errors.append( (tag, guess, name) )\n",
        "for (tag, guess, name) in sorted(errors)[:10]:\n",
        "  print('correct={:<8} guess={:<8s} name={:<30}'.format(tag, guess, name))"
      ],
      "metadata": {
        "colab": {
          "base_uri": "https://localhost:8080/"
        },
        "id": "C_zwVQAbd6jM",
        "outputId": "88032ea0-66de-427f-8353-83ab6b628dbf"
      },
      "execution_count": 91,
      "outputs": [
        {
          "output_type": "stream",
          "name": "stdout",
          "text": [
            "correct=female   guess=male     name=Abigael                       \n",
            "correct=female   guess=male     name=Adel                          \n",
            "correct=female   guess=male     name=Adelind                       \n",
            "correct=female   guess=male     name=Adrian                        \n",
            "correct=female   guess=male     name=Adrien                        \n",
            "correct=female   guess=male     name=Aeriel                        \n",
            "correct=female   guess=male     name=Agnes                         \n",
            "correct=female   guess=male     name=Aileen                        \n",
            "correct=female   guess=male     name=Alison                        \n",
            "correct=female   guess=male     name=Allis                         \n"
          ]
        }
      ]
    },
    {
      "cell_type": "markdown",
      "source": [
        "Errors in from the data set occur when with the first two letters of the name and the last two letters of the name.\n",
        "\n",
        "I will create a genders features function to include the last letter and the last two letters of the words. Additionally, I will consider the first two letters of a word.\n"
      ],
      "metadata": {
        "id": "Cj1LK6z_eHxH"
      }
    },
    {
      "cell_type": "code",
      "source": [
        "def gender_features1(word):\n",
        "  return {'first_letter': word[:2].lower(), 'suffix1': word[-1:], 'suffix2': word[-2:]}\n",
        "\n",
        "train_set = [(gender_features1(n), gender) for (n, gender) in train_names]\n",
        "devtest_set = [(gender_features1(n), gender) for (n, gender) in devtest_names]\n",
        "test_set = [(gender_features1(n), gender) for (n, gender) in test_names]\n",
        "\n",
        "classifier = nltk.NaiveBayesClassifier.train(train_set)\n",
        "print(nltk.classify.accuracy(classifier, devtest_set))"
      ],
      "metadata": {
        "colab": {
          "base_uri": "https://localhost:8080/"
        },
        "id": "bXu7NRfhfkaT",
        "outputId": "bb4b07dc-7479-49cb-ac81-aa6850eb7c79"
      },
      "execution_count": 96,
      "outputs": [
        {
          "output_type": "stream",
          "name": "stdout",
          "text": [
            "0.786\n"
          ]
        }
      ]
    },
    {
      "cell_type": "markdown",
      "source": [
        "With these new features considered the accuracy is now 78.6%. Next, I will include the length of the names, working under the assumption that there is a correlation and difference between the length of female names compared to the length of male names."
      ],
      "metadata": {
        "id": "LWBjOZHNuJx3"
      }
    },
    {
      "cell_type": "code",
      "source": [
        "errors = []\n",
        "for (name, tag) in devtest_names:\n",
        "  guess = classifier.classify(gender_features1(name))\n",
        "  if guess != tag:\n",
        "    errors.append( (tag, guess, name) )\n",
        "for (tag, guess, name) in sorted(errors)[:10]:\n",
        "  print('correct={:<8} guess={:<8s} name={:<30}'.format(tag, guess, name))"
      ],
      "metadata": {
        "colab": {
          "base_uri": "https://localhost:8080/"
        },
        "id": "Sx4XdjLCeTmy",
        "outputId": "1ea5bd21-6d20-48c7-db9f-8cce9c25bd51"
      },
      "execution_count": 94,
      "outputs": [
        {
          "output_type": "stream",
          "name": "stdout",
          "text": [
            "correct=female   guess=male     name=Abigael                       \n",
            "correct=female   guess=male     name=Adel                          \n",
            "correct=female   guess=male     name=Adelind                       \n",
            "correct=female   guess=male     name=Adrian                        \n",
            "correct=female   guess=male     name=Adrien                        \n",
            "correct=female   guess=male     name=Aeriel                        \n",
            "correct=female   guess=male     name=Agnes                         \n",
            "correct=female   guess=male     name=Alison                        \n",
            "correct=female   guess=male     name=Allis                         \n",
            "correct=female   guess=male     name=Allison                       \n"
          ]
        }
      ]
    },
    {
      "cell_type": "code",
      "source": [
        "def gender_features2(word):\n",
        "  return {'first_letter': word[:2].lower(), 'suffix2': word[-2:], 'length': len(word)}\n",
        "\n",
        "train_set = [(gender_features2(n), gender) for (n, gender) in train_names]\n",
        "devtest_set = [(gender_features2(n), gender) for (n, gender) in devtest_names]\n",
        "test_set = [(gender_features2(n), gender) for (n, gender) in test_names]\n",
        "\n",
        "classifier = nltk.NaiveBayesClassifier.train(train_set)\n",
        "print(nltk.classify.accuracy(classifier, devtest_set))"
      ],
      "metadata": {
        "colab": {
          "base_uri": "https://localhost:8080/"
        },
        "id": "LKZAVsHmgJoz",
        "outputId": "abaef56b-d44b-4a76-e778-ea02d98e5b36"
      },
      "execution_count": 114,
      "outputs": [
        {
          "output_type": "stream",
          "name": "stdout",
          "text": [
            "0.802\n"
          ]
        }
      ]
    },
    {
      "cell_type": "code",
      "source": [
        "errors = []\n",
        "for (name, tag) in devtest_names:\n",
        "  guess = classifier.classify(gender_features2(name))\n",
        "  if guess != tag:\n",
        "    errors.append( (tag, guess, name) )\n",
        "\n",
        "for (tag, guess, name) in sorted(errors)[:10]:\n",
        "  print('correct={:<8} guess={:<8s} name={:<30}'.format(tag, guess, name))"
      ],
      "metadata": {
        "colab": {
          "base_uri": "https://localhost:8080/"
        },
        "id": "2-Obq4Q3ge5Z",
        "outputId": "1b775325-1a16-401f-e381-d35b66ac3fd6"
      },
      "execution_count": 105,
      "outputs": [
        {
          "output_type": "stream",
          "name": "stdout",
          "text": [
            "correct=female   guess=male     name=Abigael                       \n",
            "correct=female   guess=male     name=Adel                          \n",
            "correct=female   guess=male     name=Adelind                       \n",
            "correct=female   guess=male     name=Adrian                        \n",
            "correct=female   guess=male     name=Agnes                         \n",
            "correct=female   guess=male     name=Alison                        \n",
            "correct=female   guess=male     name=Allison                       \n",
            "correct=female   guess=male     name=Arabel                        \n",
            "correct=female   guess=male     name=Babs                          \n",
            "correct=female   guess=male     name=Bert                          \n"
          ]
        }
      ]
    },
    {
      "cell_type": "markdown",
      "source": [
        "Considering the length of the name along with the other criterias increases the accuracy barely. This makes sense since the two names dataframe do not have significant difference in the lengths."
      ],
      "metadata": {
        "id": "g7myK_gDxk9d"
      }
    },
    {
      "cell_type": "markdown",
      "source": [
        "The most informative features show that the suffix is the most informatice. In this example, the suffix 'na' shows to be 87.5 times more often in female names than in male. Also names ending in \"rd\" happen 29 times more often than in females."
      ],
      "metadata": {
        "id": "c8OlcC3_xrwP"
      }
    },
    {
      "cell_type": "code",
      "source": [
        "classifier.show_most_informative_features(10)\n"
      ],
      "metadata": {
        "colab": {
          "base_uri": "https://localhost:8080/"
        },
        "id": "VsIaEDvVhR_y",
        "outputId": "2c85c47c-eeee-42ca-d014-cb04b50f2b8c"
      },
      "execution_count": 106,
      "outputs": [
        {
          "output_type": "stream",
          "name": "stdout",
          "text": [
            "Most Informative Features\n",
            "                 suffix2 = 'na'           female : male   =     90.1 : 1.0\n",
            "                 suffix2 = 'la'           female : male   =     67.4 : 1.0\n",
            "                 suffix2 = 'rt'             male : female =     46.1 : 1.0\n",
            "                 suffix2 = 'ta'           female : male   =     39.7 : 1.0\n",
            "                 suffix2 = 'us'             male : female =     36.3 : 1.0\n",
            "                 suffix2 = 'ia'           female : male   =     34.5 : 1.0\n",
            "                 suffix2 = 'sa'           female : male   =     31.8 : 1.0\n",
            "                 suffix2 = 'io'             male : female =     26.1 : 1.0\n",
            "                 suffix2 = 'ra'           female : male   =     23.4 : 1.0\n",
            "                 suffix2 = 'do'             male : female =     22.8 : 1.0\n"
          ]
        }
      ]
    },
    {
      "cell_type": "markdown",
      "source": [
        "The next `gender_features` function will consider the first two and the last two letters in the male and female names. Additionally, I will consider the frequency of constonants and vowels."
      ],
      "metadata": {
        "id": "rf0RStocstZK"
      }
    },
    {
      "cell_type": "code",
      "source": [
        "def gender_features3(word):\n",
        "  features = {}\n",
        "  features[\"first_letter\"] = word[:2].lower()\n",
        "  features[\"suffix2\"] = word[-2:].lower()\n",
        "  features[\"length\"] = len(word)\n",
        "  for letter in 'aeiou':\n",
        "    features[\"count({})\".format(letter)] = word.lower().count(letter)\n",
        "  for letter in 'bcdfghjklmnpqrstvwxyz':\n",
        "    features[\"count({})\".format(letter)] = word.lower().count(letter)\n",
        "\n",
        "  return features"
      ],
      "metadata": {
        "id": "s7l4KpAXhtp5"
      },
      "execution_count": 116,
      "outputs": []
    },
    {
      "cell_type": "code",
      "source": [
        "train_set = [(gender_features3(n), gender) for (n, gender) in train_names]\n",
        "devtest_set = [(gender_features3(n), gender) for (n, gender) in devtest_names]\n",
        "test_set = [(gender_features3(n), gender) for (n, gender) in test_names]\n",
        "\n",
        "classifier = nltk.NaiveBayesClassifier.train(train_set)\n",
        "print(nltk.classify.accuracy(classifier, devtest_set))"
      ],
      "metadata": {
        "colab": {
          "base_uri": "https://localhost:8080/"
        },
        "id": "_C3Je3o7nybU",
        "outputId": "9667c7c1-c6e2-4bd0-c827-e09d72f64b16"
      },
      "execution_count": 109,
      "outputs": [
        {
          "output_type": "stream",
          "name": "stdout",
          "text": [
            "0.806\n"
          ]
        }
      ]
    },
    {
      "cell_type": "code",
      "source": [
        "classifier.show_most_informative_features(10)\n"
      ],
      "metadata": {
        "colab": {
          "base_uri": "https://localhost:8080/"
        },
        "id": "mI2yXoLvs6cJ",
        "outputId": "d6c41b88-3deb-4b46-b5c8-ba53b680ce31"
      },
      "execution_count": 110,
      "outputs": [
        {
          "output_type": "stream",
          "name": "stdout",
          "text": [
            "Most Informative Features\n",
            "                 suffix2 = 'na'           female : male   =     90.0 : 1.0\n",
            "                 suffix2 = 'la'           female : male   =     67.7 : 1.0\n",
            "                 suffix2 = 'rt'             male : female =     46.2 : 1.0\n",
            "                 suffix2 = 'ta'           female : male   =     39.7 : 1.0\n",
            "                 suffix2 = 'us'             male : female =     36.4 : 1.0\n",
            "                 suffix2 = 'ia'           female : male   =     34.5 : 1.0\n",
            "                 suffix2 = 'sa'           female : male   =     31.8 : 1.0\n",
            "                 suffix2 = 'io'             male : female =     26.1 : 1.0\n",
            "                 suffix2 = 'ra'           female : male   =     23.4 : 1.0\n",
            "                 suffix2 = 'do'             male : female =     22.8 : 1.0\n"
          ]
        }
      ]
    },
    {
      "cell_type": "markdown",
      "source": [
        "This method has a slight improvment in accuracy and shows the best accuracy I am able to achieve with a Naive Bayes Classifier is 80.5%."
      ],
      "metadata": {
        "id": "qnYNchd0ymtb"
      }
    },
    {
      "cell_type": "markdown",
      "source": [
        "### Maxent Classifier\n",
        "\n",
        "Maxent is memory hungry, slower, and it requires numpy. The Max Entropy classifier is a probabilistic classifier which belongs to the class of exponential models. It does not assume that the features are conditionally independent of each other.\n",
        "\n",
        "Using the same gender features functions that I created earlier, I will test against the Maxent Classifier."
      ],
      "metadata": {
        "id": "JtjuvR2z5rZE"
      }
    },
    {
      "cell_type": "code",
      "source": [
        "from nltk import MaxentClassifier\n",
        "\n",
        "\n",
        "train_set = [(gender_features(n), gender) for (n, gender) in train_names]\n",
        "devtest_set = [(gender_features(n), gender) for (n, gender) in devtest_names]\n",
        "test_set = [(gender_features(n), gender) for (n, gender) in test_names]\n",
        "\n",
        "classifier = MaxentClassifier.train(train_set, max_iter=25)\n",
        "print(nltk.classify.accuracy(classifier, devtest_set))"
      ],
      "metadata": {
        "colab": {
          "base_uri": "https://localhost:8080/"
        },
        "id": "J9sCiy7hzmAd",
        "outputId": "9020b867-c3c3-4898-fe53-105158bc4ab4"
      },
      "execution_count": 134,
      "outputs": [
        {
          "output_type": "stream",
          "name": "stdout",
          "text": [
            "  ==> Training (25 iterations)\n",
            "\n",
            "      Iteration    Log Likelihood    Accuracy\n",
            "      ---------------------------------------\n",
            "             1          -0.69315        0.370\n",
            "             2          -0.36620        0.812\n",
            "             3          -0.32192        0.826\n",
            "             4          -0.30331        0.829\n",
            "             5          -0.29278        0.833\n",
            "             6          -0.28583        0.834\n",
            "             7          -0.28080        0.835\n",
            "             8          -0.27696        0.838\n",
            "             9          -0.27391        0.839\n",
            "            10          -0.27142        0.840\n",
            "            11          -0.26935        0.840\n",
            "            12          -0.26760        0.840\n",
            "            13          -0.26610        0.841\n",
            "            14          -0.26480        0.841\n",
            "            15          -0.26367        0.842\n",
            "            16          -0.26266        0.841\n",
            "            17          -0.26177        0.841\n",
            "            18          -0.26098        0.842\n",
            "            19          -0.26026        0.842\n",
            "            20          -0.25961        0.842\n",
            "            21          -0.25902        0.842\n",
            "            22          -0.25849        0.842\n",
            "            23          -0.25800        0.842\n",
            "            24          -0.25754        0.842\n",
            "         Final          -0.25713        0.841\n",
            "0.799\n"
          ]
        }
      ]
    },
    {
      "cell_type": "code",
      "source": [
        "train_set = [(gender_features1(n), gender) for (n, gender) in train_names]\n",
        "devtest_set = [(gender_features1(n), gender) for (n, gender) in devtest_names]\n",
        "test_set = [(gender_features1(n), gender) for (n, gender) in test_names]\n",
        "\n",
        "classifier = MaxentClassifier.train(train_set, max_iter=25)\n",
        "print(nltk.classify.accuracy(classifier, devtest_set))"
      ],
      "metadata": {
        "colab": {
          "base_uri": "https://localhost:8080/"
        },
        "id": "OZrijqaQtzOQ",
        "outputId": "ac584173-88a9-4e74-9b4a-dc1e86283045"
      },
      "execution_count": 135,
      "outputs": [
        {
          "output_type": "stream",
          "name": "stdout",
          "text": [
            "  ==> Training (25 iterations)\n",
            "\n",
            "      Iteration    Log Likelihood    Accuracy\n",
            "      ---------------------------------------\n",
            "             1          -0.69315        0.370\n",
            "             2          -0.59631        0.630\n",
            "             3          -0.57084        0.631\n",
            "             4          -0.54777        0.655\n",
            "             5          -0.52697        0.694\n",
            "             6          -0.50825        0.724\n",
            "             7          -0.49140        0.747\n",
            "             8          -0.47623        0.765\n",
            "             9          -0.46254        0.779\n",
            "            10          -0.45017        0.791\n",
            "            11          -0.43895        0.799\n",
            "            12          -0.42876        0.806\n",
            "            13          -0.41947        0.811\n",
            "            14          -0.41098        0.815\n",
            "            15          -0.40319        0.819\n",
            "            16          -0.39604        0.822\n",
            "            17          -0.38945        0.824\n",
            "            18          -0.38336        0.826\n",
            "            19          -0.37772        0.828\n",
            "            20          -0.37248        0.829\n",
            "            21          -0.36761        0.830\n",
            "            22          -0.36306        0.830\n",
            "            23          -0.35882        0.831\n",
            "            24          -0.35484        0.832\n",
            "         Final          -0.35111        0.833\n",
            "0.815\n"
          ]
        }
      ]
    },
    {
      "cell_type": "code",
      "source": [
        "train_set = [(gender_features2(n), gender) for (n, gender) in train_names]\n",
        "devtest_set = [(gender_features2(n), gender) for (n, gender) in devtest_names]\n",
        "test_set = [(gender_features2(n), gender) for (n, gender) in test_names]\n",
        "\n",
        "classifier = MaxentClassifier.train(train_set, max_iter=25)\n",
        "print(nltk.classify.accuracy(classifier, devtest_set))"
      ],
      "metadata": {
        "colab": {
          "base_uri": "https://localhost:8080/"
        },
        "id": "-uJ1j2rlt7Tx",
        "outputId": "4da4f152-dc6b-4907-9eb2-b1605f1086fe"
      },
      "execution_count": 136,
      "outputs": [
        {
          "output_type": "stream",
          "name": "stdout",
          "text": [
            "  ==> Training (25 iterations)\n",
            "\n",
            "      Iteration    Log Likelihood    Accuracy\n",
            "      ---------------------------------------\n",
            "             1          -0.69315        0.370\n",
            "             2          -0.44202        0.768\n",
            "             3          -0.37721        0.817\n",
            "             4          -0.34504        0.827\n",
            "             5          -0.32620        0.830\n",
            "             6          -0.31385        0.834\n",
            "             7          -0.30513        0.835\n",
            "             8          -0.29863        0.835\n",
            "             9          -0.29358        0.836\n",
            "            10          -0.28953        0.837\n",
            "            11          -0.28620        0.838\n",
            "            12          -0.28339        0.838\n",
            "            13          -0.28100        0.838\n",
            "            14          -0.27892        0.838\n",
            "            15          -0.27709        0.838\n",
            "            16          -0.27548        0.838\n",
            "            17          -0.27403        0.838\n",
            "            18          -0.27272        0.839\n",
            "            19          -0.27154        0.840\n",
            "            20          -0.27047        0.839\n",
            "            21          -0.26948        0.840\n",
            "            22          -0.26857        0.840\n",
            "            23          -0.26773        0.840\n",
            "            24          -0.26695        0.840\n",
            "         Final          -0.26623        0.840\n",
            "0.798\n"
          ]
        }
      ]
    },
    {
      "cell_type": "code",
      "source": [
        "train_set = [(gender_features3(n), gender) for (n, gender) in train_names]\n",
        "devtest_set = [(gender_features3(n), gender) for (n, gender) in devtest_names]\n",
        "test_set = [(gender_features3(n), gender) for (n, gender) in test_names]\n",
        "\n",
        "classifier = MaxentClassifier.train(train_set, max_iter=25)\n",
        "print(nltk.classify.accuracy(classifier, devtest_set))"
      ],
      "metadata": {
        "colab": {
          "base_uri": "https://localhost:8080/"
        },
        "id": "tRy5cMMht-QP",
        "outputId": "b053657d-7b6d-47a9-e32c-0974ef1559ec"
      },
      "execution_count": 137,
      "outputs": [
        {
          "output_type": "stream",
          "name": "stdout",
          "text": [
            "  ==> Training (25 iterations)\n",
            "\n",
            "      Iteration    Log Likelihood    Accuracy\n",
            "      ---------------------------------------\n",
            "             1          -0.69315        0.370\n",
            "             2          -0.59631        0.630\n",
            "             3          -0.57084        0.631\n",
            "             4          -0.54777        0.655\n",
            "             5          -0.52697        0.694\n",
            "             6          -0.50825        0.724\n",
            "             7          -0.49140        0.747\n",
            "             8          -0.47623        0.765\n",
            "             9          -0.46254        0.779\n",
            "            10          -0.45017        0.791\n",
            "            11          -0.43895        0.799\n",
            "            12          -0.42876        0.806\n",
            "            13          -0.41947        0.811\n",
            "            14          -0.41098        0.815\n",
            "            15          -0.40319        0.819\n",
            "            16          -0.39604        0.822\n",
            "            17          -0.38945        0.824\n",
            "            18          -0.38336        0.826\n",
            "            19          -0.37772        0.828\n",
            "            20          -0.37248        0.829\n",
            "            21          -0.36761        0.830\n",
            "            22          -0.36306        0.830\n",
            "            23          -0.35882        0.831\n",
            "            24          -0.35484        0.832\n",
            "         Final          -0.35111        0.833\n",
            "0.815\n"
          ]
        }
      ]
    },
    {
      "cell_type": "markdown",
      "source": [
        "Using the Maxent Classifier method, it shows a more informative outputs. The `genders_features1()` and `gender_features3()` shows the best accuracy."
      ],
      "metadata": {
        "id": "kgpJdBSt0Fmp"
      }
    },
    {
      "cell_type": "code",
      "source": [
        "print(nltk.classify.accuracy(classifier, test_set))"
      ],
      "metadata": {
        "colab": {
          "base_uri": "https://localhost:8080/"
        },
        "id": "4NXd1OFvyk_3",
        "outputId": "2ee4fbd2-d55d-41df-a996-03bd10db3af2"
      },
      "execution_count": 138,
      "outputs": [
        {
          "output_type": "stream",
          "name": "stdout",
          "text": [
            "0.794\n"
          ]
        }
      ]
    },
    {
      "cell_type": "markdown",
      "source": [
        "Using the best classifier the test set final accuracy is 79.4%."
      ],
      "metadata": {
        "id": "-n4YmsjWynJZ"
      }
    },
    {
      "cell_type": "markdown",
      "source": [
        "### Decision Tree Classifier\n",
        "\n"
      ],
      "metadata": {
        "id": "FCO0h2lkxoGB"
      }
    },
    {
      "cell_type": "markdown",
      "source": [
        "The decision tree classifier creates the classification model by building a decision tree. Each node in the tree specifies a test on an attribute and develops from there. Using the same gender feautres I applied `nltk` library Decision Tree Classifier."
      ],
      "metadata": {
        "id": "WZcMQNWRvxZt"
      }
    },
    {
      "cell_type": "code",
      "source": [
        "train_set = [(gender_features(n), gender) for (n, gender) in train_names]\n",
        "devtest_set = [(gender_features(n), gender) for (n, gender) in devtest_names]\n",
        "\n",
        "classifier =nltk.DecisionTreeClassifier.train(train_set)\n",
        "print(nltk.classify.accuracy(classifier, devtest_set))\n"
      ],
      "metadata": {
        "colab": {
          "base_uri": "https://localhost:8080/"
        },
        "id": "LntHseFdu1rJ",
        "outputId": "fe3c7192-0700-478d-fc4c-9880eac33c5b"
      },
      "execution_count": 122,
      "outputs": [
        {
          "output_type": "stream",
          "name": "stdout",
          "text": [
            "0.751\n"
          ]
        }
      ]
    },
    {
      "cell_type": "markdown",
      "source": [
        "Using the gender features 1, we see the accuracy is 75.1% which is lower than the previous classifiers."
      ],
      "metadata": {
        "id": "ErNiG7ZAwXfD"
      }
    },
    {
      "cell_type": "code",
      "source": [
        "train_set = [(gender_features1(n), gender) for (n, gender) in train_names]\n",
        "devtest_set = [(gender_features1(n), gender) for (n, gender) in devtest_names]\n",
        "\n",
        "classifier =nltk.DecisionTreeClassifier.train(train_set)\n",
        "print(nltk.classify.accuracy(classifier, devtest_set))"
      ],
      "metadata": {
        "id": "qLIcbcHzyCka",
        "colab": {
          "base_uri": "https://localhost:8080/"
        },
        "outputId": "bcbccc52-c45f-4636-9912-38b98895bc5d"
      },
      "execution_count": 123,
      "outputs": [
        {
          "output_type": "stream",
          "name": "stdout",
          "text": [
            "0.743\n"
          ]
        }
      ]
    },
    {
      "cell_type": "markdown",
      "source": [
        "When considering the seconf gender features function, we acutally see a decreased accuracy."
      ],
      "metadata": {
        "id": "bWgehgqbwdWg"
      }
    },
    {
      "cell_type": "code",
      "source": [
        "train_set = [(gender_features2(n), gender) for (n, gender) in train_names]\n",
        "devtest_set = [(gender_features2(n), gender) for (n, gender) in devtest_names]\n",
        "\n",
        "classifier =nltk.DecisionTreeClassifier.train(train_set)\n",
        "print(nltk.classify.accuracy(classifier, devtest_set))"
      ],
      "metadata": {
        "colab": {
          "base_uri": "https://localhost:8080/"
        },
        "id": "n_2tBEMKu-YM",
        "outputId": "ac6e57c3-6ca7-41db-e8fb-7da0befa9631"
      },
      "execution_count": 127,
      "outputs": [
        {
          "output_type": "stream",
          "name": "stdout",
          "text": [
            "0.743\n",
            "0.726\n"
          ]
        }
      ]
    },
    {
      "cell_type": "code",
      "source": [
        "train_set = [(gender_features3(n), gender) for (n, gender) in train_names]\n",
        "devtest_set = [(gender_features3(n), gender) for (n, gender) in devtest_names]\n",
        "test_set = [(gender_features3(n), gender) for (n, gender) in test_names]\n",
        "\n",
        "classifier =nltk.DecisionTreeClassifier.train(train_set)\n",
        "print(nltk.classify.accuracy(classifier, devtest_set))"
      ],
      "metadata": {
        "colab": {
          "base_uri": "https://localhost:8080/"
        },
        "id": "pMU1wUgjvAiq",
        "outputId": "dffad47f-ae72-4757-f7b5-981887bdcb72"
      },
      "execution_count": 125,
      "outputs": [
        {
          "output_type": "stream",
          "name": "stdout",
          "text": [
            "0.743\n"
          ]
        }
      ]
    },
    {
      "cell_type": "markdown",
      "source": [
        "Considering the last two functions we see a plateau in the accuracy, it neither increases or decreases. The Decision Tree Classifier performed best with the first gender features function."
      ],
      "metadata": {
        "id": "dm3ukqpMwIzs"
      }
    },
    {
      "cell_type": "code",
      "source": [
        "train_set = [(gender_features(n), gender) for (n, gender) in train_names]\n",
        "devtest_set = [(gender_features(n), gender) for (n, gender) in devtest_names]\n",
        "\n",
        "classifier =nltk.DecisionTreeClassifier.train(train_set)\n",
        "print(nltk.classify.accuracy(classifier, devtest_set))\n",
        "print(nltk.classify.accuracy(classifier, test_set))"
      ],
      "metadata": {
        "colab": {
          "base_uri": "https://localhost:8080/"
        },
        "id": "XRHGEwv5xDo5",
        "outputId": "ac492496-eeb4-441b-b3a8-30c67bc4a320"
      },
      "execution_count": 139,
      "outputs": [
        {
          "output_type": "stream",
          "name": "stdout",
          "text": [
            "0.751\n",
            "0.738\n"
          ]
        }
      ]
    },
    {
      "cell_type": "markdown",
      "source": [
        "Using the test dataset, the accuracy continues to decrease. I can conclude that the Decision Tree Classifier is not the best classifier to use for this classification."
      ],
      "metadata": {
        "id": "OAEZCRTDxYzT"
      }
    },
    {
      "cell_type": "markdown",
      "source": [
        "## Conclusion\n",
        "\n"
      ],
      "metadata": {
        "id": "EeDle7vfyyGA"
      }
    },
    {
      "cell_type": "markdown",
      "source": [
        "By using the Maxent Classifier and the optimal gender features I am able to achieve 84% accuracy. With NaiveClassifier, I was able to achiece 80.5% accuracy. The most important features are the suffix when considering the last two letters. The Decision Tree classifier performed the worst of all three models."
      ],
      "metadata": {
        "id": "-Ko4m5CU0S8X"
      }
    }
  ]
}