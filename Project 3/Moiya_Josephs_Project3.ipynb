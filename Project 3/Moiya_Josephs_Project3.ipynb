{
  "nbformat": 4,
  "nbformat_minor": 0,
  "metadata": {
    "colab": {
      "provenance": []
    },
    "kernelspec": {
      "name": "python3",
      "display_name": "Python 3"
    },
    "language_info": {
      "name": "python"
    }
  },
  "cells": [
    {
      "cell_type": "markdown",
      "source": [
        "# Project 3\n",
        "### Moiya Josephs\n",
        "\n",
        "## Ask\n",
        "\n",
        "Using any of the three classifiers described in chapter 6 of Natural Language Processing with Python, and any features you can think of, build the best name gender classifier you can. Begin by splitting the Names Corpus into three subsets: 500 words for the test set, 500 words for the dev-test set, and the remaining 6900 words for the training set. Then, starting with the example name gender classifier, make incremental improvements. Use the dev-test set to check your progress. Once you are satisfied with your classifier, check its final performance on the test set. How does the performance on the test set compare to the performance on the dev-test set? Is this what you'd expect?\n"
      ],
      "metadata": {
        "id": "cn_GXNkZH7A8"
      }
    },
    {
      "cell_type": "markdown",
      "source": [
        "## The Data Set\n",
        "\n",
        "The names corpus is a collection of female and male names. As explained in the Chapter 6 of Natural Language Processing with Python textbook, female names often end in a, e or i and male names often end in k, o, r, s and t. Classifier models can be used to predict what bucket a name can fall in."
      ],
      "metadata": {
        "id": "Y0v6mmKpH9uz"
      }
    },
    {
      "cell_type": "code",
      "execution_count": 3,
      "metadata": {
        "id": "68W_0fqYH6Ft"
      },
      "outputs": [],
      "source": [
        "from nltk.corpus import names\n",
        "import random"
      ]
    },
    {
      "cell_type": "code",
      "source": [
        "import nltk\n",
        "import pandas as pd"
      ],
      "metadata": {
        "id": "MUqKgDDF3wKP"
      },
      "execution_count": 58,
      "outputs": []
    },
    {
      "cell_type": "code",
      "source": [
        "nltk.download('names')"
      ],
      "metadata": {
        "colab": {
          "base_uri": "https://localhost:8080/"
        },
        "id": "W2z63TRT3x6t",
        "outputId": "4062449a-7ff2-425a-8f9f-c486b6fa0e47"
      },
      "execution_count": 5,
      "outputs": [
        {
          "output_type": "stream",
          "name": "stderr",
          "text": [
            "[nltk_data] Downloading package names to /root/nltk_data...\n",
            "[nltk_data]   Unzipping corpora/names.zip.\n"
          ]
        },
        {
          "output_type": "execute_result",
          "data": {
            "text/plain": [
              "True"
            ]
          },
          "metadata": {},
          "execution_count": 5
        }
      ]
    },
    {
      "cell_type": "markdown",
      "source": [
        "### Combine the Male and Female Names"
      ],
      "metadata": {
        "id": "Vgq1vGkwvqGl"
      }
    },
    {
      "cell_type": "markdown",
      "source": [
        "Combining both names from the datasets and labeling them to be either male or female."
      ],
      "metadata": {
        "id": "L1opdK7bchFa"
      }
    },
    {
      "cell_type": "code",
      "source": [
        "labeled_names = ([(name, 'male') for name in names.words('male.txt')] +\n",
        "                 [(name, 'female') for name in names.words('female.txt')])\n",
        "random.shuffle(labeled_names)\n"
      ],
      "metadata": {
        "id": "qv0YBTBtIGXD"
      },
      "execution_count": 7,
      "outputs": []
    },
    {
      "cell_type": "code",
      "source": [
        "male_len = []\n",
        "for name in names.words('male.txt'):\n",
        "  male_len.append(len(name))\n",
        "\n",
        "df = pd.DataFrame(male_len, columns=['one'])\n",
        "ax = df.plot.hist(bins=12, alpha=0.5)\n"
      ],
      "metadata": {
        "colab": {
          "base_uri": "https://localhost:8080/",
          "height": 430
        },
        "id": "5etf0Izfucff",
        "outputId": "3b262637-9448-4676-fb5e-8340ec71adfe"
      },
      "execution_count": 60,
      "outputs": [
        {
          "output_type": "display_data",
          "data": {
            "text/plain": [
              "<Figure size 640x480 with 1 Axes>"
            ],
            "image/png": "[encoded data removed]"
          },
          "metadata": {}
        }
      ]
    },
    {
      "cell_type": "code",
      "source": [
        "female_len = []\n",
        "for name in names.words('female.txt'):\n",
        "  female_len.append(len(name))\n",
        "\n",
        "df = pd.DataFrame(female_len, columns=['one'])\n",
        "ax = df.plot.hist(bins=12, alpha=0.5)"
      ],
      "metadata": {
        "colab": {
          "base_uri": "https://localhost:8080/",
          "height": 430
        },
        "id": "wugwmC0HvTuZ",
        "outputId": "81ef440c-233a-49c0-94ec-e9bf9eabbbc6"
      },
      "execution_count": 62,
      "outputs": [
        {
          "output_type": "display_data",
          "data": {
            "text/plain": [
              "<Figure size 640x480 with 1 Axes>"
            ],
            "image/png": "[encoded data removed]"
          },
          "metadata": {}
        }
      ]
    },
    {
      "cell_type": "markdown",
      "source": [
        "The distribution of the names lengths are similar but there are more names with 4 letters in the female text than the male."
      ],
      "metadata": {
        "id": "dJkw8rH-vdxK"
      }
    },
    {
      "cell_type": "markdown",
      "source": [
        "According to the textbook, most male words end in \"k\", \"o\", \"r\", \"s\" and \"t\". According to the distirbution of the names text, this is shown to be not true at least for the given dataset. Even though this is opposite to the text, the opposite seems to be true so there is some correlation in the suffix."
      ],
      "metadata": {
        "id": "k7ou040vvttQ"
      }
    },
    {
      "cell_type": "code",
      "source": [
        "male_len = []\n",
        "for name in names.words('male.txt'):\n",
        "  if name[-1] in (\"k\", \"o\", \"r\", \"s\" , \"t\"):\n",
        "    male_len.append(2)\n",
        "  else:\n",
        "    male_len.append(1)\n",
        "\n",
        "df = pd.DataFrame(male_len, columns=['one'])\n",
        "ax = df.plot.hist(bins=12, alpha=0.5)"
      ],
      "metadata": {
        "colab": {
          "base_uri": "https://localhost:8080/",
          "height": 430
        },
        "id": "gnQIW3YbvySu",
        "outputId": "ecb75bea-4400-4cc7-dfdb-256b2d536852"
      },
      "execution_count": 67,
      "outputs": [
        {
          "output_type": "display_data",
          "data": {
            "text/plain": [
              "<Figure size 640x480 with 1 Axes>"
            ],
            "image/png": "[encoded data removed]"
          },
          "metadata": {}
        }
      ]
    },
    {
      "cell_type": "markdown",
      "source": [
        "According to the textbook, the female names end in \"a\", \"e\" and \"i\". In this dataset, this shows to be true."
      ],
      "metadata": {
        "id": "lfRsgzHQxQ22"
      }
    },
    {
      "cell_type": "code",
      "source": [
        "female_len = []\n",
        "for name in names.words('female.txt'):\n",
        "  if name[-1] in (\"a\", \"e\", \"i\"):\n",
        "    female_len.append(2)\n",
        "  else:\n",
        "    female_len.append(1)\n",
        "\n",
        "df = pd.DataFrame(female_len, columns=['one'])\n",
        "ax = df.plot.hist(bins=12, alpha=0.5)"
      ],
      "metadata": {
        "colab": {
          "base_uri": "https://localhost:8080/",
          "height": 430
        },
        "id": "Lyg2spSvwm16",
        "outputId": "e91c8d7e-2cce-4cc8-d072-058ce4a45921"
      },
      "execution_count": 69,
      "outputs": [
        {
          "output_type": "display_data",
          "data": {
            "text/plain": [
              "<Figure size 640x480 with 1 Axes>"
            ],
            "image/png": "[encoded data removed]"
          },
          "metadata": {}
        }
      ]
    },
    {
      "cell_type": "markdown",
      "source": [
        "Splitting the labeled names by the training, devtest and test set. The training set is used to train the model and devtest is used to check against errors. At first I will train the dataset based on the last letter of the word."
      ],
      "metadata": {
        "id": "o5lFIMAKcbhX"
      }
    },
    {
      "cell_type": "code",
      "source": [
        "def gender_features(word):\n",
        "  return {'suffix1': word[-1:], 'suffix2': word[-2:]}"
      ],
      "metadata": {
        "id": "36oypN8jtaja"
      },
      "execution_count": 61,
      "outputs": []
    },
    {
      "cell_type": "code",
      "source": [
        "train_names = labeled_names[1500:]\n",
        "devtest_names = labeled_names[500:1500]\n",
        "test_names = labeled_names[:500]"
      ],
      "metadata": {
        "id": "5WI6d3qBcY1c"
      },
      "execution_count": 46,
      "outputs": []
    },
    {
      "cell_type": "code",
      "source": [
        "train_set = [(gender_features(n), gender) for (n, gender) in train_names]\n",
        "devtest_set = [(gender_features(n), gender) for (n, gender) in devtest_names]\n",
        "test_set = [(gender_features(n), gender) for (n, gender) in test_names]"
      ],
      "metadata": {
        "id": "SL4Jb45scRaU"
      },
      "execution_count": 47,
      "outputs": []
    },
    {
      "cell_type": "markdown",
      "source": [
        "## Naives Classifier"
      ],
      "metadata": {
        "id": "Bh_AT0clIHoM"
      }
    },
    {
      "cell_type": "code",
      "source": [
        "classifier = nltk.NaiveBayesClassifier.train(train_set)\n",
        "print(nltk.classify.accuracy(classifier, devtest_set))"
      ],
      "metadata": {
        "colab": {
          "base_uri": "https://localhost:8080/"
        },
        "id": "Qy8yMOcLdA8O",
        "outputId": "6063aa95-a781-4a58-ad8d-cbf6a29cc319"
      },
      "execution_count": 48,
      "outputs": [
        {
          "output_type": "stream",
          "name": "stdout",
          "text": [
            "0.761\n"
          ]
        }
      ]
    },
    {
      "cell_type": "markdown",
      "source": [
        "Using just the last letter and the Naive Bayes Classifier, I can see the accuracy is 76%. To check the errors, we can use the dev-test set, and generate a list of the errors that the classifier makes when predicting name genders to see what was missed.\n",
        "\n"
      ],
      "metadata": {
        "id": "s1MkFHCBdROd"
      }
    },
    {
      "cell_type": "code",
      "source": [
        "errors = []\n",
        "for (name, tag) in devtest_names:\n",
        "  guess = classifier.classify(gender_features_last(name))\n",
        "  if guess != tag:\n",
        "    errors.append( (tag, guess, name) )\n",
        "for (tag, guess, name) in sorted(errors)[:10]:\n",
        "  print('correct={:<8} guess={:<8s} name={:<30}'.format(tag, guess, name))"
      ],
      "metadata": {
        "colab": {
          "base_uri": "https://localhost:8080/"
        },
        "id": "C_zwVQAbd6jM",
        "outputId": "2cde2260-6d10-4670-f236-8956d11c3b6c"
      },
      "execution_count": 45,
      "outputs": [
        {
          "output_type": "stream",
          "name": "stdout",
          "text": [
            "correct=female   guess=male     name=Abagael                       \n",
            "correct=female   guess=male     name=Abigail                       \n",
            "correct=female   guess=male     name=Anais                         \n",
            "correct=female   guess=male     name=Anett                         \n",
            "correct=female   guess=male     name=Annabel                       \n",
            "correct=female   guess=male     name=Ardis                         \n",
            "correct=female   guess=male     name=Ashlen                        \n",
            "correct=female   guess=male     name=Audrey                        \n",
            "correct=female   guess=male     name=Avrit                         \n",
            "correct=female   guess=male     name=Bellamy                       \n"
          ]
        }
      ]
    },
    {
      "cell_type": "markdown",
      "source": [
        "Errors in from the data set occur when the last two letters end n. The names appear to be more female when there is a vowel followed by the letter n or o. For presentation sake, I subset the error to show the first 10 errors.\n",
        "\n",
        "I will create a genders features function to include the last letter and the last two letters of the words.\n"
      ],
      "metadata": {
        "id": "Cj1LK6z_eHxH"
      }
    },
    {
      "cell_type": "code",
      "source": [
        "def gender_features(word):\n",
        "  return {'suffix1': word[-1:], 'suffix2': word[-2:]}"
      ],
      "metadata": {
        "id": "JRZSgpkzenVY"
      },
      "execution_count": 49,
      "outputs": []
    },
    {
      "cell_type": "code",
      "source": [
        "train_set = [(gender_features(n), gender) for (n, gender) in train_names]\n",
        "devtest_set = [(gender_features(n), gender) for (n, gender) in devtest_names]\n",
        "test_set = [(gender_features(n), gender) for (n, gender) in test_names]"
      ],
      "metadata": {
        "id": "QoPg-luLe8Fv"
      },
      "execution_count": 50,
      "outputs": []
    },
    {
      "cell_type": "code",
      "source": [
        "classifier = nltk.NaiveBayesClassifier.train(train_set)\n",
        "print(nltk.classify.accuracy(classifier, devtest_set))"
      ],
      "metadata": {
        "colab": {
          "base_uri": "https://localhost:8080/"
        },
        "id": "nLqyrLIle3KJ",
        "outputId": "47d35f27-ba63-4bb8-f0f7-593da82ff10b"
      },
      "execution_count": 51,
      "outputs": [
        {
          "output_type": "stream",
          "name": "stdout",
          "text": [
            "0.785\n"
          ]
        }
      ]
    },
    {
      "cell_type": "markdown",
      "source": [
        "By including the last two letters the accuracy has increased to 78.5%. This is an improvement but I can increase the accuracy by also taking into account the first letter of the names."
      ],
      "metadata": {
        "id": "-6HGlDoPt9a1"
      }
    },
    {
      "cell_type": "code",
      "source": [
        "def gender_features1(word):\n",
        "  return {'first_letter': word[0], 'suffix1': word[-1:], 'suffix2': word[-2:]}\n",
        "\n",
        "train_set = [(gender_features1(n), gender) for (n, gender) in train_names]\n",
        "devtest_set = [(gender_features1(n), gender) for (n, gender) in devtest_names]\n",
        "test_set = [(gender_features1(n), gender) for (n, gender) in test_names]\n",
        "\n",
        "classifier = nltk.NaiveBayesClassifier.train(train_set)\n",
        "print(nltk.classify.accuracy(classifier, devtest_set))"
      ],
      "metadata": {
        "colab": {
          "base_uri": "https://localhost:8080/"
        },
        "id": "bXu7NRfhfkaT",
        "outputId": "d0a522fd-9865-483d-ca8e-adbf17d50b0e"
      },
      "execution_count": 29,
      "outputs": [
        {
          "output_type": "stream",
          "name": "stdout",
          "text": [
            "0.792\n"
          ]
        }
      ]
    },
    {
      "cell_type": "markdown",
      "source": [
        "When including the first letter, the accuracy has now increased to 79.2%. Next, I will include the length of the names, working under the assumption that there is a correlation and difference between the length of female names compared to the length of male names."
      ],
      "metadata": {
        "id": "LWBjOZHNuJx3"
      }
    },
    {
      "cell_type": "code",
      "source": [
        "def gender_features1(word):\n",
        "  return {'first_letter': word[0].lower(), 'suffix1': word[-1:], 'suffix2': word[-2:], 'length': len(word)}\n",
        "\n",
        "train_set = [(gender_features1(n), gender) for (n, gender) in train_names]\n",
        "devtest_set = [(gender_features1(n), gender) for (n, gender) in devtest_names]\n",
        "test_set = [(gender_features1(n), gender) for (n, gender) in test_names]\n",
        "\n",
        "classifier = nltk.NaiveBayesClassifier.train(train_set)\n",
        "print(nltk.classify.accuracy(classifier, devtest_set))"
      ],
      "metadata": {
        "colab": {
          "base_uri": "https://localhost:8080/"
        },
        "id": "LKZAVsHmgJoz",
        "outputId": "8a2df152-55c8-4a15-9431-eb1dc16dabfc"
      },
      "execution_count": 35,
      "outputs": [
        {
          "output_type": "stream",
          "name": "stdout",
          "text": [
            "0.797\n"
          ]
        }
      ]
    },
    {
      "cell_type": "code",
      "source": [
        "errors = []\n",
        "for (name, tag) in devtest_names:\n",
        "  guess = classifier.classify(gender_features1(name))\n",
        "  if guess != tag:\n",
        "    errors.append( (tag, guess, name) )\n",
        "\n",
        "for (tag, guess, name) in sorted(errors)[:10]:\n",
        "  print('correct={:<8} guess={:<8s} name={:<30}'.format(tag, guess, name))"
      ],
      "metadata": {
        "colab": {
          "base_uri": "https://localhost:8080/"
        },
        "id": "2-Obq4Q3ge5Z",
        "outputId": "8c0b49db-3217-4d1a-a45d-33531aa600da"
      },
      "execution_count": 44,
      "outputs": [
        {
          "output_type": "stream",
          "name": "stdout",
          "text": [
            "correct=female   guess=male     name=Abagael                       \n",
            "correct=female   guess=male     name=Abigail                       \n",
            "correct=female   guess=male     name=Anais                         \n",
            "correct=female   guess=male     name=Anett                         \n",
            "correct=female   guess=male     name=Annabel                       \n",
            "correct=female   guess=male     name=Ardis                         \n",
            "correct=female   guess=male     name=Ashlen                        \n",
            "correct=female   guess=male     name=Audrey                        \n",
            "correct=female   guess=male     name=Avrit                         \n",
            "correct=female   guess=male     name=Bellamy                       \n"
          ]
        }
      ]
    },
    {
      "cell_type": "markdown",
      "source": [
        "Considering the length of the name along with the other criterias increases the accuracy to 79.9%."
      ],
      "metadata": {
        "id": "g7myK_gDxk9d"
      }
    },
    {
      "cell_type": "code",
      "source": [
        "def gender_features1(word):\n",
        "  return {'first_letter': word[:2].lower(), 'suffix1': word[-1:], 'suffix2': word[-2:], 'length': len(word)}\n",
        "\n",
        "train_set = [(gender_features1(n), gender) for (n, gender) in train_names]\n",
        "devtest_set = [(gender_features1(n), gender) for (n, gender) in devtest_names]\n",
        "test_set = [(gender_features1(n), gender) for (n, gender) in test_names]\n",
        "\n",
        "classifier = nltk.NaiveBayesClassifier.train(train_set)\n",
        "print(nltk.classify.accuracy(classifier, devtest_set))"
      ],
      "metadata": {
        "colab": {
          "base_uri": "https://localhost:8080/"
        },
        "id": "mkrHILzTgt0K",
        "outputId": "a5035e9a-0493-4fc3-ec00-852d39a02eac"
      },
      "execution_count": 36,
      "outputs": [
        {
          "output_type": "stream",
          "name": "stdout",
          "text": [
            "0.799\n"
          ]
        }
      ]
    },
    {
      "cell_type": "markdown",
      "source": [
        "The most informative features show that the suffix is the most informatice. In this example, the suffix 'na' shows to be 87.5 times more often in female names than in male. Also names ending in \"rd\" happen 29 times more often than in females."
      ],
      "metadata": {
        "id": "c8OlcC3_xrwP"
      }
    },
    {
      "cell_type": "code",
      "source": [
        "classifier.show_most_informative_features(10)\n"
      ],
      "metadata": {
        "colab": {
          "base_uri": "https://localhost:8080/"
        },
        "id": "VsIaEDvVhR_y",
        "outputId": "32c61f31-0d72-42c0-ade9-1db3c6b05e46"
      },
      "execution_count": 37,
      "outputs": [
        {
          "output_type": "stream",
          "name": "stdout",
          "text": [
            "Most Informative Features\n",
            "                 suffix2 = 'na'           female : male   =     87.5 : 1.0\n",
            "                 suffix2 = 'la'           female : male   =     63.7 : 1.0\n",
            "                 suffix2 = 'ra'           female : male   =     55.0 : 1.0\n",
            "                 suffix1 = 'k'              male : female =     40.1 : 1.0\n",
            "                 suffix1 = 'a'            female : male   =     35.9 : 1.0\n",
            "                 suffix2 = 'us'             male : female =     35.3 : 1.0\n",
            "                 suffix2 = 'ia'           female : male   =     34.3 : 1.0\n",
            "                 suffix2 = 'sa'           female : male   =     32.0 : 1.0\n",
            "                 suffix2 = 'rd'             male : female =     29.0 : 1.0\n",
            "                 suffix2 = 'ch'             male : female =     23.0 : 1.0\n"
          ]
        }
      ]
    },
    {
      "cell_type": "code",
      "source": [
        "def gender_features1(word):\n",
        "  features = {}\n",
        "  features[\"first_letter\"] = word[:2].lower()\n",
        "  features[\"suffix1\"] = word[-1:].lower()\n",
        "  features[\"suffix2\"] = word[-2:].lower()\n",
        "  features[\"length\"] = len(word)\n",
        "  for letter in 'aeiou':\n",
        "    features[\"count({})\".format(letter)] = word.lower().count(letter)\n",
        "  for letter in 'bcdfghjklmnpqrstvwxyz':\n",
        "    features[\"count({})\".format(letter)] = word.lower().count(letter)\n",
        "\n",
        "  return features"
      ],
      "metadata": {
        "id": "s7l4KpAXhtp5"
      },
      "execution_count": 99,
      "outputs": []
    },
    {
      "cell_type": "code",
      "source": [
        "train_set = [(gender_features1(n), gender) for (n, gender) in train_names]\n",
        "devtest_set = [(gender_features1(n), gender) for (n, gender) in devtest_names]\n",
        "test_set = [(gender_features1(n), gender) for (n, gender) in test_names]\n",
        "\n",
        "classifier = nltk.NaiveBayesClassifier.train(train_set)\n",
        "print(nltk.classify.accuracy(classifier, devtest_set))"
      ],
      "metadata": {
        "colab": {
          "base_uri": "https://localhost:8080/"
        },
        "id": "_C3Je3o7nybU",
        "outputId": "27d7bc02-42c5-424a-be16-be1226bb0efb"
      },
      "execution_count": 100,
      "outputs": [
        {
          "output_type": "stream",
          "name": "stdout",
          "text": [
            "0.805\n"
          ]
        }
      ]
    },
    {
      "cell_type": "code",
      "source": [
        "classifier.show_most_informative_features(10)\n"
      ],
      "metadata": {
        "colab": {
          "base_uri": "https://localhost:8080/"
        },
        "id": "mI2yXoLvs6cJ",
        "outputId": "fcf86d39-7cc0-4a3e-e11e-b939767bbfde"
      },
      "execution_count": 101,
      "outputs": [
        {
          "output_type": "stream",
          "name": "stdout",
          "text": [
            "Most Informative Features\n",
            "                 suffix2 = 'na'           female : male   =     87.4 : 1.0\n",
            "                 suffix2 = 'la'           female : male   =     64.0 : 1.0\n",
            "                 suffix2 = 'ra'           female : male   =     54.9 : 1.0\n",
            "                 suffix1 = 'k'              male : female =     40.1 : 1.0\n",
            "                 suffix1 = 'a'            female : male   =     35.9 : 1.0\n",
            "                 suffix2 = 'us'             male : female =     35.3 : 1.0\n",
            "                 suffix2 = 'ia'           female : male   =     34.2 : 1.0\n",
            "                 suffix2 = 'sa'           female : male   =     31.9 : 1.0\n",
            "                 suffix2 = 'rd'             male : female =     29.1 : 1.0\n",
            "                 suffix2 = 'ch'             male : female =     23.0 : 1.0\n"
          ]
        }
      ]
    },
    {
      "cell_type": "markdown",
      "source": [
        "This method does not show any new imporatant information. The suffix continue to be the most informative features to be used to identify the male and female names. The best accuracy I achieved was 80.5%."
      ],
      "metadata": {
        "id": "qnYNchd0ymtb"
      }
    },
    {
      "cell_type": "markdown",
      "source": [
        "### Maxent Classifier\n",
        "\n",
        "Maxent is memory hungry, slower, and it requires numpy. The Max Entropy classifier is a probabilistic classifier which belongs to the class of exponential models. It does not assume that the features are conditionally independent of each other."
      ],
      "metadata": {
        "id": "JtjuvR2z5rZE"
      }
    },
    {
      "cell_type": "code",
      "source": [
        "from nltk import MaxentClassifier\n",
        "\n",
        "classifier = MaxentClassifier.train(train_set, max_iter=25)"
      ],
      "metadata": {
        "colab": {
          "base_uri": "https://localhost:8080/"
        },
        "id": "J9sCiy7hzmAd",
        "outputId": "b78b3b5e-e824-4494-de50-4be39b0af109"
      },
      "execution_count": 102,
      "outputs": [
        {
          "output_type": "stream",
          "name": "stdout",
          "text": [
            "  ==> Training (25 iterations)\n",
            "\n",
            "      Iteration    Log Likelihood    Accuracy\n",
            "      ---------------------------------------\n",
            "             1          -0.69315        0.368\n",
            "             2          -0.58046        0.632\n",
            "             3          -0.54560        0.640\n",
            "             4          -0.51553        0.704\n",
            "             5          -0.48972        0.755\n",
            "             6          -0.46758        0.782\n",
            "             7          -0.44854        0.797\n",
            "             8          -0.43211        0.805\n",
            "             9          -0.41785        0.811\n",
            "            10          -0.40541        0.813\n",
            "            11          -0.39448        0.817\n",
            "            12          -0.38484        0.821\n",
            "            13          -0.37628        0.824\n",
            "            14          -0.36864        0.826\n",
            "            15          -0.36178        0.826\n",
            "            16          -0.35560        0.828\n",
            "            17          -0.35001        0.828\n",
            "            18          -0.34492        0.828\n",
            "            19          -0.34028        0.829\n",
            "            20          -0.33603        0.830\n",
            "            21          -0.33212        0.830\n",
            "            22          -0.32852        0.832\n",
            "            23          -0.32518        0.832\n",
            "            24          -0.32209        0.833\n",
            "         Final          -0.31922        0.833\n"
          ]
        }
      ]
    },
    {
      "cell_type": "code",
      "source": [
        "classifier.show_most_informative_features(10)"
      ],
      "metadata": {
        "colab": {
          "base_uri": "https://localhost:8080/"
        },
        "id": "zz2IFEdCz7P3",
        "outputId": "61a5d99a-0b25-4b24-985d-2daddf90a32c"
      },
      "execution_count": 103,
      "outputs": [
        {
          "output_type": "stream",
          "name": "stdout",
          "text": [
            "  -2.787 suffix2=='na' and label is 'male'\n",
            "  -2.710 suffix2=='la' and label is 'male'\n",
            "  -2.702 suffix2=='ra' and label is 'male'\n",
            "  -2.347 suffix1=='k' and label is 'female'\n",
            "  -2.145 suffix2=='sa' and label is 'male'\n",
            "  -2.122 suffix1=='a' and label is 'male'\n",
            "  -2.094 suffix2=='us' and label is 'female'\n",
            "  -2.036 suffix2=='ch' and label is 'female'\n",
            "  -1.963 suffix2=='ia' and label is 'male'\n",
            "  -1.962 suffix2=='sy' and label is 'male'\n"
          ]
        }
      ]
    },
    {
      "cell_type": "markdown",
      "source": [
        "Using the Maxent Classifier method, it shows a more informative outputs. The accuracy is also achieves a 83.3"
      ],
      "metadata": {
        "id": "kgpJdBSt0Fmp"
      }
    },
    {
      "cell_type": "markdown",
      "source": [
        "## Conclusion\n",
        "\n"
      ],
      "metadata": {
        "id": "EeDle7vfyyGA"
      }
    },
    {
      "cell_type": "markdown",
      "source": [
        "By using the Maxent Classifier and the optimal gender features I am able to achieve 83.9% accuracy. With NaiveClassifier, I was able to achiece 80.5% accuracy. The most important features are the suffix when considering the last two letters. Features like the frequency of vowels"
      ],
      "metadata": {
        "id": "-Ko4m5CU0S8X"
      }
    }
  ]
}