{
  "nbformat": 4,
  "nbformat_minor": 0,
  "metadata": {
    "colab": {
      "provenance": []
    },
    "kernelspec": {
      "name": "python3",
      "display_name": "Python 3"
    },
    "language_info": {
      "name": "python"
    }
  },
  "cells": [
    {
      "cell_type": "markdown",
      "source": [
        "## Homework - Week 8\n",
        "### Moiya Josephs"
      ],
      "metadata": {
        "id": "MG8FW5gGziBM"
      }
    },
    {
      "cell_type": "code",
      "execution_count": 40,
      "metadata": {
        "colab": {
          "base_uri": "https://localhost:8080/"
        },
        "id": "Ou75b7pVzg15",
        "outputId": "cb753dcc-4538-4582-b89e-1162b0cd156e"
      },
      "outputs": [
        {
          "output_type": "stream",
          "name": "stderr",
          "text": [
            "[nltk_data] Downloading package stopwords to /root/nltk_data...\n",
            "[nltk_data]   Unzipping corpora/stopwords.zip.\n"
          ]
        },
        {
          "output_type": "execute_result",
          "data": {
            "text/plain": [
              "True"
            ]
          },
          "metadata": {},
          "execution_count": 40
        }
      ],
      "source": [
        "from nltk.tokenize import word_tokenize, RegexpTokenizer\n",
        "from collections import Counter\n",
        "import nltk\n",
        "from nltk.text import Text\n"
      ]
    },
    {
      "cell_type": "code",
      "source": [
        "nltk.download('stopwords')\n"
      ],
      "metadata": {
        "id": "1CaIsyJpXlV5"
      },
      "execution_count": null,
      "outputs": []
    },
    {
      "cell_type": "code",
      "source": [
        "bible = nltk.corpus.gutenberg.words('bible-kjv.txt')\n"
      ],
      "metadata": {
        "id": "NTbM61LyWoHI"
      },
      "execution_count": 38,
      "outputs": []
    },
    {
      "cell_type": "code",
      "source": [
        "# only select words\n",
        "bible = [w for w in bible if w.isalpha()]\n",
        "# strip out stop words\n",
        "from nltk.corpus import stopwords\n",
        "bible = [w for w in bible if w not in stopwords.words('english')]"
      ],
      "metadata": {
        "id": "b8PLdHl4XTcn"
      },
      "execution_count": 41,
      "outputs": []
    },
    {
      "cell_type": "markdown",
      "source": [
        "### Question 2\n",
        "\n",
        "Unique words"
      ],
      "metadata": {
        "id": "bOQt4825fuoL"
      }
    },
    {
      "cell_type": "code",
      "source": [
        "bible_unique = set(bible)\n",
        "len(bible_unique)"
      ],
      "metadata": {
        "colab": {
          "base_uri": "https://localhost:8080/"
        },
        "id": "x7oYqf48XrlH",
        "outputId": "155e542c-3e44-4c3c-a4b9-9eb05b95ca98"
      },
      "execution_count": 42,
      "outputs": [
        {
          "output_type": "execute_result",
          "data": {
            "text/plain": [
              "13448"
            ]
          },
          "metadata": {},
          "execution_count": 42
        }
      ]
    },
    {
      "cell_type": "markdown",
      "source": [
        "### Question 3"
      ],
      "metadata": {
        "id": "rag02vb6gCaX"
      }
    },
    {
      "cell_type": "code",
      "source": [],
      "metadata": {
        "id": "8ujjGCrxgaKY"
      },
      "execution_count": null,
      "outputs": []
    },
    {
      "cell_type": "code",
      "source": [
        "freq_dict = nltk.FreqDist(bible)\n"
      ],
      "metadata": {
        "id": "WWblCKk-XzIa"
      },
      "execution_count": 65,
      "outputs": []
    },
    {
      "cell_type": "code",
      "source": [
        "unique = {k:v for k, v in freq_dict.items() if v == 1}"
      ],
      "metadata": {
        "id": "fBdIPJuCh0EO"
      },
      "execution_count": 101,
      "outputs": []
    },
    {
      "cell_type": "code",
      "source": [
        "len(unique)"
      ],
      "metadata": {
        "colab": {
          "base_uri": "https://localhost:8080/"
        },
        "id": "BN4YcbqLh_6n",
        "outputId": "76354653-a62b-48f5-9f56-9d886705a18d"
      },
      "execution_count": 102,
      "outputs": [
        {
          "output_type": "execute_result",
          "data": {
            "text/plain": [
              "4382"
            ]
          },
          "metadata": {},
          "execution_count": 102
        }
      ]
    },
    {
      "cell_type": "code",
      "source": [
        "from builtins import sum\n",
        "sum(freq_dict.values())\n"
      ],
      "metadata": {
        "colab": {
          "base_uri": "https://localhost:8080/"
        },
        "id": "8kWg92HJibuV",
        "outputId": "0a9dc879-f640-464b-f6cd-6200b6a8b77f"
      },
      "execution_count": 116,
      "outputs": [
        {
          "output_type": "execute_result",
          "data": {
            "text/plain": [
              "413875"
            ]
          },
          "metadata": {},
          "execution_count": 116
        }
      ]
    },
    {
      "cell_type": "code",
      "source": [
        "4382/413875"
      ],
      "metadata": {
        "colab": {
          "base_uri": "https://localhost:8080/"
        },
        "id": "5bvZOvegkfVr",
        "outputId": "24db312c-5ff9-4986-9f44-b54b08fd9a88"
      },
      "execution_count": 117,
      "outputs": [
        {
          "output_type": "execute_result",
          "data": {
            "text/plain": [
              "0.010587737843551798"
            ]
          },
          "metadata": {},
          "execution_count": 117
        }
      ]
    },
    {
      "cell_type": "markdown",
      "source": [
        "## Question 4"
      ],
      "metadata": {
        "id": "2QzFpZNwktpY"
      }
    },
    {
      "cell_type": "code",
      "source": [
        "freq_dict.most_common(200)"
      ],
      "metadata": {
        "colab": {
          "base_uri": "https://localhost:8080/"
        },
        "id": "touOG6V2fhxA",
        "outputId": "f7d1c77e-235d-4277-f506-0f65b391b004"
      },
      "execution_count": 93,
      "outputs": [
        {
          "output_type": "execute_result",
          "data": {
            "text/plain": [
              "[('And', 12846),\n",
              " ('shall', 9760),\n",
              " ('unto', 8940),\n",
              " ('I', 8854),\n",
              " ('LORD', 6651),\n",
              " ('thou', 4890),\n",
              " ('thy', 4450),\n",
              " ('God', 4115),\n",
              " ('said', 3995),\n",
              " ('thee', 3827),\n",
              " ('ye', 3701),\n",
              " ('upon', 2730),\n",
              " ('man', 2721),\n",
              " ('Israel', 2574),\n",
              " ('king', 2465),\n",
              " ('hath', 2239),\n",
              " ('people', 2143),\n",
              " ('son', 2107),\n",
              " ('came', 2091),\n",
              " ('house', 2023),\n",
              " ('The', 1902),\n",
              " ('come', 1849),\n",
              " ('one', 1847),\n",
              " ('children', 1815),\n",
              " ('For', 1743),\n",
              " ('day', 1740),\n",
              " ('land', 1718),\n",
              " ('also', 1665),\n",
              " ('men', 1657),\n",
              " ('shalt', 1613),\n",
              " ('But', 1558),\n",
              " ('hand', 1466),\n",
              " ('us', 1451),\n",
              " ('made', 1405),\n",
              " ('went', 1399),\n",
              " ('saying', 1390),\n",
              " ('Then', 1374),\n",
              " ('even', 1297),\n",
              " ('saith', 1262),\n",
              " ('go', 1257),\n",
              " ('every', 1178),\n",
              " ('things', 1162),\n",
              " ('sons', 1094),\n",
              " ('let', 1081),\n",
              " ('Lord', 1066),\n",
              " ('O', 1065),\n",
              " ('David', 1064),\n",
              " ('hast', 1036),\n",
              " ('may', 1024),\n",
              " ('say', 1010),\n",
              " ('make', 1008),\n",
              " ('earth', 985),\n",
              " ('Jesus', 977),\n",
              " ('name', 957),\n",
              " ('great', 948),\n",
              " ('thine', 916),\n",
              " ('away', 910),\n",
              " ('thereof', 906),\n",
              " ('among', 903),\n",
              " ('forth', 888),\n",
              " ('put', 881),\n",
              " ('city', 868),\n",
              " ('days', 867),\n",
              " ('brought', 862),\n",
              " ('father', 854),\n",
              " ('Moses', 852),\n",
              " ('heart', 833),\n",
              " ('two', 823),\n",
              " ('pass', 822),\n",
              " ('Judah', 816),\n",
              " ('Jerusalem', 814),\n",
              " ('therefore', 802),\n",
              " ('give', 792),\n",
              " ('neither', 776),\n",
              " ('according', 762),\n",
              " ('He', 754),\n",
              " ('took', 749),\n",
              " ('behold', 730),\n",
              " ('know', 729),\n",
              " ('offering', 724),\n",
              " ('place', 716),\n",
              " ('take', 715),\n",
              " ('good', 711),\n",
              " ('word', 692),\n",
              " ('sent', 684),\n",
              " ('bring', 678),\n",
              " ('set', 676),\n",
              " ('way', 664),\n",
              " ('like', 656),\n",
              " ('eat', 649),\n",
              " ('Now', 643),\n",
              " ('heard', 641),\n",
              " ('called', 624),\n",
              " ('time', 623),\n",
              " ('mine', 623),\n",
              " ('So', 622),\n",
              " ('Egypt', 611),\n",
              " ('evil', 610),\n",
              " ('Behold', 596),\n",
              " ('hundred', 590),\n",
              " ('spake', 585),\n",
              " ('Thou', 584),\n",
              " ('heaven', 578),\n",
              " ('Christ', 571),\n",
              " ('done', 565),\n",
              " ('yet', 564),\n",
              " ('see', 558),\n",
              " ('brethren', 552),\n",
              " ('fire', 548),\n",
              " ('saw', 547),\n",
              " ('fathers', 547),\n",
              " ('words', 546),\n",
              " ('priest', 543),\n",
              " ('thing', 541),\n",
              " ('years', 539),\n",
              " ('many', 535),\n",
              " ('law', 523),\n",
              " ('thousand', 520),\n",
              " ('voice', 505),\n",
              " ('eyes', 502),\n",
              " ('given', 498),\n",
              " ('servant', 498),\n",
              " ('answered', 492),\n",
              " ('If', 485),\n",
              " ('together', 484),\n",
              " ('cast', 482),\n",
              " ('three', 477),\n",
              " ('servants', 476),\n",
              " ('ever', 475),\n",
              " ('might', 475),\n",
              " ('holy', 467),\n",
              " ('gave', 465),\n",
              " ('hands', 462),\n",
              " ('soul', 458),\n",
              " ('life', 450),\n",
              " ('another', 450),\n",
              " ('seven', 448),\n",
              " ('cities', 448),\n",
              " ('Thus', 447),\n",
              " ('blood', 447),\n",
              " ('art', 444),\n",
              " ('speak', 444),\n",
              " ('commanded', 443),\n",
              " ('would', 443),\n",
              " ('side', 442),\n",
              " ('sin', 441),\n",
              " ('hear', 440),\n",
              " ('Therefore', 435),\n",
              " ('first', 432),\n",
              " ('Let', 430),\n",
              " ('mouth', 423),\n",
              " ('sword', 422),\n",
              " ('without', 420),\n",
              " ('work', 420),\n",
              " ('flesh', 420),\n",
              " ('Saul', 420),\n",
              " ('gold', 417),\n",
              " ('face', 416),\n",
              " ('wife', 407),\n",
              " ('They', 406),\n",
              " ('peace', 403),\n",
              " ('found', 402),\n",
              " ('sea', 400),\n",
              " ('brother', 399),\n",
              " ('priests', 399),\n",
              " ('glory', 397),\n",
              " ('water', 396),\n",
              " ('high', 383),\n",
              " ('old', 380),\n",
              " ('altar', 378),\n",
              " ('Jacob', 377),\n",
              " ('year', 369),\n",
              " ('death', 369),\n",
              " ('burnt', 366),\n",
              " ('midst', 364),\n",
              " ('congregation', 364),\n",
              " ('head', 363),\n",
              " ('dead', 362),\n",
              " ('drink', 361),\n",
              " ('bread', 359),\n",
              " ('right', 359),\n",
              " ('woman', 355),\n",
              " ('Aaron', 350),\n",
              " ('When', 349),\n",
              " ('left', 348),\n",
              " ('toward', 346),\n",
              " ('none', 346),\n",
              " ('wicked', 343),\n",
              " ('five', 342),\n",
              " ('kingdom', 342),\n",
              " ('keep', 341),\n",
              " ('fear', 341),\n",
              " ('stood', 339),\n",
              " ('taken', 338),\n",
              " ('dwell', 337),\n",
              " ('spirit', 337),\n",
              " ('In', 336),\n",
              " ('nations', 336),\n",
              " ('What', 335),\n",
              " ('That', 335)]"
            ]
          },
          "metadata": {},
          "execution_count": 93
        }
      ]
    },
    {
      "cell_type": "markdown",
      "source": [
        "### Question 5"
      ],
      "metadata": {
        "id": "qOxKMueifXir"
      }
    },
    {
      "cell_type": "code",
      "source": [
        "import pandas as pd\n",
        "import matplotlib.pyplot as plt\n",
        "import seaborn as sns"
      ],
      "metadata": {
        "id": "w33lBpm4PTTu"
      },
      "execution_count": 44,
      "outputs": []
    },
    {
      "cell_type": "code",
      "source": [
        "freq_dict.plot(20,cumulative=False)\n"
      ],
      "metadata": {
        "colab": {
          "base_uri": "https://localhost:8080/",
          "height": 501
        },
        "id": "S3BdgXRTPQHS",
        "outputId": "c78f84af-e359-4fb3-fe8d-beaf73b26704"
      },
      "execution_count": 66,
      "outputs": [
        {
          "output_type": "display_data",
          "data": {
            "text/plain": [
              "<Figure size 640x480 with 1 Axes>"
            ],
            "image/png": "[encoded data removed]"
          },
          "metadata": {}
        },
        {
          "output_type": "execute_result",
          "data": {
            "text/plain": [
              "<Axes: xlabel='Samples', ylabel='Counts'>"
            ]
          },
          "metadata": {},
          "execution_count": 66
        }
      ]
    },
    {
      "cell_type": "code",
      "source": [
        "total = sum(freq_dict.values(), 0.0)\n",
        "total"
      ],
      "metadata": {
        "colab": {
          "base_uri": "https://localhost:8080/"
        },
        "id": "MnKE1tR4Tqa7",
        "outputId": "3b5b1dba-ac82-4170-92e3-9d1dc45b77ef"
      },
      "execution_count": 67,
      "outputs": [
        {
          "output_type": "execute_result",
          "data": {
            "text/plain": [
              "413875.0"
            ]
          },
          "metadata": {},
          "execution_count": 67
        }
      ]
    },
    {
      "cell_type": "code",
      "source": [
        "freq_dict.plot(20,cumulative=False)\n"
      ],
      "metadata": {
        "colab": {
          "base_uri": "https://localhost:8080/",
          "height": 501
        },
        "id": "za5BxIllVNiO",
        "outputId": "011c4233-a1f2-45d7-cca9-a5b7735ef68c"
      },
      "execution_count": 80,
      "outputs": [
        {
          "output_type": "display_data",
          "data": {
            "text/plain": [
              "<Figure size 640x480 with 1 Axes>"
            ],
            "image/png": "[encoded data removed]"
          },
          "metadata": {}
        },
        {
          "output_type": "execute_result",
          "data": {
            "text/plain": [
              "<Axes: xlabel='Samples', ylabel='Counts'>"
            ]
          },
          "metadata": {},
          "execution_count": 80
        }
      ]
    },
    {
      "cell_type": "code",
      "source": [
        "len(bible)"
      ],
      "metadata": {
        "colab": {
          "base_uri": "https://localhost:8080/"
        },
        "id": "1-0XqukydzE_",
        "outputId": "a1ec0fbd-6095-4ffc-8de8-3d6009b63f1a"
      },
      "execution_count": 89,
      "outputs": [
        {
          "output_type": "execute_result",
          "data": {
            "text/plain": [
              "413875"
            ]
          },
          "metadata": {},
          "execution_count": 89
        }
      ]
    },
    {
      "cell_type": "code",
      "source": [
        "top200 = pd.DataFrame(freq_dict.most_common(200),columns=['word','count'])\n",
        "top200['rel_freq'] = top200['count']/total\n",
        "top200.head(10)"
      ],
      "metadata": {
        "colab": {
          "base_uri": "https://localhost:8080/",
          "height": 363
        },
        "id": "cvz0hQiCYFh0",
        "outputId": "4b4e4417-da69-46bf-b1b2-b27272799a1c"
      },
      "execution_count": 91,
      "outputs": [
        {
          "output_type": "execute_result",
          "data": {
            "text/plain": [
              "    word  count  rel_freq\n",
              "0    And  12846  0.031038\n",
              "1  shall   9760  0.023582\n",
              "2   unto   8940  0.021601\n",
              "3      I   8854  0.021393\n",
              "4   LORD   6651  0.016070\n",
              "5   thou   4890  0.011815\n",
              "6    thy   4450  0.010752\n",
              "7    God   4115  0.009943\n",
              "8   said   3995  0.009653\n",
              "9   thee   3827  0.009247"
            ],
            "text/html": [
              "\n",
              "  <div id=\"df-c8fa6c86-5023-4ef8-b5d3-101ab837f16a\" class=\"colab-df-container\">\n",
              "    <div>\n",
              "<style scoped>\n",
              "    .dataframe tbody tr th:only-of-type {\n",
              "        vertical-align: middle;\n",
              "    }\n",
              "\n",
              "    .dataframe tbody tr th {\n",
              "        vertical-align: top;\n",
              "    }\n",
              "\n",
              "    .dataframe thead th {\n",
              "        text-align: right;\n",
              "    }\n",
              "</style>\n",
              "<table border=\"1\" class=\"dataframe\">\n",
              "  <thead>\n",
              "    <tr style=\"text-align: right;\">\n",
              "      <th></th>\n",
              "      <th>word</th>\n",
              "      <th>count</th>\n",
              "      <th>rel_freq</th>\n",
              "    </tr>\n",
              "  </thead>\n",
              "  <tbody>\n",
              "    <tr>\n",
              "      <th>0</th>\n",
              "      <td>And</td>\n",
              "      <td>12846</td>\n",
              "      <td>0.031038</td>\n",
              "    </tr>\n",
              "    <tr>\n",
              "      <th>1</th>\n",
              "      <td>shall</td>\n",
              "      <td>9760</td>\n",
              "      <td>0.023582</td>\n",
              "    </tr>\n",
              "    <tr>\n",
              "      <th>2</th>\n",
              "      <td>unto</td>\n",
              "      <td>8940</td>\n",
              "      <td>0.021601</td>\n",
              "    </tr>\n",
              "    <tr>\n",
              "      <th>3</th>\n",
              "      <td>I</td>\n",
              "      <td>8854</td>\n",
              "      <td>0.021393</td>\n",
              "    </tr>\n",
              "    <tr>\n",
              "      <th>4</th>\n",
              "      <td>LORD</td>\n",
              "      <td>6651</td>\n",
              "      <td>0.016070</td>\n",
              "    </tr>\n",
              "    <tr>\n",
              "      <th>5</th>\n",
              "      <td>thou</td>\n",
              "      <td>4890</td>\n",
              "      <td>0.011815</td>\n",
              "    </tr>\n",
              "    <tr>\n",
              "      <th>6</th>\n",
              "      <td>thy</td>\n",
              "      <td>4450</td>\n",
              "      <td>0.010752</td>\n",
              "    </tr>\n",
              "    <tr>\n",
              "      <th>7</th>\n",
              "      <td>God</td>\n",
              "      <td>4115</td>\n",
              "      <td>0.009943</td>\n",
              "    </tr>\n",
              "    <tr>\n",
              "      <th>8</th>\n",
              "      <td>said</td>\n",
              "      <td>3995</td>\n",
              "      <td>0.009653</td>\n",
              "    </tr>\n",
              "    <tr>\n",
              "      <th>9</th>\n",
              "      <td>thee</td>\n",
              "      <td>3827</td>\n",
              "      <td>0.009247</td>\n",
              "    </tr>\n",
              "  </tbody>\n",
              "</table>\n",
              "</div>\n",
              "    <div class=\"colab-df-buttons\">\n",
              "\n",
              "  <div class=\"colab-df-container\">\n",
              "    <button class=\"colab-df-convert\" onclick=\"convertToInteractive('df-c8fa6c86-5023-4ef8-b5d3-101ab837f16a')\"\n",
              "            title=\"Convert this dataframe to an interactive table.\"\n",
              "            style=\"display:none;\">\n",
              "\n",
              "  <svg xmlns=\"http://www.w3.org/2000/svg\" height=\"24px\" viewBox=\"0 -960 960 960\">\n",
              "    <path d=\"M120-120v-720h720v720H120Zm60-500h600v-160H180v160Zm220 220h160v-160H400v160Zm0 220h160v-160H400v160ZM180-400h160v-160H180v160Zm440 0h160v-160H620v160ZM180-180h160v-160H180v160Zm440 0h160v-160H620v160Z\"/>\n",
              "  </svg>\n",
              "    </button>\n",
              "\n",
              "  <style>\n",
              "    .colab-df-container {\n",
              "      display:flex;\n",
              "      gap: 12px;\n",
              "    }\n",
              "\n",
              "    .colab-df-convert {\n",
              "      background-color: #E8F0FE;\n",
              "      border: none;\n",
              "      border-radius: 50%;\n",
              "      cursor: pointer;\n",
              "      display: none;\n",
              "      fill: #1967D2;\n",
              "      height: 32px;\n",
              "      padding: 0 0 0 0;\n",
              "      width: 32px;\n",
              "    }\n",
              "\n",
              "    .colab-df-convert:hover {\n",
              "      background-color: #E2EBFA;\n",
              "      box-shadow: 0px 1px 2px rgba(60, 64, 67, 0.3), 0px 1px 3px 1px rgba(60, 64, 67, 0.15);\n",
              "      fill: #174EA6;\n",
              "    }\n",
              "\n",
              "    .colab-df-buttons div {\n",
              "      margin-bottom: 4px;\n",
              "    }\n",
              "\n",
              "    [theme=dark] .colab-df-convert {\n",
              "      background-color: #3B4455;\n",
              "      fill: #D2E3FC;\n",
              "    }\n",
              "\n",
              "    [theme=dark] .colab-df-convert:hover {\n",
              "      background-color: #434B5C;\n",
              "      box-shadow: 0px 1px 3px 1px rgba(0, 0, 0, 0.15);\n",
              "      filter: drop-shadow(0px 1px 2px rgba(0, 0, 0, 0.3));\n",
              "      fill: #FFFFFF;\n",
              "    }\n",
              "  </style>\n",
              "\n",
              "    <script>\n",
              "      const buttonEl =\n",
              "        document.querySelector('#df-c8fa6c86-5023-4ef8-b5d3-101ab837f16a button.colab-df-convert');\n",
              "      buttonEl.style.display =\n",
              "        google.colab.kernel.accessAllowed ? 'block' : 'none';\n",
              "\n",
              "      async function convertToInteractive(key) {\n",
              "        const element = document.querySelector('#df-c8fa6c86-5023-4ef8-b5d3-101ab837f16a');\n",
              "        const dataTable =\n",
              "          await google.colab.kernel.invokeFunction('convertToInteractive',\n",
              "                                                    [key], {});\n",
              "        if (!dataTable) return;\n",
              "\n",
              "        const docLinkHtml = 'Like what you see? Visit the ' +\n",
              "          '<a target=\"_blank\" href=https://colab.research.google.com/notebooks/data_table.ipynb>data table notebook</a>'\n",
              "          + ' to learn more about interactive tables.';\n",
              "        element.innerHTML = '';\n",
              "        dataTable['output_type'] = 'display_data';\n",
              "        await google.colab.output.renderOutput(dataTable, element);\n",
              "        const docLink = document.createElement('div');\n",
              "        docLink.innerHTML = docLinkHtml;\n",
              "        element.appendChild(docLink);\n",
              "      }\n",
              "    </script>\n",
              "  </div>\n",
              "\n",
              "\n",
              "<div id=\"df-7bcc8cea-e70f-463c-9f3c-fb9ada46f323\">\n",
              "  <button class=\"colab-df-quickchart\" onclick=\"quickchart('df-7bcc8cea-e70f-463c-9f3c-fb9ada46f323')\"\n",
              "            title=\"Suggest charts\"\n",
              "            style=\"display:none;\">\n",
              "\n",
              "<svg xmlns=\"http://www.w3.org/2000/svg\" height=\"24px\"viewBox=\"0 0 24 24\"\n",
              "     width=\"24px\">\n",
              "    <g>\n",
              "        <path d=\"M19 3H5c-1.1 0-2 .9-2 2v14c0 1.1.9 2 2 2h14c1.1 0 2-.9 2-2V5c0-1.1-.9-2-2-2zM9 17H7v-7h2v7zm4 0h-2V7h2v10zm4 0h-2v-4h2v4z\"/>\n",
              "    </g>\n",
              "</svg>\n",
              "  </button>\n",
              "\n",
              "<style>\n",
              "  .colab-df-quickchart {\n",
              "      --bg-color: #E8F0FE;\n",
              "      --fill-color: #1967D2;\n",
              "      --hover-bg-color: #E2EBFA;\n",
              "      --hover-fill-color: #174EA6;\n",
              "      --disabled-fill-color: #AAA;\n",
              "      --disabled-bg-color: #DDD;\n",
              "  }\n",
              "\n",
              "  [theme=dark] .colab-df-quickchart {\n",
              "      --bg-color: #3B4455;\n",
              "      --fill-color: #D2E3FC;\n",
              "      --hover-bg-color: #434B5C;\n",
              "      --hover-fill-color: #FFFFFF;\n",
              "      --disabled-bg-color: #3B4455;\n",
              "      --disabled-fill-color: #666;\n",
              "  }\n",
              "\n",
              "  .colab-df-quickchart {\n",
              "    background-color: var(--bg-color);\n",
              "    border: none;\n",
              "    border-radius: 50%;\n",
              "    cursor: pointer;\n",
              "    display: none;\n",
              "    fill: var(--fill-color);\n",
              "    height: 32px;\n",
              "    padding: 0;\n",
              "    width: 32px;\n",
              "  }\n",
              "\n",
              "  .colab-df-quickchart:hover {\n",
              "    background-color: var(--hover-bg-color);\n",
              "    box-shadow: 0 1px 2px rgba(60, 64, 67, 0.3), 0 1px 3px 1px rgba(60, 64, 67, 0.15);\n",
              "    fill: var(--button-hover-fill-color);\n",
              "  }\n",
              "\n",
              "  .colab-df-quickchart-complete:disabled,\n",
              "  .colab-df-quickchart-complete:disabled:hover {\n",
              "    background-color: var(--disabled-bg-color);\n",
              "    fill: var(--disabled-fill-color);\n",
              "    box-shadow: none;\n",
              "  }\n",
              "\n",
              "  .colab-df-spinner {\n",
              "    border: 2px solid var(--fill-color);\n",
              "    border-color: transparent;\n",
              "    border-bottom-color: var(--fill-color);\n",
              "    animation:\n",
              "      spin 1s steps(1) infinite;\n",
              "  }\n",
              "\n",
              "  @keyframes spin {\n",
              "    0% {\n",
              "      border-color: transparent;\n",
              "      border-bottom-color: var(--fill-color);\n",
              "      border-left-color: var(--fill-color);\n",
              "    }\n",
              "    20% {\n",
              "      border-color: transparent;\n",
              "      border-left-color: var(--fill-color);\n",
              "      border-top-color: var(--fill-color);\n",
              "    }\n",
              "    30% {\n",
              "      border-color: transparent;\n",
              "      border-left-color: var(--fill-color);\n",
              "      border-top-color: var(--fill-color);\n",
              "      border-right-color: var(--fill-color);\n",
              "    }\n",
              "    40% {\n",
              "      border-color: transparent;\n",
              "      border-right-color: var(--fill-color);\n",
              "      border-top-color: var(--fill-color);\n",
              "    }\n",
              "    60% {\n",
              "      border-color: transparent;\n",
              "      border-right-color: var(--fill-color);\n",
              "    }\n",
              "    80% {\n",
              "      border-color: transparent;\n",
              "      border-right-color: var(--fill-color);\n",
              "      border-bottom-color: var(--fill-color);\n",
              "    }\n",
              "    90% {\n",
              "      border-color: transparent;\n",
              "      border-bottom-color: var(--fill-color);\n",
              "    }\n",
              "  }\n",
              "</style>\n",
              "\n",
              "  <script>\n",
              "    async function quickchart(key) {\n",
              "      const quickchartButtonEl =\n",
              "        document.querySelector('#' + key + ' button');\n",
              "      quickchartButtonEl.disabled = true;  // To prevent multiple clicks.\n",
              "      quickchartButtonEl.classList.add('colab-df-spinner');\n",
              "      try {\n",
              "        const charts = await google.colab.kernel.invokeFunction(\n",
              "            'suggestCharts', [key], {});\n",
              "      } catch (error) {\n",
              "        console.error('Error during call to suggestCharts:', error);\n",
              "      }\n",
              "      quickchartButtonEl.classList.remove('colab-df-spinner');\n",
              "      quickchartButtonEl.classList.add('colab-df-quickchart-complete');\n",
              "    }\n",
              "    (() => {\n",
              "      let quickchartButtonEl =\n",
              "        document.querySelector('#df-7bcc8cea-e70f-463c-9f3c-fb9ada46f323 button');\n",
              "      quickchartButtonEl.style.display =\n",
              "        google.colab.kernel.accessAllowed ? 'block' : 'none';\n",
              "    })();\n",
              "  </script>\n",
              "</div>\n",
              "\n",
              "    </div>\n",
              "  </div>\n"
            ],
            "application/vnd.google.colaboratory.intrinsic+json": {
              "type": "dataframe",
              "variable_name": "top200",
              "summary": "{\n  \"name\": \"top200\",\n  \"rows\": 200,\n  \"fields\": [\n    {\n      \"column\": \"word\",\n      \"properties\": {\n        \"dtype\": \"string\",\n        \"num_unique_values\": 200,\n        \"samples\": [\n          \"So\",\n          \"hath\",\n          \"But\"\n        ],\n        \"semantic_type\": \"\",\n        \"description\": \"\"\n      }\n    },\n    {\n      \"column\": \"count\",\n      \"properties\": {\n        \"dtype\": \"number\",\n        \"std\": 1574,\n        \"min\": 335,\n        \"max\": 12846,\n        \"num_unique_values\": 178,\n        \"samples\": [\n          2023,\n          1065,\n          430\n        ],\n        \"semantic_type\": \"\",\n        \"description\": \"\"\n      }\n    },\n    {\n      \"column\": \"rel_freq\",\n      \"properties\": {\n        \"dtype\": \"number\",\n        \"std\": 0.0038050038862853333,\n        \"min\": 0.0008094231350045303,\n        \"max\": 0.031038356991845362,\n        \"num_unique_values\": 178,\n        \"samples\": [\n          0.004887949260042284,\n          0.0025732407127755964,\n          0.001038961038961039\n        ],\n        \"semantic_type\": \"\",\n        \"description\": \"\"\n      }\n    }\n  ]\n}"
            }
          },
          "metadata": {},
          "execution_count": 91
        }
      ]
    },
    {
      "cell_type": "code",
      "source": [
        "sum(top200[:99]['rel_freq'])\n"
      ],
      "metadata": {
        "colab": {
          "base_uri": "https://localhost:8080/"
        },
        "id": "pBtyLmK-ZvC6",
        "outputId": "0b8893a3-740a-4c75-ada7-ff61d17e05b1"
      },
      "execution_count": 92,
      "outputs": [
        {
          "output_type": "execute_result",
          "data": {
            "text/plain": [
              "0.41860948353971594"
            ]
          },
          "metadata": {},
          "execution_count": 92
        }
      ]
    },
    {
      "cell_type": "code",
      "source": [
        "freq_dict.plot(20, cumulative=True)\n"
      ],
      "metadata": {
        "colab": {
          "base_uri": "https://localhost:8080/",
          "height": 501
        },
        "id": "nAI_P6KgckjC",
        "outputId": "a0979ad1-2dd4-4205-86c7-2ba269fcd959"
      },
      "execution_count": 86,
      "outputs": [
        {
          "output_type": "display_data",
          "data": {
            "text/plain": [
              "<Figure size 640x480 with 1 Axes>"
            ],
            "image/png": "[encoded data removed]"
          },
          "metadata": {}
        },
        {
          "output_type": "execute_result",
          "data": {
            "text/plain": [
              "<Axes: xlabel='Samples', ylabel='Cumulative Counts'>"
            ]
          },
          "metadata": {},
          "execution_count": 86
        }
      ]
    },
    {
      "cell_type": "markdown",
      "source": [
        "### Question 6\n"
      ],
      "metadata": {
        "id": "RGt1J8HvfRAM"
      }
    },
    {
      "cell_type": "markdown",
      "source": [
        "\n",
        "Zipf's law is a relation between rank order and frequency of occurrence. The words are ranked by their frequency, the frequency of a particular observation is inversely proportional to its rank. The two graphs above show that the counts and the relative frequency are inverse."
      ],
      "metadata": {
        "id": "kZ0ARi4Bcxwt"
      }
    },
    {
      "cell_type": "markdown",
      "source": [
        "### Question 7"
      ],
      "metadata": {
        "id": "hGzFah8efMoA"
      }
    },
    {
      "cell_type": "markdown",
      "source": [
        "The frequency of the words would differ from “all words in all corpora.” There would be words that have a higher frequency. Words like \"All\" and \"I\" would be common as well in both groups, however."
      ],
      "metadata": {
        "id": "LEFaFP7ueXxX"
      }
    }
  ]
}